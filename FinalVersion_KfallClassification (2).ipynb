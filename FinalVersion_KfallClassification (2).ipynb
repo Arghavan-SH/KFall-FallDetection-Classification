{
  "cells": [
    {
      "cell_type": "markdown",
      "metadata": {
        "id": "JcdhLD09xiJR"
      },
      "source": [
        "# KFall Dataset-Classification"
      ]
    },
    {
      "cell_type": "code",
      "execution_count": 1,
      "metadata": {
        "_cell_guid": "b1076dfc-b9ad-4769-8c92-a6c4dae69d19",
        "_uuid": "8f2839f25d086af736a60e9eeb907d3b93b6e0e5",
        "execution": {
          "iopub.execute_input": "2022-12-21T14:56:24.76798Z",
          "iopub.status.busy": "2022-12-21T14:56:24.764385Z",
          "iopub.status.idle": "2022-12-21T14:56:35.835957Z",
          "shell.execute_reply": "2022-12-21T14:56:35.834842Z",
          "shell.execute_reply.started": "2022-12-21T14:56:24.767859Z"
        },
        "id": "yJbhzMKaxiJV"
      },
      "outputs": [],
      "source": [
        "import os\n",
        "import numpy as np\n",
        "import pandas as pd\n",
        "import tensorflow as tf\n",
        "from tensorflow import keras\n",
        "from tensorflow.keras import layers\n",
        "import matplotlib.pyplot as plt\n",
        "import matplotlib as mpl\n",
        "from sklearn.model_selection import train_test_split\n",
        "import time\n",
        "from scipy import signal\n",
        "import sklearn.metrics\n",
        "from sklearn.metrics import confusion_matrix\n",
        "import seaborn as sb"
      ]
    },
    {
      "cell_type": "code",
      "source": [
        "from google.colab import drive\n",
        "drive.mount('/gdrive')"
      ],
      "metadata": {
        "colab": {
          "base_uri": "https://localhost:8080/"
        },
        "id": "VhzqhUqnyduO",
        "outputId": "fdd635b3-13e4-4b2c-d969-8a5286158319"
      },
      "execution_count": 2,
      "outputs": [
        {
          "output_type": "stream",
          "name": "stdout",
          "text": [
            "Mounted at /gdrive\n"
          ]
        }
      ]
    },
    {
      "cell_type": "code",
      "source": [
        "cd /gdrive/My\\Drive/KFall"
      ],
      "metadata": {
        "colab": {
          "base_uri": "https://localhost:8080/"
        },
        "id": "75btMZX7xnHU",
        "outputId": "51e6a56e-9160-422d-b128-d653cfae48ae"
      },
      "execution_count": 3,
      "outputs": [
        {
          "output_type": "stream",
          "name": "stdout",
          "text": [
            "/gdrive/MyDrive/KFall\n"
          ]
        }
      ]
    },
    {
      "cell_type": "markdown",
      "metadata": {
        "id": "IXiBBk2kxiJW"
      },
      "source": [
        "# EDA"
      ]
    },
    {
      "cell_type": "code",
      "execution_count": 4,
      "metadata": {
        "id": "nD-zivT8xiJX"
      },
      "outputs": [],
      "source": [
        "df = pd.read_csv('sensor_data/SA06/S06T25R04.csv')"
      ]
    },
    {
      "cell_type": "code",
      "execution_count": 5,
      "metadata": {
        "id": "D0X24q_zxiJX"
      },
      "outputs": [],
      "source": [
        "mpl.rcParams['figure.figsize'] = (12, 8)\n",
        "mpl.rcParams['axes.grid'] = False"
      ]
    },
    {
      "cell_type": "code",
      "execution_count": 6,
      "metadata": {
        "id": "KgHaIV_CxiJY"
      },
      "outputs": [],
      "source": [
        "df_abs = df.abs()"
      ]
    },
    {
      "cell_type": "code",
      "execution_count": 7,
      "metadata": {
        "colab": {
          "base_uri": "https://localhost:8080/",
          "height": 394
        },
        "id": "Eo0we5QFxiJY",
        "outputId": "b1917271-aa34-4045-a204-92b4918f1729"
      },
      "outputs": [
        {
          "output_type": "execute_result",
          "data": {
            "text/plain": [
              "<pandas.io.formats.style.Styler at 0x7ff9123c29a0>"
            ],
            "text/html": [
              "<style type=\"text/css\">\n",
              "#T_2174a_row0_col0, #T_2174a_row0_col1, #T_2174a_row1_col0, #T_2174a_row1_col1, #T_2174a_row2_col2, #T_2174a_row3_col3, #T_2174a_row4_col4, #T_2174a_row5_col5, #T_2174a_row6_col6, #T_2174a_row7_col7, #T_2174a_row8_col8, #T_2174a_row9_col9, #T_2174a_row10_col10 {\n",
              "  background-color: #b40426;\n",
              "  color: #f1f1f1;\n",
              "}\n",
              "#T_2174a_row0_col2, #T_2174a_row1_col2, #T_2174a_row2_col3 {\n",
              "  background-color: #6282ea;\n",
              "  color: #f1f1f1;\n",
              "}\n",
              "#T_2174a_row0_col3, #T_2174a_row1_col3, #T_2174a_row3_col0, #T_2174a_row3_col1 {\n",
              "  background-color: #f08a6c;\n",
              "  color: #f1f1f1;\n",
              "}\n",
              "#T_2174a_row0_col4, #T_2174a_row1_col4, #T_2174a_row9_col0, #T_2174a_row9_col1 {\n",
              "  background-color: #4f69d9;\n",
              "  color: #f1f1f1;\n",
              "}\n",
              "#T_2174a_row0_col5, #T_2174a_row1_col5 {\n",
              "  background-color: #efcfbf;\n",
              "  color: #000000;\n",
              "}\n",
              "#T_2174a_row0_col6, #T_2174a_row1_col6 {\n",
              "  background-color: #abc8fd;\n",
              "  color: #000000;\n",
              "}\n",
              "#T_2174a_row0_col7, #T_2174a_row1_col7, #T_2174a_row5_col6 {\n",
              "  background-color: #6a8bef;\n",
              "  color: #f1f1f1;\n",
              "}\n",
              "#T_2174a_row0_col8, #T_2174a_row1_col8, #T_2174a_row2_col7, #T_2174a_row3_col2, #T_2174a_row3_col4, #T_2174a_row3_col6, #T_2174a_row8_col0, #T_2174a_row8_col1, #T_2174a_row8_col3, #T_2174a_row8_col10, #T_2174a_row9_col5, #T_2174a_row9_col10, #T_2174a_row10_col9 {\n",
              "  background-color: #3b4cc0;\n",
              "  color: #f1f1f1;\n",
              "}\n",
              "#T_2174a_row0_col9, #T_2174a_row1_col9, #T_2174a_row9_col3 {\n",
              "  background-color: #455cce;\n",
              "  color: #f1f1f1;\n",
              "}\n",
              "#T_2174a_row0_col10, #T_2174a_row1_col10, #T_2174a_row2_col4, #T_2174a_row10_col0, #T_2174a_row10_col1 {\n",
              "  background-color: #d24b40;\n",
              "  color: #f1f1f1;\n",
              "}\n",
              "#T_2174a_row2_col0, #T_2174a_row2_col1 {\n",
              "  background-color: #8badfd;\n",
              "  color: #000000;\n",
              "}\n",
              "#T_2174a_row2_col5 {\n",
              "  background-color: #5f7fe8;\n",
              "  color: #f1f1f1;\n",
              "}\n",
              "#T_2174a_row2_col6, #T_2174a_row5_col2 {\n",
              "  background-color: #5b7ae5;\n",
              "  color: #f1f1f1;\n",
              "}\n",
              "#T_2174a_row2_col8 {\n",
              "  background-color: #f7a688;\n",
              "  color: #000000;\n",
              "}\n",
              "#T_2174a_row2_col9, #T_2174a_row10_col3 {\n",
              "  background-color: #e9785d;\n",
              "  color: #f1f1f1;\n",
              "}\n",
              "#T_2174a_row2_col10 {\n",
              "  background-color: #7a9df8;\n",
              "  color: #f1f1f1;\n",
              "}\n",
              "#T_2174a_row3_col5 {\n",
              "  background-color: #f5c4ac;\n",
              "  color: #000000;\n",
              "}\n",
              "#T_2174a_row3_col7, #T_2174a_row5_col8 {\n",
              "  background-color: #a9c6fd;\n",
              "  color: #000000;\n",
              "}\n",
              "#T_2174a_row3_col8, #T_2174a_row4_col7 {\n",
              "  background-color: #3d50c3;\n",
              "  color: #f1f1f1;\n",
              "}\n",
              "#T_2174a_row3_col9 {\n",
              "  background-color: #3e51c5;\n",
              "  color: #f1f1f1;\n",
              "}\n",
              "#T_2174a_row3_col10 {\n",
              "  background-color: #e97a5f;\n",
              "  color: #f1f1f1;\n",
              "}\n",
              "#T_2174a_row4_col0, #T_2174a_row4_col1 {\n",
              "  background-color: #6180e9;\n",
              "  color: #f1f1f1;\n",
              "}\n",
              "#T_2174a_row4_col2 {\n",
              "  background-color: #d55042;\n",
              "  color: #f1f1f1;\n",
              "}\n",
              "#T_2174a_row4_col3 {\n",
              "  background-color: #4961d2;\n",
              "  color: #f1f1f1;\n",
              "}\n",
              "#T_2174a_row4_col5, #T_2174a_row5_col9 {\n",
              "  background-color: #5875e1;\n",
              "  color: #f1f1f1;\n",
              "}\n",
              "#T_2174a_row4_col6 {\n",
              "  background-color: #6687ed;\n",
              "  color: #f1f1f1;\n",
              "}\n",
              "#T_2174a_row4_col8 {\n",
              "  background-color: #e46e56;\n",
              "  color: #f1f1f1;\n",
              "}\n",
              "#T_2174a_row4_col9 {\n",
              "  background-color: #dd5f4b;\n",
              "  color: #f1f1f1;\n",
              "}\n",
              "#T_2174a_row4_col10 {\n",
              "  background-color: #5e7de7;\n",
              "  color: #f1f1f1;\n",
              "}\n",
              "#T_2174a_row5_col0, #T_2174a_row5_col1 {\n",
              "  background-color: #f5c1a9;\n",
              "  color: #000000;\n",
              "}\n",
              "#T_2174a_row5_col3, #T_2174a_row8_col2 {\n",
              "  background-color: #f7b79b;\n",
              "  color: #000000;\n",
              "}\n",
              "#T_2174a_row5_col4 {\n",
              "  background-color: #6e90f2;\n",
              "  color: #f1f1f1;\n",
              "}\n",
              "#T_2174a_row5_col7 {\n",
              "  background-color: #465ecf;\n",
              "  color: #f1f1f1;\n",
              "}\n",
              "#T_2174a_row5_col10 {\n",
              "  background-color: #f7af91;\n",
              "  color: #000000;\n",
              "}\n",
              "#T_2174a_row6_col0, #T_2174a_row6_col1 {\n",
              "  background-color: #e3d9d3;\n",
              "  color: #000000;\n",
              "}\n",
              "#T_2174a_row6_col2, #T_2174a_row7_col6 {\n",
              "  background-color: #8fb1fe;\n",
              "  color: #000000;\n",
              "}\n",
              "#T_2174a_row6_col3 {\n",
              "  background-color: #96b7ff;\n",
              "  color: #000000;\n",
              "}\n",
              "#T_2174a_row6_col4 {\n",
              "  background-color: #adc9fd;\n",
              "  color: #000000;\n",
              "}\n",
              "#T_2174a_row6_col5 {\n",
              "  background-color: #9ebeff;\n",
              "  color: #000000;\n",
              "}\n",
              "#T_2174a_row6_col7 {\n",
              "  background-color: #7295f4;\n",
              "  color: #f1f1f1;\n",
              "}\n",
              "#T_2174a_row6_col8 {\n",
              "  background-color: #dfdbd9;\n",
              "  color: #000000;\n",
              "}\n",
              "#T_2174a_row6_col9 {\n",
              "  background-color: #c9d7f0;\n",
              "  color: #000000;\n",
              "}\n",
              "#T_2174a_row6_col10 {\n",
              "  background-color: #d1dae9;\n",
              "  color: #000000;\n",
              "}\n",
              "#T_2174a_row7_col0, #T_2174a_row7_col1 {\n",
              "  background-color: #cfdaea;\n",
              "  color: #000000;\n",
              "}\n",
              "#T_2174a_row7_col2 {\n",
              "  background-color: #8caffe;\n",
              "  color: #000000;\n",
              "}\n",
              "#T_2174a_row7_col3 {\n",
              "  background-color: #ebd3c6;\n",
              "  color: #000000;\n",
              "}\n",
              "#T_2174a_row7_col4 {\n",
              "  background-color: #a5c3fe;\n",
              "  color: #000000;\n",
              "}\n",
              "#T_2174a_row7_col5 {\n",
              "  background-color: #9abbff;\n",
              "  color: #000000;\n",
              "}\n",
              "#T_2174a_row7_col8 {\n",
              "  background-color: #b9d0f9;\n",
              "  color: #000000;\n",
              "}\n",
              "#T_2174a_row7_col9 {\n",
              "  background-color: #cdd9ec;\n",
              "  color: #000000;\n",
              "}\n",
              "#T_2174a_row7_col10 {\n",
              "  background-color: #dcdddd;\n",
              "  color: #000000;\n",
              "}\n",
              "#T_2174a_row8_col4 {\n",
              "  background-color: #e7745b;\n",
              "  color: #f1f1f1;\n",
              "}\n",
              "#T_2174a_row8_col5, #T_2174a_row9_col6 {\n",
              "  background-color: #86a9fc;\n",
              "  color: #f1f1f1;\n",
              "}\n",
              "#T_2174a_row8_col6 {\n",
              "  background-color: #a3c2fe;\n",
              "  color: #000000;\n",
              "}\n",
              "#T_2174a_row8_col7, #T_2174a_row10_col8 {\n",
              "  background-color: #445acc;\n",
              "  color: #f1f1f1;\n",
              "}\n",
              "#T_2174a_row8_col9, #T_2174a_row9_col8 {\n",
              "  background-color: #d75445;\n",
              "  color: #f1f1f1;\n",
              "}\n",
              "#T_2174a_row9_col2 {\n",
              "  background-color: #ec8165;\n",
              "  color: #f1f1f1;\n",
              "}\n",
              "#T_2174a_row9_col4 {\n",
              "  background-color: #de614d;\n",
              "  color: #f1f1f1;\n",
              "}\n",
              "#T_2174a_row9_col7 {\n",
              "  background-color: #7093f3;\n",
              "  color: #f1f1f1;\n",
              "}\n",
              "#T_2174a_row10_col2 {\n",
              "  background-color: #5977e3;\n",
              "  color: #f1f1f1;\n",
              "}\n",
              "#T_2174a_row10_col4 {\n",
              "  background-color: #5673e0;\n",
              "  color: #f1f1f1;\n",
              "}\n",
              "#T_2174a_row10_col5 {\n",
              "  background-color: #f7b99e;\n",
              "  color: #000000;\n",
              "}\n",
              "#T_2174a_row10_col6 {\n",
              "  background-color: #93b5fe;\n",
              "  color: #000000;\n",
              "}\n",
              "#T_2174a_row10_col7 {\n",
              "  background-color: #8db0fe;\n",
              "  color: #000000;\n",
              "}\n",
              "</style>\n",
              "<table id=\"T_2174a_\" class=\"dataframe\">\n",
              "  <thead>\n",
              "    <tr>\n",
              "      <th class=\"blank level0\" >&nbsp;</th>\n",
              "      <th class=\"col_heading level0 col0\" >TimeStamp(s)</th>\n",
              "      <th class=\"col_heading level0 col1\" >FrameCounter</th>\n",
              "      <th class=\"col_heading level0 col2\" >AccX</th>\n",
              "      <th class=\"col_heading level0 col3\" >AccY</th>\n",
              "      <th class=\"col_heading level0 col4\" >AccZ</th>\n",
              "      <th class=\"col_heading level0 col5\" >GyrX</th>\n",
              "      <th class=\"col_heading level0 col6\" >GyrY</th>\n",
              "      <th class=\"col_heading level0 col7\" >GyrZ</th>\n",
              "      <th class=\"col_heading level0 col8\" >EulerX</th>\n",
              "      <th class=\"col_heading level0 col9\" >EulerY</th>\n",
              "      <th class=\"col_heading level0 col10\" >EulerZ</th>\n",
              "    </tr>\n",
              "  </thead>\n",
              "  <tbody>\n",
              "    <tr>\n",
              "      <th id=\"T_2174a_level0_row0\" class=\"row_heading level0 row0\" >TimeStamp(s)</th>\n",
              "      <td id=\"T_2174a_row0_col0\" class=\"data row0 col0\" >1.000000</td>\n",
              "      <td id=\"T_2174a_row0_col1\" class=\"data row0 col1\" >1.000000</td>\n",
              "      <td id=\"T_2174a_row0_col2\" class=\"data row0 col2\" >-0.397746</td>\n",
              "      <td id=\"T_2174a_row0_col3\" class=\"data row0 col3\" >0.607996</td>\n",
              "      <td id=\"T_2174a_row0_col4\" class=\"data row0 col4\" >-0.627843</td>\n",
              "      <td id=\"T_2174a_row0_col5\" class=\"data row0 col5\" >0.321176</td>\n",
              "      <td id=\"T_2174a_row0_col6\" class=\"data row0 col6\" >0.118435</td>\n",
              "      <td id=\"T_2174a_row0_col7\" class=\"data row0 col7\" >-0.020553</td>\n",
              "      <td id=\"T_2174a_row0_col8\" class=\"data row0 col8\" >-0.854003</td>\n",
              "      <td id=\"T_2174a_row0_col9\" class=\"data row0 col9\" >-0.723891</td>\n",
              "      <td id=\"T_2174a_row0_col10\" class=\"data row0 col10\" >0.839506</td>\n",
              "    </tr>\n",
              "    <tr>\n",
              "      <th id=\"T_2174a_level0_row1\" class=\"row_heading level0 row1\" >FrameCounter</th>\n",
              "      <td id=\"T_2174a_row1_col0\" class=\"data row1 col0\" >1.000000</td>\n",
              "      <td id=\"T_2174a_row1_col1\" class=\"data row1 col1\" >1.000000</td>\n",
              "      <td id=\"T_2174a_row1_col2\" class=\"data row1 col2\" >-0.397746</td>\n",
              "      <td id=\"T_2174a_row1_col3\" class=\"data row1 col3\" >0.607996</td>\n",
              "      <td id=\"T_2174a_row1_col4\" class=\"data row1 col4\" >-0.627843</td>\n",
              "      <td id=\"T_2174a_row1_col5\" class=\"data row1 col5\" >0.321176</td>\n",
              "      <td id=\"T_2174a_row1_col6\" class=\"data row1 col6\" >0.118435</td>\n",
              "      <td id=\"T_2174a_row1_col7\" class=\"data row1 col7\" >-0.020553</td>\n",
              "      <td id=\"T_2174a_row1_col8\" class=\"data row1 col8\" >-0.854003</td>\n",
              "      <td id=\"T_2174a_row1_col9\" class=\"data row1 col9\" >-0.723891</td>\n",
              "      <td id=\"T_2174a_row1_col10\" class=\"data row1 col10\" >0.839506</td>\n",
              "    </tr>\n",
              "    <tr>\n",
              "      <th id=\"T_2174a_level0_row2\" class=\"row_heading level0 row2\" >AccX</th>\n",
              "      <td id=\"T_2174a_row2_col0\" class=\"data row2 col0\" >-0.397746</td>\n",
              "      <td id=\"T_2174a_row2_col1\" class=\"data row2 col1\" >-0.397746</td>\n",
              "      <td id=\"T_2174a_row2_col2\" class=\"data row2 col2\" >1.000000</td>\n",
              "      <td id=\"T_2174a_row2_col3\" class=\"data row2 col3\" >-0.597771</td>\n",
              "      <td id=\"T_2174a_row2_col4\" class=\"data row2 col4\" >0.844648</td>\n",
              "      <td id=\"T_2174a_row2_col5\" class=\"data row2 col5\" >-0.424464</td>\n",
              "      <td id=\"T_2174a_row2_col6\" class=\"data row2 col6\" >-0.190873</td>\n",
              "      <td id=\"T_2174a_row2_col7\" class=\"data row2 col7\" >-0.199558</td>\n",
              "      <td id=\"T_2174a_row2_col8\" class=\"data row2 col8\" >0.474131</td>\n",
              "      <td id=\"T_2174a_row2_col9\" class=\"data row2 col9\" >0.691425</td>\n",
              "      <td id=\"T_2174a_row2_col10\" class=\"data row2 col10\" >-0.438483</td>\n",
              "    </tr>\n",
              "    <tr>\n",
              "      <th id=\"T_2174a_level0_row3\" class=\"row_heading level0 row3\" >AccY</th>\n",
              "      <td id=\"T_2174a_row3_col0\" class=\"data row3 col0\" >0.607996</td>\n",
              "      <td id=\"T_2174a_row3_col1\" class=\"data row3 col1\" >0.607996</td>\n",
              "      <td id=\"T_2174a_row3_col2\" class=\"data row3 col2\" >-0.597771</td>\n",
              "      <td id=\"T_2174a_row3_col3\" class=\"data row3 col3\" >1.000000</td>\n",
              "      <td id=\"T_2174a_row3_col4\" class=\"data row3 col4\" >-0.745705</td>\n",
              "      <td id=\"T_2174a_row3_col5\" class=\"data row3 col5\" >0.393918</td>\n",
              "      <td id=\"T_2174a_row3_col6\" class=\"data row3 col6\" >-0.332150</td>\n",
              "      <td id=\"T_2174a_row3_col7\" class=\"data row3 col7\" >0.197467</td>\n",
              "      <td id=\"T_2174a_row3_col8\" class=\"data row3 col8\" >-0.833652</td>\n",
              "      <td id=\"T_2174a_row3_col9\" class=\"data row3 col9\" >-0.765876</td>\n",
              "      <td id=\"T_2174a_row3_col10\" class=\"data row3 col10\" >0.680406</td>\n",
              "    </tr>\n",
              "    <tr>\n",
              "      <th id=\"T_2174a_level0_row4\" class=\"row_heading level0 row4\" >AccZ</th>\n",
              "      <td id=\"T_2174a_row4_col0\" class=\"data row4 col0\" >-0.627843</td>\n",
              "      <td id=\"T_2174a_row4_col1\" class=\"data row4 col1\" >-0.627843</td>\n",
              "      <td id=\"T_2174a_row4_col2\" class=\"data row4 col2\" >0.844648</td>\n",
              "      <td id=\"T_2174a_row4_col3\" class=\"data row4 col3\" >-0.745705</td>\n",
              "      <td id=\"T_2174a_row4_col4\" class=\"data row4 col4\" >1.000000</td>\n",
              "      <td id=\"T_2174a_row4_col5\" class=\"data row4 col5\" >-0.461600</td>\n",
              "      <td id=\"T_2174a_row4_col6\" class=\"data row4 col6\" >-0.145712</td>\n",
              "      <td id=\"T_2174a_row4_col7\" class=\"data row4 col7\" >-0.187274</td>\n",
              "      <td id=\"T_2174a_row4_col8\" class=\"data row4 col8\" >0.710742</td>\n",
              "      <td id=\"T_2174a_row4_col9\" class=\"data row4 col9\" >0.778037</td>\n",
              "      <td id=\"T_2174a_row4_col10\" class=\"data row4 col10\" >-0.583049</td>\n",
              "    </tr>\n",
              "    <tr>\n",
              "      <th id=\"T_2174a_level0_row5\" class=\"row_heading level0 row5\" >GyrX</th>\n",
              "      <td id=\"T_2174a_row5_col0\" class=\"data row5 col0\" >0.321176</td>\n",
              "      <td id=\"T_2174a_row5_col1\" class=\"data row5 col1\" >0.321176</td>\n",
              "      <td id=\"T_2174a_row5_col2\" class=\"data row5 col2\" >-0.424464</td>\n",
              "      <td id=\"T_2174a_row5_col3\" class=\"data row5 col3\" >0.393918</td>\n",
              "      <td id=\"T_2174a_row5_col4\" class=\"data row5 col4\" >-0.461600</td>\n",
              "      <td id=\"T_2174a_row5_col5\" class=\"data row5 col5\" >1.000000</td>\n",
              "      <td id=\"T_2174a_row5_col6\" class=\"data row5 col6\" >-0.134303</td>\n",
              "      <td id=\"T_2174a_row5_col7\" class=\"data row5 col7\" >-0.151390</td>\n",
              "      <td id=\"T_2174a_row5_col8\" class=\"data row5 col8\" >-0.240821</td>\n",
              "      <td id=\"T_2174a_row5_col9\" class=\"data row5 col9\" >-0.617044</td>\n",
              "      <td id=\"T_2174a_row5_col10\" class=\"data row5 col10\" >0.453462</td>\n",
              "    </tr>\n",
              "    <tr>\n",
              "      <th id=\"T_2174a_level0_row6\" class=\"row_heading level0 row6\" >GyrY</th>\n",
              "      <td id=\"T_2174a_row6_col0\" class=\"data row6 col0\" >0.118435</td>\n",
              "      <td id=\"T_2174a_row6_col1\" class=\"data row6 col1\" >0.118435</td>\n",
              "      <td id=\"T_2174a_row6_col2\" class=\"data row6 col2\" >-0.190873</td>\n",
              "      <td id=\"T_2174a_row6_col3\" class=\"data row6 col3\" >-0.332150</td>\n",
              "      <td id=\"T_2174a_row6_col4\" class=\"data row6 col4\" >-0.145712</td>\n",
              "      <td id=\"T_2174a_row6_col5\" class=\"data row6 col5\" >-0.134303</td>\n",
              "      <td id=\"T_2174a_row6_col6\" class=\"data row6 col6\" >1.000000</td>\n",
              "      <td id=\"T_2174a_row6_col7\" class=\"data row6 col7\" >0.006912</td>\n",
              "      <td id=\"T_2174a_row6_col8\" class=\"data row6 col8\" >0.088584</td>\n",
              "      <td id=\"T_2174a_row6_col9\" class=\"data row6 col9\" >-0.024046</td>\n",
              "      <td id=\"T_2174a_row6_col10\" class=\"data row6 col10\" >0.023569</td>\n",
              "    </tr>\n",
              "    <tr>\n",
              "      <th id=\"T_2174a_level0_row7\" class=\"row_heading level0 row7\" >GyrZ</th>\n",
              "      <td id=\"T_2174a_row7_col0\" class=\"data row7 col0\" >-0.020553</td>\n",
              "      <td id=\"T_2174a_row7_col1\" class=\"data row7 col1\" >-0.020553</td>\n",
              "      <td id=\"T_2174a_row7_col2\" class=\"data row7 col2\" >-0.199558</td>\n",
              "      <td id=\"T_2174a_row7_col3\" class=\"data row7 col3\" >0.197467</td>\n",
              "      <td id=\"T_2174a_row7_col4\" class=\"data row7 col4\" >-0.187274</td>\n",
              "      <td id=\"T_2174a_row7_col5\" class=\"data row7 col5\" >-0.151390</td>\n",
              "      <td id=\"T_2174a_row7_col6\" class=\"data row7 col6\" >0.006912</td>\n",
              "      <td id=\"T_2174a_row7_col7\" class=\"data row7 col7\" >1.000000</td>\n",
              "      <td id=\"T_2174a_row7_col8\" class=\"data row7 col8\" >-0.158407</td>\n",
              "      <td id=\"T_2174a_row7_col9\" class=\"data row7 col9\" >0.003240</td>\n",
              "      <td id=\"T_2174a_row7_col10\" class=\"data row7 col10\" >0.104078</td>\n",
              "    </tr>\n",
              "    <tr>\n",
              "      <th id=\"T_2174a_level0_row8\" class=\"row_heading level0 row8\" >EulerX</th>\n",
              "      <td id=\"T_2174a_row8_col0\" class=\"data row8 col0\" >-0.854003</td>\n",
              "      <td id=\"T_2174a_row8_col1\" class=\"data row8 col1\" >-0.854003</td>\n",
              "      <td id=\"T_2174a_row8_col2\" class=\"data row8 col2\" >0.474131</td>\n",
              "      <td id=\"T_2174a_row8_col3\" class=\"data row8 col3\" >-0.833652</td>\n",
              "      <td id=\"T_2174a_row8_col4\" class=\"data row8 col4\" >0.710742</td>\n",
              "      <td id=\"T_2174a_row8_col5\" class=\"data row8 col5\" >-0.240821</td>\n",
              "      <td id=\"T_2174a_row8_col6\" class=\"data row8 col6\" >0.088584</td>\n",
              "      <td id=\"T_2174a_row8_col7\" class=\"data row8 col7\" >-0.158407</td>\n",
              "      <td id=\"T_2174a_row8_col8\" class=\"data row8 col8\" >1.000000</td>\n",
              "      <td id=\"T_2174a_row8_col9\" class=\"data row8 col9\" >0.811490</td>\n",
              "      <td id=\"T_2174a_row8_col10\" class=\"data row8 col10\" >-0.790232</td>\n",
              "    </tr>\n",
              "    <tr>\n",
              "      <th id=\"T_2174a_level0_row9\" class=\"row_heading level0 row9\" >EulerY</th>\n",
              "      <td id=\"T_2174a_row9_col0\" class=\"data row9 col0\" >-0.723891</td>\n",
              "      <td id=\"T_2174a_row9_col1\" class=\"data row9 col1\" >-0.723891</td>\n",
              "      <td id=\"T_2174a_row9_col2\" class=\"data row9 col2\" >0.691425</td>\n",
              "      <td id=\"T_2174a_row9_col3\" class=\"data row9 col3\" >-0.765876</td>\n",
              "      <td id=\"T_2174a_row9_col4\" class=\"data row9 col4\" >0.778037</td>\n",
              "      <td id=\"T_2174a_row9_col5\" class=\"data row9 col5\" >-0.617044</td>\n",
              "      <td id=\"T_2174a_row9_col6\" class=\"data row9 col6\" >-0.024046</td>\n",
              "      <td id=\"T_2174a_row9_col7\" class=\"data row9 col7\" >0.003240</td>\n",
              "      <td id=\"T_2174a_row9_col8\" class=\"data row9 col8\" >0.811490</td>\n",
              "      <td id=\"T_2174a_row9_col9\" class=\"data row9 col9\" >1.000000</td>\n",
              "      <td id=\"T_2174a_row9_col10\" class=\"data row9 col10\" >-0.790550</td>\n",
              "    </tr>\n",
              "    <tr>\n",
              "      <th id=\"T_2174a_level0_row10\" class=\"row_heading level0 row10\" >EulerZ</th>\n",
              "      <td id=\"T_2174a_row10_col0\" class=\"data row10 col0\" >0.839506</td>\n",
              "      <td id=\"T_2174a_row10_col1\" class=\"data row10 col1\" >0.839506</td>\n",
              "      <td id=\"T_2174a_row10_col2\" class=\"data row10 col2\" >-0.438483</td>\n",
              "      <td id=\"T_2174a_row10_col3\" class=\"data row10 col3\" >0.680406</td>\n",
              "      <td id=\"T_2174a_row10_col4\" class=\"data row10 col4\" >-0.583049</td>\n",
              "      <td id=\"T_2174a_row10_col5\" class=\"data row10 col5\" >0.453462</td>\n",
              "      <td id=\"T_2174a_row10_col6\" class=\"data row10 col6\" >0.023569</td>\n",
              "      <td id=\"T_2174a_row10_col7\" class=\"data row10 col7\" >0.104078</td>\n",
              "      <td id=\"T_2174a_row10_col8\" class=\"data row10 col8\" >-0.790232</td>\n",
              "      <td id=\"T_2174a_row10_col9\" class=\"data row10 col9\" >-0.790550</td>\n",
              "      <td id=\"T_2174a_row10_col10\" class=\"data row10 col10\" >1.000000</td>\n",
              "    </tr>\n",
              "  </tbody>\n",
              "</table>\n"
            ]
          },
          "metadata": {},
          "execution_count": 7
        }
      ],
      "source": [
        "#Correaltion Matrix\n",
        "df.corr().style.background_gradient(cmap='coolwarm')"
      ]
    },
    {
      "cell_type": "code",
      "execution_count": 8,
      "metadata": {
        "colab": {
          "base_uri": "https://localhost:8080/",
          "height": 394
        },
        "id": "BG4FoI49xiJZ",
        "outputId": "9358ab20-cad0-4a88-a665-1f51bc14ef2a"
      },
      "outputs": [
        {
          "output_type": "execute_result",
          "data": {
            "text/plain": [
              "<pandas.io.formats.style.Styler at 0x7ff911f21d00>"
            ],
            "text/html": [
              "<style type=\"text/css\">\n",
              "#T_0abe7_row0_col0, #T_0abe7_row0_col1, #T_0abe7_row1_col0, #T_0abe7_row1_col1, #T_0abe7_row2_col2, #T_0abe7_row3_col3, #T_0abe7_row4_col4, #T_0abe7_row5_col5, #T_0abe7_row6_col6, #T_0abe7_row7_col7, #T_0abe7_row8_col8, #T_0abe7_row9_col9, #T_0abe7_row10_col10 {\n",
              "  background-color: #b40426;\n",
              "  color: #f1f1f1;\n",
              "}\n",
              "#T_0abe7_row0_col2, #T_0abe7_row1_col2 {\n",
              "  background-color: #d1dae9;\n",
              "  color: #000000;\n",
              "}\n",
              "#T_0abe7_row0_col3, #T_0abe7_row0_col5, #T_0abe7_row0_col6, #T_0abe7_row0_col7, #T_0abe7_row0_col8, #T_0abe7_row0_col10, #T_0abe7_row1_col3, #T_0abe7_row1_col5, #T_0abe7_row1_col6, #T_0abe7_row1_col7, #T_0abe7_row1_col8, #T_0abe7_row1_col10, #T_0abe7_row8_col0, #T_0abe7_row8_col1, #T_0abe7_row8_col2, #T_0abe7_row8_col4, #T_0abe7_row8_col9 {\n",
              "  background-color: #3b4cc0;\n",
              "  color: #f1f1f1;\n",
              "}\n",
              "#T_0abe7_row0_col4, #T_0abe7_row1_col4 {\n",
              "  background-color: #f08b6e;\n",
              "  color: #f1f1f1;\n",
              "}\n",
              "#T_0abe7_row0_col9, #T_0abe7_row1_col9 {\n",
              "  background-color: #e8765c;\n",
              "  color: #f1f1f1;\n",
              "}\n",
              "#T_0abe7_row2_col0, #T_0abe7_row2_col1 {\n",
              "  background-color: #efcebd;\n",
              "  color: #000000;\n",
              "}\n",
              "#T_0abe7_row2_col3, #T_0abe7_row10_col7 {\n",
              "  background-color: #b2ccfb;\n",
              "  color: #000000;\n",
              "}\n",
              "#T_0abe7_row2_col4 {\n",
              "  background-color: #e36b54;\n",
              "  color: #f1f1f1;\n",
              "}\n",
              "#T_0abe7_row2_col5 {\n",
              "  background-color: #9dbdff;\n",
              "  color: #000000;\n",
              "}\n",
              "#T_0abe7_row2_col6 {\n",
              "  background-color: #d2dbe8;\n",
              "  color: #000000;\n",
              "}\n",
              "#T_0abe7_row2_col7, #T_0abe7_row7_col6 {\n",
              "  background-color: #f4c5ad;\n",
              "  color: #000000;\n",
              "}\n",
              "#T_0abe7_row2_col8 {\n",
              "  background-color: #89acfd;\n",
              "  color: #000000;\n",
              "}\n",
              "#T_0abe7_row2_col9 {\n",
              "  background-color: #f5a081;\n",
              "  color: #000000;\n",
              "}\n",
              "#T_0abe7_row2_col10 {\n",
              "  background-color: #a3c2fe;\n",
              "  color: #000000;\n",
              "}\n",
              "#T_0abe7_row3_col0, #T_0abe7_row3_col1 {\n",
              "  background-color: #445acc;\n",
              "  color: #f1f1f1;\n",
              "}\n",
              "#T_0abe7_row3_col2, #T_0abe7_row9_col6 {\n",
              "  background-color: #7699f6;\n",
              "  color: #f1f1f1;\n",
              "}\n",
              "#T_0abe7_row3_col4 {\n",
              "  background-color: #7295f4;\n",
              "  color: #f1f1f1;\n",
              "}\n",
              "#T_0abe7_row3_col5 {\n",
              "  background-color: #e6d7cf;\n",
              "  color: #000000;\n",
              "}\n",
              "#T_0abe7_row3_col6 {\n",
              "  background-color: #97b8ff;\n",
              "  color: #000000;\n",
              "}\n",
              "#T_0abe7_row3_col7, #T_0abe7_row5_col2 {\n",
              "  background-color: #a1c0ff;\n",
              "  color: #000000;\n",
              "}\n",
              "#T_0abe7_row3_col8, #T_0abe7_row8_col10, #T_0abe7_row10_col8 {\n",
              "  background-color: #d95847;\n",
              "  color: #f1f1f1;\n",
              "}\n",
              "#T_0abe7_row3_col9 {\n",
              "  background-color: #4f69d9;\n",
              "  color: #f1f1f1;\n",
              "}\n",
              "#T_0abe7_row3_col10 {\n",
              "  background-color: #d65244;\n",
              "  color: #f1f1f1;\n",
              "}\n",
              "#T_0abe7_row4_col0, #T_0abe7_row4_col1 {\n",
              "  background-color: #ee8468;\n",
              "  color: #f1f1f1;\n",
              "}\n",
              "#T_0abe7_row4_col2 {\n",
              "  background-color: #e97a5f;\n",
              "  color: #f1f1f1;\n",
              "}\n",
              "#T_0abe7_row4_col3 {\n",
              "  background-color: #7ea1fa;\n",
              "  color: #f1f1f1;\n",
              "}\n",
              "#T_0abe7_row4_col5 {\n",
              "  background-color: #6485ec;\n",
              "  color: #f1f1f1;\n",
              "}\n",
              "#T_0abe7_row4_col6 {\n",
              "  background-color: #a6c4fe;\n",
              "  color: #000000;\n",
              "}\n",
              "#T_0abe7_row4_col7 {\n",
              "  background-color: #b6cefa;\n",
              "  color: #000000;\n",
              "}\n",
              "#T_0abe7_row4_col8, #T_0abe7_row10_col4 {\n",
              "  background-color: #516ddb;\n",
              "  color: #f1f1f1;\n",
              "}\n",
              "#T_0abe7_row4_col9, #T_0abe7_row8_col3 {\n",
              "  background-color: #da5a49;\n",
              "  color: #f1f1f1;\n",
              "}\n",
              "#T_0abe7_row4_col10 {\n",
              "  background-color: #6687ed;\n",
              "  color: #f1f1f1;\n",
              "}\n",
              "#T_0abe7_row5_col0, #T_0abe7_row5_col1 {\n",
              "  background-color: #8db0fe;\n",
              "  color: #000000;\n",
              "}\n",
              "#T_0abe7_row5_col3 {\n",
              "  background-color: #f6bfa6;\n",
              "  color: #000000;\n",
              "}\n",
              "#T_0abe7_row5_col4 {\n",
              "  background-color: #9ebeff;\n",
              "  color: #000000;\n",
              "}\n",
              "#T_0abe7_row5_col6 {\n",
              "  background-color: #f5c0a7;\n",
              "  color: #000000;\n",
              "}\n",
              "#T_0abe7_row5_col7 {\n",
              "  background-color: #f3c7b1;\n",
              "  color: #000000;\n",
              "}\n",
              "#T_0abe7_row5_col8, #T_0abe7_row6_col10 {\n",
              "  background-color: #e3d9d3;\n",
              "  color: #000000;\n",
              "}\n",
              "#T_0abe7_row5_col9 {\n",
              "  background-color: #93b5fe;\n",
              "  color: #000000;\n",
              "}\n",
              "#T_0abe7_row5_col10 {\n",
              "  background-color: #f6a586;\n",
              "  color: #000000;\n",
              "}\n",
              "#T_0abe7_row6_col0, #T_0abe7_row6_col1, #T_0abe7_row6_col8, #T_0abe7_row8_col5 {\n",
              "  background-color: #b5cdfa;\n",
              "  color: #000000;\n",
              "}\n",
              "#T_0abe7_row6_col2 {\n",
              "  background-color: #e9d5cb;\n",
              "  color: #000000;\n",
              "}\n",
              "#T_0abe7_row6_col3 {\n",
              "  background-color: #e2dad5;\n",
              "  color: #000000;\n",
              "}\n",
              "#T_0abe7_row6_col4, #T_0abe7_row7_col3 {\n",
              "  background-color: #e5d8d1;\n",
              "  color: #000000;\n",
              "}\n",
              "#T_0abe7_row6_col5 {\n",
              "  background-color: #f7af91;\n",
              "  color: #000000;\n",
              "}\n",
              "#T_0abe7_row6_col7, #T_0abe7_row10_col5 {\n",
              "  background-color: #f5c2aa;\n",
              "  color: #000000;\n",
              "}\n",
              "#T_0abe7_row6_col9 {\n",
              "  background-color: #d7dce3;\n",
              "  color: #000000;\n",
              "}\n",
              "#T_0abe7_row7_col0, #T_0abe7_row7_col1 {\n",
              "  background-color: #afcafc;\n",
              "  color: #000000;\n",
              "}\n",
              "#T_0abe7_row7_col2 {\n",
              "  background-color: #f7b497;\n",
              "  color: #000000;\n",
              "}\n",
              "#T_0abe7_row7_col4 {\n",
              "  background-color: #ead5c9;\n",
              "  color: #000000;\n",
              "}\n",
              "#T_0abe7_row7_col5 {\n",
              "  background-color: #f7b89c;\n",
              "  color: #000000;\n",
              "}\n",
              "#T_0abe7_row7_col8 {\n",
              "  background-color: #c3d5f4;\n",
              "  color: #000000;\n",
              "}\n",
              "#T_0abe7_row7_col9 {\n",
              "  background-color: #dadce0;\n",
              "  color: #000000;\n",
              "}\n",
              "#T_0abe7_row7_col10 {\n",
              "  background-color: #efcfbf;\n",
              "  color: #000000;\n",
              "}\n",
              "#T_0abe7_row8_col6 {\n",
              "  background-color: #3c4ec2;\n",
              "  color: #f1f1f1;\n",
              "}\n",
              "#T_0abe7_row8_col7 {\n",
              "  background-color: #5673e0;\n",
              "  color: #f1f1f1;\n",
              "}\n",
              "#T_0abe7_row9_col0, #T_0abe7_row9_col1 {\n",
              "  background-color: #e7745b;\n",
              "  color: #f1f1f1;\n",
              "}\n",
              "#T_0abe7_row9_col2 {\n",
              "  background-color: #f6bda2;\n",
              "  color: #000000;\n",
              "}\n",
              "#T_0abe7_row9_col3 {\n",
              "  background-color: #485fd1;\n",
              "  color: #f1f1f1;\n",
              "}\n",
              "#T_0abe7_row9_col4 {\n",
              "  background-color: #dd5f4b;\n",
              "  color: #f1f1f1;\n",
              "}\n",
              "#T_0abe7_row9_col5 {\n",
              "  background-color: #4358cb;\n",
              "  color: #f1f1f1;\n",
              "}\n",
              "#T_0abe7_row9_col7 {\n",
              "  background-color: #84a7fc;\n",
              "  color: #f1f1f1;\n",
              "}\n",
              "#T_0abe7_row9_col8, #T_0abe7_row10_col0, #T_0abe7_row10_col1 {\n",
              "  background-color: #3d50c3;\n",
              "  color: #f1f1f1;\n",
              "}\n",
              "#T_0abe7_row9_col10, #T_0abe7_row10_col9 {\n",
              "  background-color: #465ecf;\n",
              "  color: #f1f1f1;\n",
              "}\n",
              "#T_0abe7_row10_col2 {\n",
              "  background-color: #5d7ce6;\n",
              "  color: #f1f1f1;\n",
              "}\n",
              "#T_0abe7_row10_col3 {\n",
              "  background-color: #d75445;\n",
              "  color: #f1f1f1;\n",
              "}\n",
              "#T_0abe7_row10_col6 {\n",
              "  background-color: #90b2fe;\n",
              "  color: #000000;\n",
              "}\n",
              "</style>\n",
              "<table id=\"T_0abe7_\" class=\"dataframe\">\n",
              "  <thead>\n",
              "    <tr>\n",
              "      <th class=\"blank level0\" >&nbsp;</th>\n",
              "      <th class=\"col_heading level0 col0\" >TimeStamp(s)</th>\n",
              "      <th class=\"col_heading level0 col1\" >FrameCounter</th>\n",
              "      <th class=\"col_heading level0 col2\" >AccX</th>\n",
              "      <th class=\"col_heading level0 col3\" >AccY</th>\n",
              "      <th class=\"col_heading level0 col4\" >AccZ</th>\n",
              "      <th class=\"col_heading level0 col5\" >GyrX</th>\n",
              "      <th class=\"col_heading level0 col6\" >GyrY</th>\n",
              "      <th class=\"col_heading level0 col7\" >GyrZ</th>\n",
              "      <th class=\"col_heading level0 col8\" >EulerX</th>\n",
              "      <th class=\"col_heading level0 col9\" >EulerY</th>\n",
              "      <th class=\"col_heading level0 col10\" >EulerZ</th>\n",
              "    </tr>\n",
              "  </thead>\n",
              "  <tbody>\n",
              "    <tr>\n",
              "      <th id=\"T_0abe7_level0_row0\" class=\"row_heading level0 row0\" >TimeStamp(s)</th>\n",
              "      <td id=\"T_0abe7_row0_col0\" class=\"data row0 col0\" >1.000000</td>\n",
              "      <td id=\"T_0abe7_row0_col1\" class=\"data row0 col1\" >1.000000</td>\n",
              "      <td id=\"T_0abe7_row0_col2\" class=\"data row0 col2\" >0.227781</td>\n",
              "      <td id=\"T_0abe7_row0_col3\" class=\"data row0 col3\" >-0.793253</td>\n",
              "      <td id=\"T_0abe7_row0_col4\" class=\"data row0 col4\" >0.629486</td>\n",
              "      <td id=\"T_0abe7_row0_col5\" class=\"data row0 col5\" >-0.391486</td>\n",
              "      <td id=\"T_0abe7_row0_col6\" class=\"data row0 col6\" >-0.182999</td>\n",
              "      <td id=\"T_0abe7_row0_col7\" class=\"data row0 col7\" >-0.209210</td>\n",
              "      <td id=\"T_0abe7_row0_col8\" class=\"data row0 col8\" >-0.858235</td>\n",
              "      <td id=\"T_0abe7_row0_col9\" class=\"data row0 col9\" >0.689478</td>\n",
              "      <td id=\"T_0abe7_row0_col10\" class=\"data row0 col10\" >-0.839506</td>\n",
              "    </tr>\n",
              "    <tr>\n",
              "      <th id=\"T_0abe7_level0_row1\" class=\"row_heading level0 row1\" >FrameCounter</th>\n",
              "      <td id=\"T_0abe7_row1_col0\" class=\"data row1 col0\" >1.000000</td>\n",
              "      <td id=\"T_0abe7_row1_col1\" class=\"data row1 col1\" >1.000000</td>\n",
              "      <td id=\"T_0abe7_row1_col2\" class=\"data row1 col2\" >0.227781</td>\n",
              "      <td id=\"T_0abe7_row1_col3\" class=\"data row1 col3\" >-0.793253</td>\n",
              "      <td id=\"T_0abe7_row1_col4\" class=\"data row1 col4\" >0.629486</td>\n",
              "      <td id=\"T_0abe7_row1_col5\" class=\"data row1 col5\" >-0.391486</td>\n",
              "      <td id=\"T_0abe7_row1_col6\" class=\"data row1 col6\" >-0.182999</td>\n",
              "      <td id=\"T_0abe7_row1_col7\" class=\"data row1 col7\" >-0.209210</td>\n",
              "      <td id=\"T_0abe7_row1_col8\" class=\"data row1 col8\" >-0.858235</td>\n",
              "      <td id=\"T_0abe7_row1_col9\" class=\"data row1 col9\" >0.689478</td>\n",
              "      <td id=\"T_0abe7_row1_col10\" class=\"data row1 col10\" >-0.839506</td>\n",
              "    </tr>\n",
              "    <tr>\n",
              "      <th id=\"T_0abe7_level0_row2\" class=\"row_heading level0 row2\" >AccX</th>\n",
              "      <td id=\"T_0abe7_row2_col0\" class=\"data row2 col0\" >0.227781</td>\n",
              "      <td id=\"T_0abe7_row2_col1\" class=\"data row2 col1\" >0.227781</td>\n",
              "      <td id=\"T_0abe7_row2_col2\" class=\"data row2 col2\" >1.000000</td>\n",
              "      <td id=\"T_0abe7_row2_col3\" class=\"data row2 col3\" >-0.153600</td>\n",
              "      <td id=\"T_0abe7_row2_col4\" class=\"data row2 col4\" >0.747565</td>\n",
              "      <td id=\"T_0abe7_row2_col5\" class=\"data row2 col5\" >0.017251</td>\n",
              "      <td id=\"T_0abe7_row2_col6\" class=\"data row2 col6\" >0.361518</td>\n",
              "      <td id=\"T_0abe7_row2_col7\" class=\"data row2 col7\" >0.545716</td>\n",
              "      <td id=\"T_0abe7_row2_col8\" class=\"data row2 col8\" >-0.414550</td>\n",
              "      <td id=\"T_0abe7_row2_col9\" class=\"data row2 col9\" >0.504648</td>\n",
              "      <td id=\"T_0abe7_row2_col10\" class=\"data row2 col10\" >-0.259639</td>\n",
              "    </tr>\n",
              "    <tr>\n",
              "      <th id=\"T_0abe7_level0_row3\" class=\"row_heading level0 row3\" >AccY</th>\n",
              "      <td id=\"T_0abe7_row3_col0\" class=\"data row3 col0\" >-0.793253</td>\n",
              "      <td id=\"T_0abe7_row3_col1\" class=\"data row3 col1\" >-0.793253</td>\n",
              "      <td id=\"T_0abe7_row3_col2\" class=\"data row3 col2\" >-0.153600</td>\n",
              "      <td id=\"T_0abe7_row3_col3\" class=\"data row3 col3\" >1.000000</td>\n",
              "      <td id=\"T_0abe7_row3_col4\" class=\"data row3 col4\" >-0.416232</td>\n",
              "      <td id=\"T_0abe7_row3_col5\" class=\"data row3 col5\" >0.357600</td>\n",
              "      <td id=\"T_0abe7_row3_col6\" class=\"data row3 col6\" >0.145156</td>\n",
              "      <td id=\"T_0abe7_row3_col7\" class=\"data row3 col7\" >0.161183</td>\n",
              "      <td id=\"T_0abe7_row3_col8\" class=\"data row3 col8\" >0.793832</td>\n",
              "      <td id=\"T_0abe7_row3_col9\" class=\"data row3 col9\" >-0.713117</td>\n",
              "      <td id=\"T_0abe7_row3_col10\" class=\"data row3 col10\" >0.813354</td>\n",
              "    </tr>\n",
              "    <tr>\n",
              "      <th id=\"T_0abe7_level0_row4\" class=\"row_heading level0 row4\" >AccZ</th>\n",
              "      <td id=\"T_0abe7_row4_col0\" class=\"data row4 col0\" >0.629486</td>\n",
              "      <td id=\"T_0abe7_row4_col1\" class=\"data row4 col1\" >0.629486</td>\n",
              "      <td id=\"T_0abe7_row4_col2\" class=\"data row4 col2\" >0.747565</td>\n",
              "      <td id=\"T_0abe7_row4_col3\" class=\"data row4 col3\" >-0.416232</td>\n",
              "      <td id=\"T_0abe7_row4_col4\" class=\"data row4 col4\" >1.000000</td>\n",
              "      <td id=\"T_0abe7_row4_col5\" class=\"data row4 col5\" >-0.204037</td>\n",
              "      <td id=\"T_0abe7_row4_col6\" class=\"data row4 col6\" >0.198760</td>\n",
              "      <td id=\"T_0abe7_row4_col7\" class=\"data row4 col7\" >0.235043</td>\n",
              "      <td id=\"T_0abe7_row4_col8\" class=\"data row4 col8\" >-0.713834</td>\n",
              "      <td id=\"T_0abe7_row4_col9\" class=\"data row4 col9\" >0.786057</td>\n",
              "      <td id=\"T_0abe7_row4_col10\" class=\"data row4 col10\" >-0.585117</td>\n",
              "    </tr>\n",
              "    <tr>\n",
              "      <th id=\"T_0abe7_level0_row5\" class=\"row_heading level0 row5\" >GyrX</th>\n",
              "      <td id=\"T_0abe7_row5_col0\" class=\"data row5 col0\" >-0.391486</td>\n",
              "      <td id=\"T_0abe7_row5_col1\" class=\"data row5 col1\" >-0.391486</td>\n",
              "      <td id=\"T_0abe7_row5_col2\" class=\"data row5 col2\" >0.017251</td>\n",
              "      <td id=\"T_0abe7_row5_col3\" class=\"data row5 col3\" >0.357600</td>\n",
              "      <td id=\"T_0abe7_row5_col4\" class=\"data row5 col4\" >-0.204037</td>\n",
              "      <td id=\"T_0abe7_row5_col5\" class=\"data row5 col5\" >1.000000</td>\n",
              "      <td id=\"T_0abe7_row5_col6\" class=\"data row5 col6\" >0.571869</td>\n",
              "      <td id=\"T_0abe7_row5_col7\" class=\"data row5 col7\" >0.536155</td>\n",
              "      <td id=\"T_0abe7_row5_col8\" class=\"data row5 col8\" >0.118928</td>\n",
              "      <td id=\"T_0abe7_row5_col9\" class=\"data row5 col9\" >-0.350683</td>\n",
              "      <td id=\"T_0abe7_row5_col10\" class=\"data row5 col10\" >0.488791</td>\n",
              "    </tr>\n",
              "    <tr>\n",
              "      <th id=\"T_0abe7_level0_row6\" class=\"row_heading level0 row6\" >GyrY</th>\n",
              "      <td id=\"T_0abe7_row6_col0\" class=\"data row6 col0\" >-0.182999</td>\n",
              "      <td id=\"T_0abe7_row6_col1\" class=\"data row6 col1\" >-0.182999</td>\n",
              "      <td id=\"T_0abe7_row6_col2\" class=\"data row6 col2\" >0.361518</td>\n",
              "      <td id=\"T_0abe7_row6_col3\" class=\"data row6 col3\" >0.145156</td>\n",
              "      <td id=\"T_0abe7_row6_col4\" class=\"data row6 col4\" >0.198760</td>\n",
              "      <td id=\"T_0abe7_row6_col5\" class=\"data row6 col5\" >0.571869</td>\n",
              "      <td id=\"T_0abe7_row6_col6\" class=\"data row6 col6\" >1.000000</td>\n",
              "      <td id=\"T_0abe7_row6_col7\" class=\"data row6 col7\" >0.552491</td>\n",
              "      <td id=\"T_0abe7_row6_col8\" class=\"data row6 col8\" >-0.177708</td>\n",
              "      <td id=\"T_0abe7_row6_col9\" class=\"data row6 col9\" >0.037468</td>\n",
              "      <td id=\"T_0abe7_row6_col10\" class=\"data row6 col10\" >0.124710</td>\n",
              "    </tr>\n",
              "    <tr>\n",
              "      <th id=\"T_0abe7_level0_row7\" class=\"row_heading level0 row7\" >GyrZ</th>\n",
              "      <td id=\"T_0abe7_row7_col0\" class=\"data row7 col0\" >-0.209210</td>\n",
              "      <td id=\"T_0abe7_row7_col1\" class=\"data row7 col1\" >-0.209210</td>\n",
              "      <td id=\"T_0abe7_row7_col2\" class=\"data row7 col2\" >0.545716</td>\n",
              "      <td id=\"T_0abe7_row7_col3\" class=\"data row7 col3\" >0.161183</td>\n",
              "      <td id=\"T_0abe7_row7_col4\" class=\"data row7 col4\" >0.235043</td>\n",
              "      <td id=\"T_0abe7_row7_col5\" class=\"data row7 col5\" >0.536155</td>\n",
              "      <td id=\"T_0abe7_row7_col6\" class=\"data row7 col6\" >0.552491</td>\n",
              "      <td id=\"T_0abe7_row7_col7\" class=\"data row7 col7\" >1.000000</td>\n",
              "      <td id=\"T_0abe7_row7_col8\" class=\"data row7 col8\" >-0.098761</td>\n",
              "      <td id=\"T_0abe7_row7_col9\" class=\"data row7 col9\" >0.064057</td>\n",
              "      <td id=\"T_0abe7_row7_col10\" class=\"data row7 col10\" >0.224236</td>\n",
              "    </tr>\n",
              "    <tr>\n",
              "      <th id=\"T_0abe7_level0_row8\" class=\"row_heading level0 row8\" >EulerX</th>\n",
              "      <td id=\"T_0abe7_row8_col0\" class=\"data row8 col0\" >-0.858235</td>\n",
              "      <td id=\"T_0abe7_row8_col1\" class=\"data row8 col1\" >-0.858235</td>\n",
              "      <td id=\"T_0abe7_row8_col2\" class=\"data row8 col2\" >-0.414550</td>\n",
              "      <td id=\"T_0abe7_row8_col3\" class=\"data row8 col3\" >0.793832</td>\n",
              "      <td id=\"T_0abe7_row8_col4\" class=\"data row8 col4\" >-0.713834</td>\n",
              "      <td id=\"T_0abe7_row8_col5\" class=\"data row8 col5\" >0.118928</td>\n",
              "      <td id=\"T_0abe7_row8_col6\" class=\"data row8 col6\" >-0.177708</td>\n",
              "      <td id=\"T_0abe7_row8_col7\" class=\"data row8 col7\" >-0.098761</td>\n",
              "      <td id=\"T_0abe7_row8_col8\" class=\"data row8 col8\" >1.000000</td>\n",
              "      <td id=\"T_0abe7_row8_col9\" class=\"data row8 col9\" >-0.840036</td>\n",
              "      <td id=\"T_0abe7_row8_col10\" class=\"data row8 col10\" >0.793130</td>\n",
              "    </tr>\n",
              "    <tr>\n",
              "      <th id=\"T_0abe7_level0_row9\" class=\"row_heading level0 row9\" >EulerY</th>\n",
              "      <td id=\"T_0abe7_row9_col0\" class=\"data row9 col0\" >0.689478</td>\n",
              "      <td id=\"T_0abe7_row9_col1\" class=\"data row9 col1\" >0.689478</td>\n",
              "      <td id=\"T_0abe7_row9_col2\" class=\"data row9 col2\" >0.504648</td>\n",
              "      <td id=\"T_0abe7_row9_col3\" class=\"data row9 col3\" >-0.713117</td>\n",
              "      <td id=\"T_0abe7_row9_col4\" class=\"data row9 col4\" >0.786057</td>\n",
              "      <td id=\"T_0abe7_row9_col5\" class=\"data row9 col5\" >-0.350683</td>\n",
              "      <td id=\"T_0abe7_row9_col6\" class=\"data row9 col6\" >0.037468</td>\n",
              "      <td id=\"T_0abe7_row9_col7\" class=\"data row9 col7\" >0.064057</td>\n",
              "      <td id=\"T_0abe7_row9_col8\" class=\"data row9 col8\" >-0.840036</td>\n",
              "      <td id=\"T_0abe7_row9_col9\" class=\"data row9 col9\" >1.000000</td>\n",
              "      <td id=\"T_0abe7_row9_col10\" class=\"data row9 col10\" >-0.767085</td>\n",
              "    </tr>\n",
              "    <tr>\n",
              "      <th id=\"T_0abe7_level0_row10\" class=\"row_heading level0 row10\" >EulerZ</th>\n",
              "      <td id=\"T_0abe7_row10_col0\" class=\"data row10 col0\" >-0.839506</td>\n",
              "      <td id=\"T_0abe7_row10_col1\" class=\"data row10 col1\" >-0.839506</td>\n",
              "      <td id=\"T_0abe7_row10_col2\" class=\"data row10 col2\" >-0.259639</td>\n",
              "      <td id=\"T_0abe7_row10_col3\" class=\"data row10 col3\" >0.813354</td>\n",
              "      <td id=\"T_0abe7_row10_col4\" class=\"data row10 col4\" >-0.585117</td>\n",
              "      <td id=\"T_0abe7_row10_col5\" class=\"data row10 col5\" >0.488791</td>\n",
              "      <td id=\"T_0abe7_row10_col6\" class=\"data row10 col6\" >0.124710</td>\n",
              "      <td id=\"T_0abe7_row10_col7\" class=\"data row10 col7\" >0.224236</td>\n",
              "      <td id=\"T_0abe7_row10_col8\" class=\"data row10 col8\" >0.793130</td>\n",
              "      <td id=\"T_0abe7_row10_col9\" class=\"data row10 col9\" >-0.767085</td>\n",
              "      <td id=\"T_0abe7_row10_col10\" class=\"data row10 col10\" >1.000000</td>\n",
              "    </tr>\n",
              "  </tbody>\n",
              "</table>\n"
            ]
          },
          "metadata": {},
          "execution_count": 8
        }
      ],
      "source": [
        "#Corelation of absolute values\n",
        "df_abs.corr().style.background_gradient(cmap='coolwarm')"
      ]
    },
    {
      "cell_type": "code",
      "execution_count": 9,
      "metadata": {
        "colab": {
          "base_uri": "https://localhost:8080/",
          "height": 483
        },
        "id": "sFwDUCRExiJa",
        "outputId": "b576915a-3d6b-4a43-bcd7-dd271cf08cee"
      },
      "outputs": [
        {
          "output_type": "display_data",
          "data": {
            "text/plain": [
              "<Figure size 864x576 with 9 Axes>"
            ],
            "image/png": "[encoded data removed]"
          },
          "metadata": {
            "needs_background": "light"
          }
        }
      ],
      "source": [
        "#Plotting the signals\n",
        "plot_cols = ['AccX', 'AccY', 'AccZ','GyrX','GyrY','GyrZ','EulerX','EulerY','EulerZ' ]\n",
        "plot_features = df[plot_cols]\n",
        "#plot_features.index = date_time\n",
        "_ = plot_features.plot(subplots=True)\n",
        "\n"
      ]
    },
    {
      "cell_type": "code",
      "execution_count": 10,
      "metadata": {
        "colab": {
          "base_uri": "https://localhost:8080/",
          "height": 484
        },
        "id": "L4-QxsSLxiJa",
        "outputId": "a97f4583-f2c9-4c01-d54f-c69579fc8d47"
      },
      "outputs": [
        {
          "output_type": "display_data",
          "data": {
            "text/plain": [
              "<Figure size 864x576 with 1 Axes>"
            ],
            "image/png": "[encoded data removed]"
          },
          "metadata": {
            "needs_background": "light"
          }
        }
      ],
      "source": [
        "# one sensore, All Directions \n",
        "cols = ['AccX', 'AccY', 'AccZ']\n",
        "plot_features = df[cols]\n",
        "#plot_features.index = date_time\n",
        "_ = plot_features.plot(subplots=False)\n"
      ]
    },
    {
      "cell_type": "markdown",
      "metadata": {
        "id": "7q6K8CBBxiJb"
      },
      "source": [
        "# Loading the Dataset "
      ]
    },
    {
      "cell_type": "code",
      "execution_count": 11,
      "metadata": {
        "execution": {
          "iopub.execute_input": "2022-12-21T14:56:36.160278Z",
          "iopub.status.busy": "2022-12-21T14:56:36.159206Z",
          "iopub.status.idle": "2022-12-21T14:56:36.166572Z",
          "shell.execute_reply": "2022-12-21T14:56:36.165676Z",
          "shell.execute_reply.started": "2022-12-21T14:56:36.160236Z"
        },
        "id": "EDEcITk7xiJb"
      },
      "outputs": [],
      "source": [
        "#Defining range of subjects and fall tasks and trialas\n",
        "subjects = np.arange(6,39)\n",
        "tasks = np.arange(20,35)\n",
        "trials = np.arange(1,6)\n"
      ]
    },
    {
      "cell_type": "code",
      "execution_count": 12,
      "metadata": {
        "execution": {
          "iopub.execute_input": "2022-12-21T15:04:06.241482Z",
          "iopub.status.busy": "2022-12-21T15:04:06.24113Z",
          "iopub.status.idle": "2022-12-21T15:06:44.969921Z",
          "shell.execute_reply": "2022-12-21T15:06:44.968774Z",
          "shell.execute_reply.started": "2022-12-21T15:04:06.241451Z"
        },
        "colab": {
          "base_uri": "https://localhost:8080/"
        },
        "id": "YEQF8UGDxiJb",
        "outputId": "541d2bbc-d1ba-4f9b-a838-d2d68178097f"
      },
      "outputs": [
        {
          "output_type": "stream",
          "name": "stdout",
          "text": [
            "Hello subject  6 !, Hello subject  7 !, Hello subject  8 !, Hello subject  9 !, Hello subject  10 !, Hello subject  11 !, Hello subject  12 !, Hello subject  13 !, Hello subject  14 !, Hello subject  15 !, Hello subject  16 !, Hello subject  17 !, Hello subject  18 !, Hello subject  19 !, Hello subject  20 !, Hello subject  21 !, Hello subject  22 !, Hello subject  23 !, Hello subject  24 !, Hello subject  25 !, Hello subject  26 !, Hello subject  27 !, Hello subject  28 !, Hello subject  29 !, Hello subject  30 !, Hello subject  31 !, Hello subject  32 !, Hello subject  33 !, Hello subject  34 !, Hello subject  35 !, Hello subject  36 !, Hello subject  37 !, Hello subject  38 !, 2319\n"
          ]
        }
      ],
      "source": [
        "# Loading Falling activities\n",
        "# Divinding them to train test & validation sets \n",
        "#in a way to make sure that we have all subjects and all activities are included in in all three sets\n",
        "xtrain2 = []\n",
        "ytrain2 = []\n",
        "ztrain2 =[]\n",
        "\n",
        "xtest2 = []\n",
        "ytest2 = []\n",
        "ztest2 = []\n",
        "\n",
        "xval2 = []\n",
        "yval2 = []\n",
        "zval2 = []\n",
        "\n",
        "ws = 50 #window size\n",
        "st = 5 #Stepsize\n",
        "\n",
        "lenght =[]\n",
        "\n",
        "for i in subjects:\n",
        "    \n",
        "    print('Hello subject ',i,end=' !, ')\n",
        "    for j in tasks:\n",
        "        \n",
        "        xx = []# signals\n",
        "        yy = []# label\n",
        "        zz = []# activity Id\n",
        "        try:\n",
        "            \n",
        "            for k in trials:\n",
        "                try:\n",
        "\n",
        "                    filename = 'S'+ str(i).zfill(2) + 'T' + str(j).zfill(2) + 'R' + str(k).zfill(2) + '.csv'\n",
        "                    #zfill(2)inghadr sefr ezafe mikone ta size berese be 2\n",
        "                    labelfilename =  'SA'+ str(i).zfill(2) + '_label.xlsx'\n",
        "\n",
        "                    label = pd.read_excel('label_data/'+labelfilename,index_col=None, header=None)[1:]\n",
        "                    data = pd.read_csv('sensor_data/'+'SA' + str(i).zfill(2)+'/'+filename)\n",
        "                    #print(len(lable))\n",
        "\n",
        "                    acc_x = np.array(data['AccX']).reshape((len(data),1))\n",
        "                    acc_y = np.array(data['AccY']).reshape((len(data),1))\n",
        "                    acc_z = np.array(data['AccZ']).reshape((len(data),1))\n",
        "                    gyro_x = np.array(data['GyrX']).reshape((len(data),1))\n",
        "                    gyro_y = np.array(data['GyrY']).reshape((len(data),1))\n",
        "                    gyro_z = np.array(data['GyrZ']).reshape((len(data),1))\n",
        "                    euler_x = np.array(data['EulerX']).reshape((len(data),1))\n",
        "                    euler_y = np.array(data['EulerX']).reshape((len(data),1))\n",
        "                    euler_z = np.array(data['EulerX']).reshape((len(data),1))\n",
        "                    \n",
        "                    ############\n",
        "\n",
        "\n",
        "                    data = np.concatenate([acc_x,acc_y,acc_z,gyro_x,gyro_y,gyro_z,euler_x,euler_y,euler_z],axis = -1)\n",
        "                    lenght.append(data.shape[0])\n",
        "\n",
        "                    activity = 0\n",
        "                    for row in range(len(label)):\n",
        "                        trial = int(label.iloc[row][2])\n",
        "                            #trial = int(z)\n",
        "                        if not pd.isnull(label.iloc[row][0]):\n",
        "                            #activity ro khoondim\n",
        "                            activity = int(label.iloc[row][0][5:7])\n",
        "                        pf = label.iloc[row][3]-1 #prefall point\n",
        "                        f = label.iloc[row][4]-1 #fall point\n",
        "                        #inja 50 taye vasat ro gereftim\n",
        "                        \n",
        "                        if f - pf < 50 : continue\n",
        "\n",
        "                        if trial == k and activity == j :\n",
        "                            start = int(pf-ws+3)\n",
        "                            #end = int(f-((f-pf)-50/2))\n",
        "                            #end = int(f-ws)\n",
        "                            end = int(pf+((f - pf) - 50 )/2)\n",
        "                            \n",
        "                            for x in range(start,end,st):\n",
        "                                xx.append(data[x:x+ws])\n",
        "                                yy.append(1)\n",
        "                                zz.append(j)\n",
        "                            \n",
        "\n",
        "                except : continue\n",
        "            \n",
        "            xtrain,xtest,ytrain,ytest,ztrain,ztest = train_test_split(xx,yy,zz,train_size = 0.7)\n",
        "            xtest,xval,ytest,yval,ztest,zval = train_test_split(xtest,ytest,ztest,train_size = 0.5) \n",
        "\n",
        "            xtrain2 += xtrain\n",
        "            ytrain2 += ytrain\n",
        "            ztrain2 +=ztrain\n",
        "\n",
        "            xtest2 += xtest\n",
        "            ytest2 += ytest\n",
        "            ztest2 += ztest\n",
        "\n",
        "            xval2 += xval\n",
        "            yval2 += yval\n",
        "            zval2 += zval\n",
        "        except : continue\n",
        "        \n",
        "    \n",
        "    \n",
        "    \n",
        "print(len(lenght))"
      ]
    },
    {
      "cell_type": "code",
      "execution_count": 13,
      "metadata": {
        "id": "2IpvLmcZxiJd"
      },
      "outputs": [],
      "source": [
        "#checking the structure and size\n",
        "t1=np.array(xtrain2)\n",
        "t2=np.array(ytrain2)\n",
        "t3=np.array(ztrain2)"
      ]
    },
    {
      "cell_type": "code",
      "execution_count": 14,
      "metadata": {
        "id": "Jz0-EkIVxiJd",
        "outputId": "588518b4-1e75-4203-fd0c-9ab92969b4e8",
        "colab": {
          "base_uri": "https://localhost:8080/"
        }
      },
      "outputs": [
        {
          "output_type": "stream",
          "name": "stdout",
          "text": [
            "(18711, 50, 9)\n",
            "(18711,)\n",
            "(18711,)\n"
          ]
        }
      ],
      "source": [
        "print(t1.shape)\n",
        "print(t2.shape)\n",
        "print(t3.shape)"
      ]
    },
    {
      "cell_type": "code",
      "execution_count": 15,
      "metadata": {
        "execution": {
          "iopub.execute_input": "2022-12-21T15:06:44.972838Z",
          "iopub.status.busy": "2022-12-21T15:06:44.972177Z",
          "iopub.status.idle": "2022-12-21T15:06:59.443653Z",
          "shell.execute_reply": "2022-12-21T15:06:59.442582Z",
          "shell.execute_reply.started": "2022-12-21T15:06:44.972794Z"
        },
        "id": "v33yyc_TxiJe",
        "outputId": "799dbb60-f965-4d78-db44-f8700fddd762",
        "colab": {
          "base_uri": "https://localhost:8080/"
        }
      },
      "outputs": [
        {
          "output_type": "stream",
          "name": "stdout",
          "text": [
            "Goodbye subject  6 !, Goodbye subject  7 !, Goodbye subject  8 !, Goodbye subject  9 !, Goodbye subject  10 !, Goodbye subject  11 !, Goodbye subject  12 !, Goodbye subject  13 !, Goodbye subject  14 !, Goodbye subject  15 !, Goodbye subject  16 !, Goodbye subject  17 !, Goodbye subject  18 !, Goodbye subject  19 !, Goodbye subject  20 !, Goodbye subject  21 !, Goodbye subject  22 !, Goodbye subject  23 !, Goodbye subject  24 !, Goodbye subject  25 !, Goodbye subject  26 !, Goodbye subject  27 !, Goodbye subject  28 !, Goodbye subject  29 !, Goodbye subject  30 !, Goodbye subject  31 !, Goodbye subject  32 !, Goodbye subject  33 !, Goodbye subject  34 !, Goodbye subject  35 !, Goodbye subject  36 !, Goodbye subject  37 !, Goodbye subject  38 !, 204 4087 832.6665439823335\n"
          ]
        }
      ],
      "source": [
        "# Loading ADLs  and doing the same steps as Falling ones an adding them to falling ones\n",
        "st =5\n",
        "lenght2=[]\n",
        "for i in subjects:\n",
        "    \n",
        "    print('Goodbye subject ',i,end=' !, ')\n",
        "    for j in np.arange(1,40):\n",
        "        if j in tasks : continue\n",
        "        try:\n",
        "        \n",
        "            xx = []\n",
        "            yy = []\n",
        "            zz = []\n",
        "\n",
        "            for k in trials:\n",
        "                try :\n",
        "                    filename = 'S'+ str(i).zfill(2) + 'T' + str(j).zfill(2) + 'R' + str(k).zfill(2) + '.csv'\n",
        "\n",
        "                    data = pd.read_csv('sensor_data/'+'SA' + str(i).zfill(2)+'/'+filename)\n",
        "\n",
        "                    acc_x = np.array(data['AccX']).reshape((len(data),1))\n",
        "                    acc_y = np.array(data['AccY']).reshape((len(data),1))\n",
        "                    acc_z = np.array(data['AccZ']).reshape((len(data),1))\n",
        "                    gyro_x = np.array(data['GyrX']).reshape((len(data),1))\n",
        "                    gyro_y = np.array(data['GyrY']).reshape((len(data),1))\n",
        "                    gyro_z = np.array(data['GyrZ']).reshape((len(data),1))\n",
        "                    euler_x = np.array(data['EulerX']).reshape((len(data),1))\n",
        "                    euler_y = np.array(data['EulerX']).reshape((len(data),1))\n",
        "                    euler_z = np.array(data['EulerX']).reshape((len(data),1))\n",
        "\n",
        "                    data = np.concatenate([acc_x,acc_y,acc_z,gyro_x,gyro_y,gyro_z,euler_x,euler_y,euler_z],axis = -1)\n",
        "                    lenght2.append(data.shape[0])\n",
        "\n",
        "                    cnt = 0\n",
        "                    if data.shape[0] < 100 : continue\n",
        "\n",
        "                    if j in [1,11,12,17] :\n",
        "                        for x in range(50,data.shape[0]-50,st):\n",
        "                            xx.append(data[x:x+50])\n",
        "                            yy.append(0)\n",
        "                            zz.append(j)\n",
        "                            cnt += 1\n",
        "                            if cnt == 100:break\n",
        "                    else : \n",
        "                        for x in range(50,data.shape[0]-50,st):\n",
        "                            xx.append(data[x:x+50])\n",
        "                            yy.append(0)\n",
        "                            zz.append(j)\n",
        "                            cnt += 1\n",
        "                            if cnt == 20:break\n",
        "\n",
        "                except : continue\n",
        "\n",
        "\n",
        "            xtrain,xtest,ytrain,ytest,ztrain,ztest = train_test_split(xx,yy,zz,train_size = 0.7)\n",
        "            xtest,xval,ytest,yval,ztest,zval = train_test_split(xtest,ytest,ztest,train_size = 0.5) \n",
        "            \n",
        "\n",
        "            xtrain2 += xtrain\n",
        "            ytrain2 += ytrain\n",
        "            ztrain2 += ztrain\n",
        "\n",
        "            xtest2 += xtest\n",
        "            ytest2 += ytest\n",
        "            ztest2 += ztest\n",
        "\n",
        "            xval2 += xval\n",
        "            yval2 += yval\n",
        "            zval2 += zval\n",
        "        except : continue\n",
        "        \n",
        "    \n",
        "\n",
        "xtrain2 = np.array(xtrain2)\n",
        "ytrain2 = np.array(ytrain2)\n",
        "ztrain2 = np.array(ztrain2)\n",
        "\n",
        "xtest2 = np.array(xtest2)\n",
        "ytest2 = np.array(ytest2)\n",
        "ztest2 = np.array(ztest2)\n",
        "\n",
        "xval2 = np.array(xval2)\n",
        "yval2 = np.array(yval2)\n",
        "zval2 = np.array(zval2)\n",
        "print(min(lenght2),max(lenght2),sum(lenght2)/len(lenght2))"
      ]
    },
    {
      "cell_type": "code",
      "execution_count": 16,
      "metadata": {
        "execution": {
          "iopub.execute_input": "2022-12-21T15:06:59.445593Z",
          "iopub.status.busy": "2022-12-21T15:06:59.444953Z",
          "iopub.status.idle": "2022-12-21T15:06:59.453169Z",
          "shell.execute_reply": "2022-12-21T15:06:59.451998Z",
          "shell.execute_reply.started": "2022-12-21T15:06:59.445554Z"
        },
        "id": "QSbe2G5vxiJf",
        "outputId": "e80e3c71-c4c9-463e-d7f0-f454dbea5d53",
        "colab": {
          "base_uri": "https://localhost:8080/"
        }
      },
      "outputs": [
        {
          "output_type": "stream",
          "name": "stdout",
          "text": [
            "(63917, 50, 9) (63917,) (63917,)\n",
            "[1 1 1 1 1]\n",
            "[0 1]\n"
          ]
        }
      ],
      "source": [
        "print(xtrain2.shape,ytrain2.shape, ztrain2.shape)\n",
        "print(yval2[:5])\n",
        "print(np.unique(ytrain2))"
      ]
    },
    {
      "cell_type": "code",
      "execution_count": 17,
      "metadata": {
        "execution": {
          "iopub.execute_input": "2022-12-21T15:06:59.455701Z",
          "iopub.status.busy": "2022-12-21T15:06:59.455309Z",
          "iopub.status.idle": "2022-12-21T15:06:59.473563Z",
          "shell.execute_reply": "2022-12-21T15:06:59.472622Z",
          "shell.execute_reply.started": "2022-12-21T15:06:59.455635Z"
        },
        "id": "XoH5Ld8pxiJf"
      },
      "outputs": [],
      "source": [
        "# one-hot\n",
        "ytrain1 = []\n",
        "for i in ytrain2:\n",
        "    ytrain1.append([0]*2)\n",
        "    ytrain1[-1][i] = 1\n",
        "ytrain2 = np.array(ytrain1)\n",
        "#####\n",
        "\n",
        "ytest1 = []\n",
        "for i in ytest2:\n",
        "    ytest1.append([0]*2)\n",
        "    ytest1[-1][i] = 1\n",
        "ytest2 = np.array(ytest1)\n",
        "\n",
        "#####\n",
        "yval1 = []\n",
        "for i in yval2:\n",
        "    yval1.append([0]*2)\n",
        "    yval1[-1][i] = 1\n",
        "yval2 = np.array(yval1)"
      ]
    },
    {
      "cell_type": "code",
      "execution_count": 18,
      "metadata": {
        "execution": {
          "iopub.execute_input": "2022-12-21T15:07:06.829035Z",
          "iopub.status.busy": "2022-12-21T15:07:06.828666Z",
          "iopub.status.idle": "2022-12-21T15:07:06.837359Z",
          "shell.execute_reply": "2022-12-21T15:07:06.836095Z",
          "shell.execute_reply.started": "2022-12-21T15:07:06.829005Z"
        },
        "id": "FPCZRLS0xiJg",
        "outputId": "a23d23da-7f28-466d-e5f3-1c0a5326cc7a",
        "colab": {
          "base_uri": "https://localhost:8080/"
        }
      },
      "outputs": [
        {
          "output_type": "execute_result",
          "data": {
            "text/plain": [
              "((63917, 50, 9),\n",
              " (63917, 2),\n",
              " (13733, 50, 9),\n",
              " (13733, 2),\n",
              " (13968, 50, 9),\n",
              " (13968, 2))"
            ]
          },
          "metadata": {},
          "execution_count": 18
        }
      ],
      "source": [
        "xtrain2.shape,ytrain2.shape,xtest2.shape,ytest2.shape,xval2.shape,yval2.shape"
      ]
    },
    {
      "cell_type": "code",
      "execution_count": 19,
      "metadata": {
        "execution": {
          "iopub.execute_input": "2022-12-21T15:07:09.022043Z",
          "iopub.status.busy": "2022-12-21T15:07:09.021664Z",
          "iopub.status.idle": "2022-12-21T15:07:09.422575Z",
          "shell.execute_reply": "2022-12-21T15:07:09.421451Z",
          "shell.execute_reply.started": "2022-12-21T15:07:09.022011Z"
        },
        "id": "dz4gFdEXxiJg",
        "outputId": "a234ddc1-0b63-40d0-bf98-4f1226e2fea8",
        "colab": {
          "base_uri": "https://localhost:8080/",
          "height": 468
        }
      },
      "outputs": [
        {
          "output_type": "display_data",
          "data": {
            "text/plain": [
              "<Figure size 1728x576 with 3 Axes>"
            ],
            "image/png": "[encoded data removed]"
          },
          "metadata": {
            "needs_background": "light"
          }
        }
      ],
      "source": [
        "plt.figure(figsize = (24,8))\n",
        "plt.subplot(1,3,1)\n",
        "plt.title(\"Train Set\")\n",
        "plt.bar(np.arange(0,2),sum(ytrain2))\n",
        "\n",
        "plt.subplot(1,3,2)\n",
        "plt.title(\"Validation Set\")\n",
        "plt.bar(np.arange(0,2),sum(yval2))\n",
        "\n",
        "plt.subplot(1,3,3)\n",
        "plt.title(\"Test Set\")\n",
        "plt.bar(np.arange(0,2),sum(ytest2))\n",
        "plt.show()"
      ]
    },
    {
      "cell_type": "markdown",
      "metadata": {
        "id": "OImYhuPRxiJg"
      },
      "source": [
        "# CNN"
      ]
    },
    {
      "cell_type": "code",
      "execution_count": 21,
      "metadata": {
        "execution": {
          "iopub.execute_input": "2022-12-21T15:34:38.742501Z",
          "iopub.status.busy": "2022-12-21T15:34:38.742105Z",
          "iopub.status.idle": "2022-12-21T15:34:38.766208Z",
          "shell.execute_reply": "2022-12-21T15:34:38.765298Z",
          "shell.execute_reply.started": "2022-12-21T15:34:38.74247Z"
        },
        "id": "3fZPQCFsxiJj"
      },
      "outputs": [],
      "source": [
        "#Best in the sence of balance accuracy between tasks# 1 is 2\n",
        "def model1_cnn(input_shape,number_of_activities):\n",
        "    input_layer = keras.Input(shape = input_shape)\n",
        "    \n",
        "    cnn = layers.Conv1D(24,2,1,\"same\", name ='Conv1D_1')(input_layer)\n",
        "    cnn = layers.Conv1D(72,2,1,\"same\",name = 'Conv1D_2')(cnn)\n",
        "    cnn = layers.MaxPool1D(1)(cnn)#\n",
        "    cnn = layers.Dropout(rate = 0.1)(cnn)#\n",
        "    \n",
        "    cnn = layers.Conv1D(144,2,1,\"same\",name = 'Conv1D_3')(cnn)\n",
        "    cnn = layers.LayerNormalization(name = 'layernorm_1')(cnn)\n",
        "    cnn = layers.Conv1D(288,2,1,\"same\",name = 'Conv1D_4')(cnn)#\n",
        "    \n",
        "    cnn = layers.Flatten()(cnn)\n",
        "    \n",
        "    \n",
        "    cnn = layers.Dense(288,activation='relu',name = 'dense_0')(cnn)#\n",
        "    cnn = layers.Dense(144,activation='relu',name = 'dense_1')(cnn)\n",
        "    cnn = layers.Dense(72,activation='relu',name = 'dense_2')(cnn)\n",
        "    cnn = layers.Dense(24,activation='relu',name = 'dense_3')(cnn)\n",
        "    cnn = layers.Dense(number_of_activities,activation='softmax',name = 'dense_4')(cnn)\n",
        "    \n",
        "    return keras.Model(input_layer,cnn,name = 'model1')"
      ]
    },
    {
      "cell_type": "code",
      "execution_count": 22,
      "metadata": {
        "id": "b8bjchwjxiJj"
      },
      "outputs": [],
      "source": [
        "cnn2 = model1_cnn(xtrain2.shape[1:],2)"
      ]
    },
    {
      "cell_type": "code",
      "execution_count": 23,
      "metadata": {
        "execution": {
          "iopub.execute_input": "2022-12-21T15:35:12.641199Z",
          "iopub.status.busy": "2022-12-21T15:35:12.640879Z",
          "iopub.status.idle": "2022-12-21T15:35:12.648991Z",
          "shell.execute_reply": "2022-12-21T15:35:12.647918Z",
          "shell.execute_reply.started": "2022-12-21T15:35:12.641162Z"
        },
        "id": "sogk49wyxiJj",
        "outputId": "1d7a41cb-337b-4384-b580-bf7852a7d2df",
        "colab": {
          "base_uri": "https://localhost:8080/"
        }
      },
      "outputs": [
        {
          "output_type": "stream",
          "name": "stdout",
          "text": [
            "Model: \"model1\"\n",
            "_________________________________________________________________\n",
            " Layer (type)                Output Shape              Param #   \n",
            "=================================================================\n",
            " input_1 (InputLayer)        [(None, 50, 9)]           0         \n",
            "                                                                 \n",
            " Conv1D_1 (Conv1D)           (None, 50, 24)            456       \n",
            "                                                                 \n",
            " Conv1D_2 (Conv1D)           (None, 50, 72)            3528      \n",
            "                                                                 \n",
            " max_pooling1d (MaxPooling1D  (None, 50, 72)           0         \n",
            " )                                                               \n",
            "                                                                 \n",
            " dropout (Dropout)           (None, 50, 72)            0         \n",
            "                                                                 \n",
            " Conv1D_3 (Conv1D)           (None, 50, 144)           20880     \n",
            "                                                                 \n",
            " layernorm_1 (LayerNormaliza  (None, 50, 144)          288       \n",
            " tion)                                                           \n",
            "                                                                 \n",
            " Conv1D_4 (Conv1D)           (None, 50, 288)           83232     \n",
            "                                                                 \n",
            " flatten (Flatten)           (None, 14400)             0         \n",
            "                                                                 \n",
            " dense_0 (Dense)             (None, 288)               4147488   \n",
            "                                                                 \n",
            " dense_1 (Dense)             (None, 144)               41616     \n",
            "                                                                 \n",
            " dense_2 (Dense)             (None, 72)                10440     \n",
            "                                                                 \n",
            " dense_3 (Dense)             (None, 24)                1752      \n",
            "                                                                 \n",
            " dense_4 (Dense)             (None, 2)                 50        \n",
            "                                                                 \n",
            "=================================================================\n",
            "Total params: 4,309,730\n",
            "Trainable params: 4,309,730\n",
            "Non-trainable params: 0\n",
            "_________________________________________________________________\n"
          ]
        }
      ],
      "source": [
        "cnn2.summary()"
      ]
    },
    {
      "cell_type": "code",
      "execution_count": 24,
      "metadata": {
        "execution": {
          "iopub.execute_input": "2022-12-21T15:35:16.825672Z",
          "iopub.status.busy": "2022-12-21T15:35:16.825298Z",
          "iopub.status.idle": "2022-12-21T15:35:38.129302Z",
          "shell.execute_reply": "2022-12-21T15:35:38.128303Z",
          "shell.execute_reply.started": "2022-12-21T15:35:16.82564Z"
        },
        "id": "YnJ53coHxiJj",
        "outputId": "80bd2b74-242d-40da-8d67-ab73216dbd1f",
        "colab": {
          "base_uri": "https://localhost:8080/"
        }
      },
      "outputs": [
        {
          "output_type": "stream",
          "name": "stdout",
          "text": [
            "Epoch 1/30\n",
            "640/640 [==============================] - 18s 9ms/step - loss: 0.4662 - accuracy: 0.7937 - val_loss: 0.4248 - val_accuracy: 0.8109\n",
            "Epoch 2/30\n",
            "640/640 [==============================] - 5s 8ms/step - loss: 0.4035 - accuracy: 0.8195 - val_loss: 0.3892 - val_accuracy: 0.8304\n",
            "Epoch 3/30\n",
            "640/640 [==============================] - 5s 9ms/step - loss: 0.3690 - accuracy: 0.8416 - val_loss: 0.4186 - val_accuracy: 0.8291\n",
            "Epoch 4/30\n",
            "640/640 [==============================] - 5s 8ms/step - loss: 0.3478 - accuracy: 0.8533 - val_loss: 0.3845 - val_accuracy: 0.8419\n",
            "Epoch 5/30\n",
            "640/640 [==============================] - 6s 9ms/step - loss: 0.3331 - accuracy: 0.8593 - val_loss: 0.3245 - val_accuracy: 0.8615\n",
            "Epoch 6/30\n",
            "640/640 [==============================] - 5s 8ms/step - loss: 0.3214 - accuracy: 0.8652 - val_loss: 0.3145 - val_accuracy: 0.8663\n",
            "Epoch 7/30\n",
            "640/640 [==============================] - 5s 8ms/step - loss: 0.3119 - accuracy: 0.8707 - val_loss: 0.3287 - val_accuracy: 0.8635\n",
            "Epoch 8/30\n",
            "640/640 [==============================] - 6s 9ms/step - loss: 0.3037 - accuracy: 0.8739 - val_loss: 0.3051 - val_accuracy: 0.8701\n",
            "Epoch 9/30\n",
            "640/640 [==============================] - 5s 8ms/step - loss: 0.2959 - accuracy: 0.8768 - val_loss: 0.3422 - val_accuracy: 0.8612\n",
            "Epoch 10/30\n",
            "640/640 [==============================] - 6s 9ms/step - loss: 0.2903 - accuracy: 0.8801 - val_loss: 0.3077 - val_accuracy: 0.8678\n",
            "Epoch 11/30\n",
            "640/640 [==============================] - 5s 8ms/step - loss: 0.2839 - accuracy: 0.8821 - val_loss: 0.3121 - val_accuracy: 0.8730\n",
            "Epoch 12/30\n",
            "640/640 [==============================] - 5s 8ms/step - loss: 0.2776 - accuracy: 0.8863 - val_loss: 0.2961 - val_accuracy: 0.8754\n",
            "Epoch 13/30\n",
            "640/640 [==============================] - 5s 8ms/step - loss: 0.2733 - accuracy: 0.8876 - val_loss: 0.2821 - val_accuracy: 0.8832\n",
            "Epoch 14/30\n",
            "640/640 [==============================] - 5s 8ms/step - loss: 0.2679 - accuracy: 0.8900 - val_loss: 0.2756 - val_accuracy: 0.8860\n",
            "Epoch 15/30\n",
            "640/640 [==============================] - 6s 9ms/step - loss: 0.2635 - accuracy: 0.8918 - val_loss: 0.2761 - val_accuracy: 0.8861\n",
            "Epoch 16/30\n",
            "640/640 [==============================] - 5s 8ms/step - loss: 0.2597 - accuracy: 0.8947 - val_loss: 0.3060 - val_accuracy: 0.8730\n",
            "Epoch 17/30\n",
            "640/640 [==============================] - 5s 8ms/step - loss: 0.2557 - accuracy: 0.8960 - val_loss: 0.2725 - val_accuracy: 0.8875\n",
            "Epoch 18/30\n",
            "640/640 [==============================] - 6s 9ms/step - loss: 0.2517 - accuracy: 0.8977 - val_loss: 0.2633 - val_accuracy: 0.8888\n",
            "Epoch 19/30\n",
            "640/640 [==============================] - 5s 8ms/step - loss: 0.2481 - accuracy: 0.8994 - val_loss: 0.2836 - val_accuracy: 0.8824\n",
            "Epoch 20/30\n",
            "640/640 [==============================] - 6s 9ms/step - loss: 0.2453 - accuracy: 0.9002 - val_loss: 0.2692 - val_accuracy: 0.8877\n",
            "Epoch 21/30\n",
            "640/640 [==============================] - 5s 8ms/step - loss: 0.2423 - accuracy: 0.9027 - val_loss: 0.2625 - val_accuracy: 0.8915\n",
            "Epoch 22/30\n",
            "640/640 [==============================] - 5s 8ms/step - loss: 0.2391 - accuracy: 0.9031 - val_loss: 0.2626 - val_accuracy: 0.8919\n",
            "Epoch 23/30\n",
            "640/640 [==============================] - 6s 9ms/step - loss: 0.2364 - accuracy: 0.9055 - val_loss: 0.2523 - val_accuracy: 0.8950\n",
            "Epoch 24/30\n",
            "640/640 [==============================] - 5s 8ms/step - loss: 0.2339 - accuracy: 0.9067 - val_loss: 0.2523 - val_accuracy: 0.8945\n",
            "Epoch 25/30\n",
            "640/640 [==============================] - 6s 9ms/step - loss: 0.2310 - accuracy: 0.9067 - val_loss: 0.2665 - val_accuracy: 0.8895\n",
            "Epoch 26/30\n",
            "640/640 [==============================] - 5s 8ms/step - loss: 0.2292 - accuracy: 0.9086 - val_loss: 0.2476 - val_accuracy: 0.8973\n",
            "Epoch 27/30\n",
            "640/640 [==============================] - 5s 8ms/step - loss: 0.2264 - accuracy: 0.9096 - val_loss: 0.2506 - val_accuracy: 0.8950\n",
            "Epoch 28/30\n",
            "640/640 [==============================] - 6s 9ms/step - loss: 0.2239 - accuracy: 0.9099 - val_loss: 0.2607 - val_accuracy: 0.8935\n",
            "Epoch 29/30\n",
            "640/640 [==============================] - 5s 8ms/step - loss: 0.2216 - accuracy: 0.9111 - val_loss: 0.2424 - val_accuracy: 0.8998\n",
            "Epoch 30/30\n",
            "640/640 [==============================] - 6s 9ms/step - loss: 0.2197 - accuracy: 0.9122 - val_loss: 0.2414 - val_accuracy: 0.9016\n"
          ]
        }
      ],
      "source": [
        "\n",
        "# Training \n",
        "optimizers = tf.keras.optimizers.Adagrad(learning_rate=0.001)\n",
        "cnn2.compile(loss = 'binary_crossentropy',optimizer=optimizers,metrics=['accuracy'])\n",
        "cnn_history = cnn2.fit(\n",
        "    xtrain2,\n",
        "    ytrain2,\n",
        "    validation_data = (\n",
        "        xval2,\n",
        "        yval2\n",
        "    ),\n",
        "    epochs = 30,\n",
        "    batch_size = 100,\n",
        ")\n"
      ]
    },
    {
      "cell_type": "code",
      "execution_count": 25,
      "metadata": {
        "execution": {
          "iopub.execute_input": "2022-12-21T15:35:40.632089Z",
          "iopub.status.busy": "2022-12-21T15:35:40.630953Z",
          "iopub.status.idle": "2022-12-21T15:35:41.198269Z",
          "shell.execute_reply": "2022-12-21T15:35:41.197101Z",
          "shell.execute_reply.started": "2022-12-21T15:35:40.632041Z"
        },
        "id": "m5wjAQ2rxiJj",
        "outputId": "913fbdbc-af6f-456f-dc11-23b728b7eace",
        "colab": {
          "base_uri": "https://localhost:8080/"
        }
      },
      "outputs": [
        {
          "output_type": "stream",
          "name": "stdout",
          "text": [
            "430/430 [==============================] - 1s 3ms/step\n"
          ]
        }
      ],
      "source": [
        "ypred = cnn2.predict(xtest2)\n",
        "ytemp = []\n",
        "for i in ypred:\n",
        "    pred = [0]*2\n",
        "    pred[np.argmax(i)] = 1\n",
        "    ytemp.append(pred)\n",
        "ypred = np.array(ytemp)"
      ]
    },
    {
      "cell_type": "code",
      "execution_count": 26,
      "metadata": {
        "execution": {
          "iopub.execute_input": "2022-12-21T15:35:43.416347Z",
          "iopub.status.busy": "2022-12-21T15:35:43.415372Z",
          "iopub.status.idle": "2022-12-21T15:35:43.428831Z",
          "shell.execute_reply": "2022-12-21T15:35:43.427549Z",
          "shell.execute_reply.started": "2022-12-21T15:35:43.41631Z"
        },
        "id": "FpWO9M-dxiJk",
        "outputId": "7bd5fdc6-1581-4ccc-d1bf-492330ed735b",
        "colab": {
          "base_uri": "https://localhost:8080/"
        }
      },
      "outputs": [
        {
          "output_type": "stream",
          "name": "stdout",
          "text": [
            "test accuracy =  90.41724313696933\n"
          ]
        }
      ],
      "source": [
        "# Testing accuracy\n",
        "\n",
        "cnt = 0\n",
        "for i in range(len(ypred)):\n",
        "    if (ypred[i] == ytest2[i]).all() : cnt += 1\n",
        "        \n",
        "print('test accuracy = ',cnt / len(ypred) * 100)"
      ]
    },
    {
      "cell_type": "code",
      "execution_count": 27,
      "metadata": {
        "execution": {
          "iopub.execute_input": "2022-12-21T15:35:45.268931Z",
          "iopub.status.busy": "2022-12-21T15:35:45.268574Z",
          "iopub.status.idle": "2022-12-21T15:35:45.657003Z",
          "shell.execute_reply": "2022-12-21T15:35:45.655988Z",
          "shell.execute_reply.started": "2022-12-21T15:35:45.268901Z"
        },
        "id": "pRXa3q68xiJk",
        "outputId": "f9490ae8-d4e9-49ef-b825-606af8b6f0ff",
        "colab": {
          "base_uri": "https://localhost:8080/",
          "height": 374
        }
      },
      "outputs": [
        {
          "output_type": "display_data",
          "data": {
            "text/plain": [
              "<Figure size 1080x432 with 2 Axes>"
            ],
            "image/png": "[encoded data removed]"
          },
          "metadata": {
            "needs_background": "light"
          }
        }
      ],
      "source": [
        "plt.figure(figsize = (15,6))\n",
        "plt.subplot(1,2,1)\n",
        "plt.plot(cnn_history.history['accuracy'],label=\"accuracy\")\n",
        "plt.plot(cnn_history.history['val_accuracy'],label=\"val_accuracy\")\n",
        "plt.subplot(1,2,2)\n",
        "plt.plot(cnn_history.history['loss'],label = \"loss\")\n",
        "plt.plot(cnn_history.history['val_loss'],label = \"val_loss\")\n",
        "plt.show()"
      ]
    },
    {
      "cell_type": "code",
      "execution_count": 28,
      "metadata": {
        "execution": {
          "iopub.execute_input": "2022-12-21T15:35:47.08878Z",
          "iopub.status.busy": "2022-12-21T15:35:47.087603Z",
          "iopub.status.idle": "2022-12-21T15:35:47.095774Z",
          "shell.execute_reply": "2022-12-21T15:35:47.094666Z",
          "shell.execute_reply.started": "2022-12-21T15:35:47.088733Z"
        },
        "id": "abueayB0xiJk"
      },
      "outputs": [],
      "source": [
        "test_cm = confusion_matrix(ytest2.argmax(axis = 1),ypred.argmax(axis = 1))"
      ]
    },
    {
      "cell_type": "code",
      "execution_count": 29,
      "metadata": {
        "execution": {
          "iopub.execute_input": "2022-12-21T15:35:48.169664Z",
          "iopub.status.busy": "2022-12-21T15:35:48.169294Z",
          "iopub.status.idle": "2022-12-21T15:35:48.425506Z",
          "shell.execute_reply": "2022-12-21T15:35:48.424547Z",
          "shell.execute_reply.started": "2022-12-21T15:35:48.16963Z"
        },
        "id": "-Gxk16FDxiJl",
        "outputId": "a69b8649-7c9a-47e9-f233-0fa4b644f83f",
        "colab": {
          "base_uri": "https://localhost:8080/",
          "height": 590
        }
      },
      "outputs": [
        {
          "output_type": "execute_result",
          "data": {
            "text/plain": [
              "<matplotlib.axes._subplots.AxesSubplot at 0x7ff90acafa60>"
            ]
          },
          "metadata": {},
          "execution_count": 29
        },
        {
          "output_type": "display_data",
          "data": {
            "text/plain": [
              "<Figure size 921.6x691.2 with 2 Axes>"
            ],
            "image/png": "[encoded data removed]"
          },
          "metadata": {}
        }
      ],
      "source": [
        "sb.set(rc = {'figure.figsize':(12.8,9.6)})\n",
        "sb.heatmap(test_cm,annot = True, cmap = 'YlOrRd')"
      ]
    },
    {
      "cell_type": "code",
      "execution_count": 30,
      "metadata": {
        "execution": {
          "iopub.execute_input": "2022-12-21T15:35:49.289612Z",
          "iopub.status.busy": "2022-12-21T15:35:49.289231Z",
          "iopub.status.idle": "2022-12-21T15:35:49.303529Z",
          "shell.execute_reply": "2022-12-21T15:35:49.30218Z",
          "shell.execute_reply.started": "2022-12-21T15:35:49.289578Z"
        },
        "id": "3uprBxoOxiJl",
        "outputId": "1ec0b5aa-e0ec-44e4-88ed-9dd7e7ec4e31",
        "colab": {
          "base_uri": "https://localhost:8080/"
        }
      },
      "outputs": [
        {
          "output_type": "stream",
          "name": "stdout",
          "text": [
            "              precision    recall  f1-score   support\n",
            "\n",
            "           0       0.91      0.95      0.93      9687\n",
            "           1       0.88      0.79      0.83      4046\n",
            "\n",
            "    accuracy                           0.90     13733\n",
            "   macro avg       0.89      0.87      0.88     13733\n",
            "weighted avg       0.90      0.90      0.90     13733\n",
            "\n"
          ]
        }
      ],
      "source": [
        "print(sklearn.metrics.classification_report(ytest2.argmax(axis = 1),ypred.argmax(axis = 1)))"
      ]
    },
    {
      "cell_type": "code",
      "execution_count": 31,
      "metadata": {
        "id": "h1ztHdX_xiJl",
        "outputId": "3e3d9ad0-c1a3-4f83-8962-3b34e906402d",
        "colab": {
          "base_uri": "https://localhost:8080/"
        }
      },
      "outputs": [
        {
          "output_type": "stream",
          "name": "stdout",
          "text": [
            "for task 20 the accuracy is: 67.97385620915033\n",
            "for task 21 the accuracy is: 40.0\n",
            "for task 22 the accuracy is: 90.33457249070632\n",
            "for task 23 the accuracy is: 66.33986928104575\n",
            "for task 24 the accuracy is: 91.32075471698113\n",
            "for task 25 the accuracy is: 70.87087087087087\n",
            "for task 26 the accuracy is: 90.2027027027027\n",
            "for task 27 the accuracy is: 96.20253164556962\n",
            "for task 28 the accuracy is: 58.9041095890411\n",
            "for task 29 the accuracy is: 87.35632183908046\n",
            "for task 30 the accuracy is: 80.36363636363636\n",
            "for task 31 the accuracy is: 83.65758754863813\n",
            "for task 32 the accuracy is: 79.92565055762083\n",
            "for task 33 the accuracy is: 95.54655870445345\n",
            "for task 34 the accuracy is: 79.03225806451613\n"
          ]
        }
      ],
      "source": [
        "cnt = np.zeros(len(tasks))\n",
        "cnt_t = np.zeros(len(tasks))\n",
        "\n",
        "for i in range (len(ypred)):\n",
        "    for j in range(len(tasks)):\n",
        "        if ztest2[i]==tasks[j]:\n",
        "            cnt_t[j] += 1\n",
        "            if (ypred[i] == ytest2[i]).all():\n",
        "                cnt[j] +=1\n",
        "\n",
        "for j in range(len(tasks)):\n",
        "    c = cnt[j]/cnt_t[j]*100\n",
        "    print(\"for task \" + str(tasks[j]) + \" the accuracy is: \" + str(c))\n",
        "            \n",
        "     "
      ]
    },
    {
      "cell_type": "markdown",
      "metadata": {
        "execution": {
          "iopub.execute_input": "2022-11-24T21:10:21.882687Z",
          "iopub.status.busy": "2022-11-24T21:10:21.881964Z",
          "iopub.status.idle": "2022-11-24T21:10:21.886824Z",
          "shell.execute_reply": "2022-11-24T21:10:21.885882Z",
          "shell.execute_reply.started": "2022-11-24T21:10:21.882648Z"
        },
        "id": "bwBQ-bjtxiJn"
      },
      "source": [
        "# LSTM"
      ]
    },
    {
      "cell_type": "code",
      "execution_count": 32,
      "metadata": {
        "execution": {
          "iopub.execute_input": "2022-12-21T15:57:02.713936Z",
          "iopub.status.busy": "2022-12-21T15:57:02.71343Z",
          "iopub.status.idle": "2022-12-21T15:57:02.723634Z",
          "shell.execute_reply": "2022-12-21T15:57:02.72241Z",
          "shell.execute_reply.started": "2022-12-21T15:57:02.7139Z"
        },
        "id": "tPPHuFiExiJn"
      },
      "outputs": [],
      "source": [
        "#LSTM-1\n",
        "def build_lstm1(input_shape,number_of_activities):\n",
        "    input_layer = keras.Input(shape = input_shape,name = 'title_0')\n",
        "    \n",
        "    lstm = layers.LSTM(36,return_sequences = True,name = 'lstm_1')(input_layer)\n",
        "    lstm = layers.LayerNormalization()(lstm)\n",
        "    lstm = layers.Dropout(rate = 0.2)(lstm)\n",
        "\n",
        "    lstm = layers.LSTM(72,return_sequences = False,name = 'lstm_2')(lstm)\n",
        "    lstm = layers.LayerNormalization()(lstm)\n",
        "    \n",
        "    \n",
        "    lstm = layers.Dense(72,name = 'dense_1')(lstm)\n",
        "    lstm = layers.Dense(number_of_activities,name = 'dense_2',activation = 'softmax')(lstm)\n",
        "    \n",
        "    return keras.Model(input_layer,lstm)"
      ]
    },
    {
      "cell_type": "code",
      "execution_count": 33,
      "metadata": {
        "execution": {
          "iopub.execute_input": "2022-12-21T15:57:03.233727Z",
          "iopub.status.busy": "2022-12-21T15:57:03.233054Z",
          "iopub.status.idle": "2022-12-21T15:57:04.355467Z",
          "shell.execute_reply": "2022-12-21T15:57:04.35449Z",
          "shell.execute_reply.started": "2022-12-21T15:57:03.233689Z"
        },
        "id": "JlmUnyRAxiJo"
      },
      "outputs": [],
      "source": [
        "lstm1 = build_lstm1(xtrain2.shape[1:],2)"
      ]
    },
    {
      "cell_type": "code",
      "execution_count": 34,
      "metadata": {
        "execution": {
          "iopub.execute_input": "2022-12-21T15:57:04.493555Z",
          "iopub.status.busy": "2022-12-21T15:57:04.493072Z",
          "iopub.status.idle": "2022-12-21T15:57:04.511124Z",
          "shell.execute_reply": "2022-12-21T15:57:04.509664Z",
          "shell.execute_reply.started": "2022-12-21T15:57:04.493485Z"
        },
        "id": "3cyBblmhxiJo",
        "outputId": "962d705a-155e-4fc2-fc91-e53a27444fab",
        "colab": {
          "base_uri": "https://localhost:8080/"
        }
      },
      "outputs": [
        {
          "output_type": "stream",
          "name": "stdout",
          "text": [
            "Model: \"model\"\n",
            "_________________________________________________________________\n",
            " Layer (type)                Output Shape              Param #   \n",
            "=================================================================\n",
            " title_0 (InputLayer)        [(None, 50, 9)]           0         \n",
            "                                                                 \n",
            " lstm_1 (LSTM)               (None, 50, 36)            6624      \n",
            "                                                                 \n",
            " layer_normalization (LayerN  (None, 50, 36)           72        \n",
            " ormalization)                                                   \n",
            "                                                                 \n",
            " dropout_1 (Dropout)         (None, 50, 36)            0         \n",
            "                                                                 \n",
            " lstm_2 (LSTM)               (None, 72)                31392     \n",
            "                                                                 \n",
            " layer_normalization_1 (Laye  (None, 72)               144       \n",
            " rNormalization)                                                 \n",
            "                                                                 \n",
            " dense_1 (Dense)             (None, 72)                5256      \n",
            "                                                                 \n",
            " dense_2 (Dense)             (None, 2)                 146       \n",
            "                                                                 \n",
            "=================================================================\n",
            "Total params: 43,634\n",
            "Trainable params: 43,634\n",
            "Non-trainable params: 0\n",
            "_________________________________________________________________\n"
          ]
        }
      ],
      "source": [
        "lstm1.summary()"
      ]
    },
    {
      "cell_type": "code",
      "execution_count": 35,
      "metadata": {
        "execution": {
          "iopub.execute_input": "2022-12-21T15:57:04.891057Z",
          "iopub.status.busy": "2022-12-21T15:57:04.890025Z",
          "iopub.status.idle": "2022-12-21T15:57:26.113422Z",
          "shell.execute_reply": "2022-12-21T15:57:26.112285Z",
          "shell.execute_reply.started": "2022-12-21T15:57:04.891014Z"
        },
        "id": "mHjyV2bwxiJo",
        "outputId": "e7fe9a48-827a-4c4e-84a3-2e9757248b34",
        "colab": {
          "base_uri": "https://localhost:8080/"
        }
      },
      "outputs": [
        {
          "output_type": "stream",
          "name": "stdout",
          "text": [
            "Epoch 1/20\n",
            "640/640 [==============================] - 14s 12ms/step - loss: 0.3444 - accuracy: 0.8478 - val_loss: 0.2781 - val_accuracy: 0.8803\n",
            "Epoch 2/20\n",
            "640/640 [==============================] - 7s 12ms/step - loss: 0.2645 - accuracy: 0.8896 - val_loss: 0.2363 - val_accuracy: 0.8998\n",
            "Epoch 3/20\n",
            "640/640 [==============================] - 7s 10ms/step - loss: 0.2347 - accuracy: 0.9022 - val_loss: 0.2173 - val_accuracy: 0.9126\n",
            "Epoch 4/20\n",
            "640/640 [==============================] - 7s 12ms/step - loss: 0.2132 - accuracy: 0.9142 - val_loss: 0.2044 - val_accuracy: 0.9166\n",
            "Epoch 5/20\n",
            "640/640 [==============================] - 7s 11ms/step - loss: 0.1982 - accuracy: 0.9197 - val_loss: 0.2010 - val_accuracy: 0.9195\n",
            "Epoch 6/20\n",
            "640/640 [==============================] - 8s 12ms/step - loss: 0.1877 - accuracy: 0.9247 - val_loss: 0.2173 - val_accuracy: 0.9097\n",
            "Epoch 7/20\n",
            "640/640 [==============================] - 7s 11ms/step - loss: 0.1795 - accuracy: 0.9288 - val_loss: 0.1779 - val_accuracy: 0.9273\n",
            "Epoch 8/20\n",
            "640/640 [==============================] - 7s 12ms/step - loss: 0.1690 - accuracy: 0.9327 - val_loss: 0.1782 - val_accuracy: 0.9297\n",
            "Epoch 9/20\n",
            "640/640 [==============================] - 7s 10ms/step - loss: 0.1609 - accuracy: 0.9365 - val_loss: 0.1643 - val_accuracy: 0.9361\n",
            "Epoch 10/20\n",
            "640/640 [==============================] - 9s 14ms/step - loss: 0.1503 - accuracy: 0.9408 - val_loss: 0.1678 - val_accuracy: 0.9301\n",
            "Epoch 11/20\n",
            "640/640 [==============================] - 8s 12ms/step - loss: 0.1452 - accuracy: 0.9429 - val_loss: 0.1488 - val_accuracy: 0.9400\n",
            "Epoch 12/20\n",
            "640/640 [==============================] - 7s 10ms/step - loss: 0.1385 - accuracy: 0.9450 - val_loss: 0.1478 - val_accuracy: 0.9392\n",
            "Epoch 13/20\n",
            "640/640 [==============================] - 8s 12ms/step - loss: 0.1354 - accuracy: 0.9471 - val_loss: 0.1443 - val_accuracy: 0.9412\n",
            "Epoch 14/20\n",
            "640/640 [==============================] - 7s 10ms/step - loss: 0.1267 - accuracy: 0.9508 - val_loss: 0.1356 - val_accuracy: 0.9480\n",
            "Epoch 15/20\n",
            "640/640 [==============================] - 8s 12ms/step - loss: 0.1189 - accuracy: 0.9535 - val_loss: 0.1284 - val_accuracy: 0.9491\n",
            "Epoch 16/20\n",
            "640/640 [==============================] - 7s 11ms/step - loss: 0.1114 - accuracy: 0.9562 - val_loss: 0.1266 - val_accuracy: 0.9500\n",
            "Epoch 17/20\n",
            "640/640 [==============================] - 8s 12ms/step - loss: 0.1089 - accuracy: 0.9575 - val_loss: 0.1244 - val_accuracy: 0.9518\n",
            "Epoch 18/20\n",
            "640/640 [==============================] - 7s 11ms/step - loss: 0.1044 - accuracy: 0.9597 - val_loss: 0.1162 - val_accuracy: 0.9544\n",
            "Epoch 19/20\n",
            "640/640 [==============================] - 8s 12ms/step - loss: 0.1025 - accuracy: 0.9608 - val_loss: 0.1178 - val_accuracy: 0.9549\n",
            "Epoch 20/20\n",
            "640/640 [==============================] - 7s 10ms/step - loss: 0.0947 - accuracy: 0.9638 - val_loss: 0.1083 - val_accuracy: 0.9595\n"
          ]
        }
      ],
      "source": [
        "lstm1.compile(loss = 'binary_crossentropy',optimizer='Adam',metrics=['accuracy'])\n",
        "lstm_history = lstm1.fit(\n",
        "    xtrain2,\n",
        "    ytrain2,\n",
        "    validation_data = (\n",
        "        xval2,\n",
        "        yval2\n",
        "    ),\n",
        "    epochs = 20,\n",
        "    batch_size = 100,\n",
        ")"
      ]
    },
    {
      "cell_type": "code",
      "execution_count": 36,
      "metadata": {
        "execution": {
          "iopub.execute_input": "2022-12-21T15:57:28.95158Z",
          "iopub.status.busy": "2022-12-21T15:57:28.951208Z",
          "iopub.status.idle": "2022-12-21T15:57:29.31649Z",
          "shell.execute_reply": "2022-12-21T15:57:29.315542Z",
          "shell.execute_reply.started": "2022-12-21T15:57:28.951547Z"
        },
        "id": "ZjHR4xJjxiJo",
        "outputId": "3c433ea8-37b4-48e6-dde2-6fe3a8fe21f4",
        "colab": {
          "base_uri": "https://localhost:8080/",
          "height": 377
        }
      },
      "outputs": [
        {
          "output_type": "display_data",
          "data": {
            "text/plain": [
              "<Figure size 1080x432 with 2 Axes>"
            ],
            "image/png": "[encoded data removed]"
          },
          "metadata": {}
        }
      ],
      "source": [
        "plt.figure(figsize = (15,6))\n",
        "plt.subplot(1,2,1)\n",
        "plt.plot(lstm_history.history['accuracy'])\n",
        "plt.plot(lstm_history.history['val_accuracy'])\n",
        "plt.subplot(1,2,2)\n",
        "plt.plot(lstm_history.history['loss'])\n",
        "plt.plot(lstm_history.history['val_loss'])\n",
        "plt.show()"
      ]
    },
    {
      "cell_type": "code",
      "execution_count": 37,
      "metadata": {
        "execution": {
          "iopub.execute_input": "2022-12-21T15:57:31.628412Z",
          "iopub.status.busy": "2022-12-21T15:57:31.628016Z",
          "iopub.status.idle": "2022-12-21T15:57:33.412461Z",
          "shell.execute_reply": "2022-12-21T15:57:33.411364Z",
          "shell.execute_reply.started": "2022-12-21T15:57:31.628378Z"
        },
        "id": "s_h6EG4dxiJp",
        "outputId": "e03d358b-c178-4654-9013-b42582d6f561",
        "colab": {
          "base_uri": "https://localhost:8080/"
        }
      },
      "outputs": [
        {
          "output_type": "stream",
          "name": "stdout",
          "text": [
            "430/430 [==============================] - 3s 5ms/step\n"
          ]
        }
      ],
      "source": [
        "ypred = lstm1.predict(xtest2)\n",
        "ytemp = []\n",
        "for i in ypred:\n",
        "    pred = [0]*2\n",
        "    pred[np.argmax(i)] = 1\n",
        "    ytemp.append(pred)\n",
        "ypred = np.array(ytemp)"
      ]
    },
    {
      "cell_type": "code",
      "execution_count": 38,
      "metadata": {
        "execution": {
          "iopub.execute_input": "2022-12-21T15:57:34.058974Z",
          "iopub.status.busy": "2022-12-21T15:57:34.058589Z",
          "iopub.status.idle": "2022-12-21T15:57:34.070132Z",
          "shell.execute_reply": "2022-12-21T15:57:34.068909Z",
          "shell.execute_reply.started": "2022-12-21T15:57:34.058941Z"
        },
        "id": "f_gw6cBXxiJp",
        "outputId": "5201c43e-387a-4e1d-b386-0bafa8d22dc0",
        "colab": {
          "base_uri": "https://localhost:8080/"
        }
      },
      "outputs": [
        {
          "output_type": "stream",
          "name": "stdout",
          "text": [
            "test accuracy =  96.11155610573073\n"
          ]
        }
      ],
      "source": [
        "# Testing accuracy\n",
        "\n",
        "cnt = 0\n",
        "for i in range(len(ypred)):\n",
        "    if (ypred[i] == ytest2[i]).all() : cnt += 1\n",
        "        \n",
        "print('test accuracy = ',cnt / len(ypred) * 100)"
      ]
    },
    {
      "cell_type": "code",
      "execution_count": 39,
      "metadata": {
        "execution": {
          "iopub.execute_input": "2022-12-21T15:57:36.17529Z",
          "iopub.status.busy": "2022-12-21T15:57:36.174602Z",
          "iopub.status.idle": "2022-12-21T15:57:36.184154Z",
          "shell.execute_reply": "2022-12-21T15:57:36.180059Z",
          "shell.execute_reply.started": "2022-12-21T15:57:36.175232Z"
        },
        "id": "VZ2O4gq-xiJp"
      },
      "outputs": [],
      "source": [
        "test_cm = confusion_matrix(ytest2.argmax(axis = 1),ypred.argmax(axis = 1))"
      ]
    },
    {
      "cell_type": "code",
      "execution_count": 40,
      "metadata": {
        "execution": {
          "iopub.execute_input": "2022-12-21T15:57:37.15933Z",
          "iopub.status.busy": "2022-12-21T15:57:37.158385Z",
          "iopub.status.idle": "2022-12-21T15:57:37.438525Z",
          "shell.execute_reply": "2022-12-21T15:57:37.437542Z",
          "shell.execute_reply.started": "2022-12-21T15:57:37.159275Z"
        },
        "id": "G2B-75UbxiJp",
        "outputId": "ae31e910-23ed-42ad-ce5d-b1f333187acb",
        "colab": {
          "base_uri": "https://localhost:8080/",
          "height": 590
        }
      },
      "outputs": [
        {
          "output_type": "execute_result",
          "data": {
            "text/plain": [
              "<matplotlib.axes._subplots.AxesSubplot at 0x7ff8e13c0e80>"
            ]
          },
          "metadata": {},
          "execution_count": 40
        },
        {
          "output_type": "display_data",
          "data": {
            "text/plain": [
              "<Figure size 921.6x691.2 with 2 Axes>"
            ],
            "image/png": "[encoded data removed]"
          },
          "metadata": {}
        }
      ],
      "source": [
        "sb.set(rc = {'figure.figsize':(12.8,9.6)})\n",
        "sb.heatmap(test_cm,annot = True, cmap = 'YlOrRd')"
      ]
    },
    {
      "cell_type": "code",
      "execution_count": 41,
      "metadata": {
        "execution": {
          "iopub.execute_input": "2022-12-21T15:57:38.944206Z",
          "iopub.status.busy": "2022-12-21T15:57:38.943843Z",
          "iopub.status.idle": "2022-12-21T15:57:38.958347Z",
          "shell.execute_reply": "2022-12-21T15:57:38.956965Z",
          "shell.execute_reply.started": "2022-12-21T15:57:38.944174Z"
        },
        "id": "1T28J0QDxiJq",
        "outputId": "cbcd2eed-d593-4793-a001-d0198644abf6",
        "colab": {
          "base_uri": "https://localhost:8080/"
        }
      },
      "outputs": [
        {
          "output_type": "stream",
          "name": "stdout",
          "text": [
            "              precision    recall  f1-score   support\n",
            "\n",
            "           0       0.97      0.98      0.97      9687\n",
            "           1       0.94      0.92      0.93      4046\n",
            "\n",
            "    accuracy                           0.96     13733\n",
            "   macro avg       0.96      0.95      0.95     13733\n",
            "weighted avg       0.96      0.96      0.96     13733\n",
            "\n"
          ]
        }
      ],
      "source": [
        "print(sklearn.metrics.classification_report(ytest2.argmax(axis = 1),ypred.argmax(axis = 1)))"
      ]
    },
    {
      "cell_type": "code",
      "execution_count": 42,
      "metadata": {
        "id": "5hTmsMuRxiJq",
        "outputId": "75d2ab07-e437-44dd-9fd2-72e791a3e882",
        "colab": {
          "base_uri": "https://localhost:8080/"
        }
      },
      "outputs": [
        {
          "output_type": "stream",
          "name": "stdout",
          "text": [
            "for task 20 the accuracy is: 94.44444444444444\n",
            "for task 21 the accuracy is: 67.56756756756756\n",
            "for task 22 the accuracy is: 95.91078066914498\n",
            "for task 23 the accuracy is: 91.83006535947712\n",
            "for task 24 the accuracy is: 95.47169811320755\n",
            "for task 25 the accuracy is: 88.58858858858859\n",
            "for task 26 the accuracy is: 94.93243243243244\n",
            "for task 27 the accuracy is: 97.8902953586498\n",
            "for task 28 the accuracy is: 85.61643835616438\n",
            "for task 29 the accuracy is: 96.93486590038314\n",
            "for task 30 the accuracy is: 93.0909090909091\n",
            "for task 31 the accuracy is: 94.55252918287937\n",
            "for task 32 the accuracy is: 92.56505576208178\n",
            "for task 33 the accuracy is: 97.16599190283401\n",
            "for task 34 the accuracy is: 93.54838709677419\n"
          ]
        }
      ],
      "source": [
        "cnt = np.zeros(len(tasks))\n",
        "cnt_t = np.zeros(len(tasks))\n",
        "\n",
        "for i in range (len(ypred)):\n",
        "    for j in range(len(tasks)):\n",
        "        if ztest2[i]==tasks[j]:\n",
        "            cnt_t[j] += 1\n",
        "            if (ypred[i] == ytest2[i]).all():\n",
        "                cnt[j] +=1\n",
        "\n",
        "for j in range(len(tasks)):\n",
        "    c = cnt[j]/cnt_t[j]*100\n",
        "    print(\"for task \" + str(tasks[j]) + \" the accuracy is: \" + str(c))\n",
        "            "
      ]
    },
    {
      "cell_type": "markdown",
      "metadata": {
        "id": "iGcnv0d-xiJs"
      },
      "source": [
        "# CNN + LSTM"
      ]
    },
    {
      "cell_type": "code",
      "execution_count": 78,
      "metadata": {
        "execution": {
          "iopub.execute_input": "2022-12-21T16:10:45.501069Z",
          "iopub.status.busy": "2022-12-21T16:10:45.499902Z",
          "iopub.status.idle": "2022-12-21T16:10:45.524477Z",
          "shell.execute_reply": "2022-12-21T16:10:45.523293Z",
          "shell.execute_reply.started": "2022-12-21T16:10:45.50102Z"
        },
        "id": "dFxi2BXOxiJs"
      },
      "outputs": [],
      "source": [
        "def build_conv_lstm(input_shape,number_of_activities,seq = 0):\n",
        "    input_layer = keras.Input(shape = input_shape,name = 'title_')\n",
        "    \n",
        "    cnn = layers.Conv1D(36,2,1,\"same\",name = 'Conv1D_'+str(seq)+'_1')(input_layer)\n",
        "    cnn = layers.LayerNormalization(name = 'layernorm_'+str(seq)+'_1')(cnn)\n",
        "    cnn = layers.Dropout(rate = 0.1)(cnn)\n",
        "    \n",
        "    cnn = layers.Conv1D(144,2,1,\"same\",name = 'Conv1D_2'+str(seq)+'_1')(cnn)\n",
        "    cnn = layers.LayerNormalization(name = 'layernorm_2'+str(seq)+'_1')(cnn)\n",
        "    cnn = layers.MaxPool1D(2)(cnn)\n",
        "\n",
        "    cnn = layers.Conv1D(288,2,1,\"same\",name = 'Conv1D_3'+str(seq)+'_1')(cnn)\n",
        "    cnn = layers.LayerNormalization(name = 'layernorm_3'+str(seq)+'_1')(cnn)\n",
        "    cnn = layers.MaxPool1D(2)(cnn)\n",
        "    cnn = layers.Dropout(rate = 0.1)(cnn)\n",
        "    \n",
        "    cnn = layers.Conv1D(512,2,1,\"same\",name = 'Conv1D_4'+str(seq)+'_1')(cnn)\n",
        "    cnn = layers.LayerNormalization(name = 'layernorm_4'+str(seq)+'_1')(cnn)\n",
        "    cnn = layers.MaxPool1D(2)(cnn)\n",
        "    \n",
        "    cnn = layers.Conv1D(288,2,1,\"same\",name = 'Conv1D_5'+str(seq)+'_1')(cnn)\n",
        "    cnn = layers.LayerNormalization(name = 'layernorm_5'+str(seq)+'_1')(cnn)\n",
        "    cnn = layers.MaxPool1D(2)(cnn)\n",
        "    cnn = layers.Dropout(rate = 0.1)(cnn)#old\n",
        "    \n",
        "    cnn = layers.Conv1D(144,2,1,\"same\",name = 'Conv1D_6'+str(seq)+'_1')(cnn)\n",
        "    cnn = layers.LayerNormalization(name = 'layernorm_6'+str(seq)+'_1')(cnn)\n",
        "    cnn = layers.MaxPool1D(2)(cnn)\n",
        "\n",
        "    \n",
        "        \n",
        "    lstm = layers.LSTM(144,return_sequences = True,name = 'lstm_1')(cnn)\n",
        "    lstm = layers.Dropout(rate = 0.5)(lstm)\n",
        "    lstm = layers.LSTM(64,name = 'lstm_2')(lstm)\n",
        "    lstm = layers.Dropout(rate = 0.5)(lstm)\n",
        "    \n",
        "    lstm = layers.Dense(64,name = 'dense_1')(lstm)\n",
        "    lstm = layers.Dense(number_of_activities,name = 'dense_2',activation = 'softmax')(lstm)\n",
        "    \n",
        "    return keras.Model(input_layer,lstm)"
      ]
    },
    {
      "cell_type": "code",
      "execution_count": 79,
      "metadata": {
        "execution": {
          "iopub.execute_input": "2022-12-21T16:11:50.4454Z",
          "iopub.status.busy": "2022-12-21T16:11:50.445021Z",
          "iopub.status.idle": "2022-12-21T16:11:51.054317Z",
          "shell.execute_reply": "2022-12-21T16:11:51.053267Z",
          "shell.execute_reply.started": "2022-12-21T16:11:50.445367Z"
        },
        "id": "2ZkrZuCoxiJs"
      },
      "outputs": [],
      "source": [
        "conv_lstm = build_conv_lstm(xtrain2.shape[1:],ytrain2.shape[1])"
      ]
    },
    {
      "cell_type": "code",
      "execution_count": 80,
      "metadata": {
        "execution": {
          "iopub.execute_input": "2022-12-21T16:11:51.056688Z",
          "iopub.status.busy": "2022-12-21T16:11:51.056289Z",
          "iopub.status.idle": "2022-12-21T16:11:51.066264Z",
          "shell.execute_reply": "2022-12-21T16:11:51.065006Z",
          "shell.execute_reply.started": "2022-12-21T16:11:51.056627Z"
        },
        "id": "5TPu-4HuxiJt",
        "colab": {
          "base_uri": "https://localhost:8080/"
        },
        "outputId": "e8636eaa-f1d0-4001-a848-addbbe65d04c"
      },
      "outputs": [
        {
          "output_type": "stream",
          "name": "stdout",
          "text": [
            "Model: \"model_5\"\n",
            "_________________________________________________________________\n",
            " Layer (type)                Output Shape              Param #   \n",
            "=================================================================\n",
            " title_ (InputLayer)         [(None, 50, 9)]           0         \n",
            "                                                                 \n",
            " Conv1D_0_1 (Conv1D)         (None, 50, 36)            684       \n",
            "                                                                 \n",
            " layernorm_0_1 (LayerNormali  (None, 50, 36)           72        \n",
            " zation)                                                         \n",
            "                                                                 \n",
            " dropout_16 (Dropout)        (None, 50, 36)            0         \n",
            "                                                                 \n",
            " Conv1D_20_1 (Conv1D)        (None, 50, 144)           10512     \n",
            "                                                                 \n",
            " layernorm_20_1 (LayerNormal  (None, 50, 144)          288       \n",
            " ization)                                                        \n",
            "                                                                 \n",
            " max_pooling1d_11 (MaxPoolin  (None, 25, 144)          0         \n",
            " g1D)                                                            \n",
            "                                                                 \n",
            " Conv1D_30_1 (Conv1D)        (None, 25, 288)           83232     \n",
            "                                                                 \n",
            " layernorm_30_1 (LayerNormal  (None, 25, 288)          576       \n",
            " ization)                                                        \n",
            "                                                                 \n",
            " max_pooling1d_12 (MaxPoolin  (None, 12, 288)          0         \n",
            " g1D)                                                            \n",
            "                                                                 \n",
            " dropout_17 (Dropout)        (None, 12, 288)           0         \n",
            "                                                                 \n",
            " Conv1D_40_1 (Conv1D)        (None, 12, 512)           295424    \n",
            "                                                                 \n",
            " layernorm_40_1 (LayerNormal  (None, 12, 512)          1024      \n",
            " ization)                                                        \n",
            "                                                                 \n",
            " max_pooling1d_13 (MaxPoolin  (None, 6, 512)           0         \n",
            " g1D)                                                            \n",
            "                                                                 \n",
            " Conv1D_50_1 (Conv1D)        (None, 6, 288)            295200    \n",
            "                                                                 \n",
            " layernorm_50_1 (LayerNormal  (None, 6, 288)           576       \n",
            " ization)                                                        \n",
            "                                                                 \n",
            " max_pooling1d_14 (MaxPoolin  (None, 3, 288)           0         \n",
            " g1D)                                                            \n",
            "                                                                 \n",
            " dropout_18 (Dropout)        (None, 3, 288)            0         \n",
            "                                                                 \n",
            " Conv1D_60_1 (Conv1D)        (None, 3, 144)            83088     \n",
            "                                                                 \n",
            " layernorm_60_1 (LayerNormal  (None, 3, 144)           288       \n",
            " ization)                                                        \n",
            "                                                                 \n",
            " max_pooling1d_15 (MaxPoolin  (None, 1, 144)           0         \n",
            " g1D)                                                            \n",
            "                                                                 \n",
            " lstm_1 (LSTM)               (None, 1, 144)            166464    \n",
            "                                                                 \n",
            " dropout_19 (Dropout)        (None, 1, 144)            0         \n",
            "                                                                 \n",
            " lstm_2 (LSTM)               (None, 64)                53504     \n",
            "                                                                 \n",
            " dropout_20 (Dropout)        (None, 64)                0         \n",
            "                                                                 \n",
            " dense_1 (Dense)             (None, 64)                4160      \n",
            "                                                                 \n",
            " dense_2 (Dense)             (None, 2)                 130       \n",
            "                                                                 \n",
            "=================================================================\n",
            "Total params: 995,222\n",
            "Trainable params: 995,222\n",
            "Non-trainable params: 0\n",
            "_________________________________________________________________\n"
          ]
        }
      ],
      "source": [
        "conv_lstm.summary()"
      ]
    },
    {
      "cell_type": "code",
      "execution_count": 81,
      "metadata": {
        "execution": {
          "iopub.execute_input": "2022-12-21T16:12:17.567982Z",
          "iopub.status.busy": "2022-12-21T16:12:17.56762Z",
          "iopub.status.idle": "2022-12-21T16:12:28.894071Z",
          "shell.execute_reply": "2022-12-21T16:12:28.893084Z",
          "shell.execute_reply.started": "2022-12-21T16:12:17.567951Z"
        },
        "id": "6qAhRDdxxiJt",
        "colab": {
          "base_uri": "https://localhost:8080/"
        },
        "outputId": "249ce4c4-11f6-407b-c97c-c92ced4caabe"
      },
      "outputs": [
        {
          "output_type": "stream",
          "name": "stdout",
          "text": [
            "Epoch 1/30\n",
            "640/640 [==============================] - 21s 18ms/step - loss: 0.4352 - accuracy: 0.7993 - val_loss: 0.3751 - val_accuracy: 0.8258\n",
            "Epoch 2/30\n",
            "640/640 [==============================] - 9s 14ms/step - loss: 0.3675 - accuracy: 0.8398 - val_loss: 0.3462 - val_accuracy: 0.8504\n",
            "Epoch 3/30\n",
            "640/640 [==============================] - 10s 16ms/step - loss: 0.3350 - accuracy: 0.8581 - val_loss: 0.2974 - val_accuracy: 0.8773\n",
            "Epoch 4/30\n",
            "640/640 [==============================] - 11s 16ms/step - loss: 0.3027 - accuracy: 0.8744 - val_loss: 0.3043 - val_accuracy: 0.8685\n",
            "Epoch 5/30\n",
            "640/640 [==============================] - 10s 15ms/step - loss: 0.2844 - accuracy: 0.8831 - val_loss: 0.2707 - val_accuracy: 0.8870\n",
            "Epoch 6/30\n",
            "640/640 [==============================] - 10s 15ms/step - loss: 0.2693 - accuracy: 0.8904 - val_loss: 0.2468 - val_accuracy: 0.8963\n",
            "Epoch 7/30\n",
            "640/640 [==============================] - 10s 15ms/step - loss: 0.2588 - accuracy: 0.8944 - val_loss: 0.2617 - val_accuracy: 0.8887\n",
            "Epoch 8/30\n",
            "640/640 [==============================] - 10s 16ms/step - loss: 0.2446 - accuracy: 0.9003 - val_loss: 0.2277 - val_accuracy: 0.9066\n",
            "Epoch 9/30\n",
            "640/640 [==============================] - 10s 16ms/step - loss: 0.2364 - accuracy: 0.9042 - val_loss: 0.2092 - val_accuracy: 0.9148\n",
            "Epoch 10/30\n",
            "640/640 [==============================] - 9s 14ms/step - loss: 0.2275 - accuracy: 0.9072 - val_loss: 0.2021 - val_accuracy: 0.9200\n",
            "Epoch 11/30\n",
            "640/640 [==============================] - 10s 16ms/step - loss: 0.2144 - accuracy: 0.9126 - val_loss: 0.2072 - val_accuracy: 0.9167\n",
            "Epoch 12/30\n",
            "640/640 [==============================] - 10s 16ms/step - loss: 0.2032 - accuracy: 0.9185 - val_loss: 0.1964 - val_accuracy: 0.9167\n",
            "Epoch 13/30\n",
            "640/640 [==============================] - 10s 16ms/step - loss: 0.1936 - accuracy: 0.9238 - val_loss: 0.1842 - val_accuracy: 0.9255\n",
            "Epoch 14/30\n",
            "640/640 [==============================] - 10s 16ms/step - loss: 0.1855 - accuracy: 0.9277 - val_loss: 0.1661 - val_accuracy: 0.9331\n",
            "Epoch 15/30\n",
            "640/640 [==============================] - 11s 18ms/step - loss: 0.1760 - accuracy: 0.9289 - val_loss: 0.1636 - val_accuracy: 0.9333\n",
            "Epoch 16/30\n",
            "640/640 [==============================] - 10s 16ms/step - loss: 0.1705 - accuracy: 0.9315 - val_loss: 0.1578 - val_accuracy: 0.9390\n",
            "Epoch 17/30\n",
            "640/640 [==============================] - 10s 16ms/step - loss: 0.1626 - accuracy: 0.9359 - val_loss: 0.1581 - val_accuracy: 0.9374\n",
            "Epoch 18/30\n",
            "640/640 [==============================] - 9s 14ms/step - loss: 0.1562 - accuracy: 0.9385 - val_loss: 0.1525 - val_accuracy: 0.9430\n",
            "Epoch 19/30\n",
            "640/640 [==============================] - 10s 15ms/step - loss: 0.1498 - accuracy: 0.9410 - val_loss: 0.1611 - val_accuracy: 0.9376\n",
            "Epoch 20/30\n",
            "640/640 [==============================] - 10s 16ms/step - loss: 0.1471 - accuracy: 0.9423 - val_loss: 0.1429 - val_accuracy: 0.9464\n",
            "Epoch 21/30\n",
            "640/640 [==============================] - 10s 15ms/step - loss: 0.1407 - accuracy: 0.9447 - val_loss: 0.1387 - val_accuracy: 0.9482\n",
            "Epoch 22/30\n",
            "640/640 [==============================] - 10s 16ms/step - loss: 0.1405 - accuracy: 0.9455 - val_loss: 0.1458 - val_accuracy: 0.9429\n",
            "Epoch 23/30\n",
            "640/640 [==============================] - 10s 16ms/step - loss: 0.1321 - accuracy: 0.9485 - val_loss: 0.1398 - val_accuracy: 0.9461\n",
            "Epoch 24/30\n",
            "640/640 [==============================] - 11s 17ms/step - loss: 0.1296 - accuracy: 0.9505 - val_loss: 0.1342 - val_accuracy: 0.9527\n",
            "Epoch 25/30\n",
            "640/640 [==============================] - 11s 16ms/step - loss: 0.1261 - accuracy: 0.9515 - val_loss: 0.1338 - val_accuracy: 0.9492\n",
            "Epoch 26/30\n",
            "640/640 [==============================] - 10s 16ms/step - loss: 0.1236 - accuracy: 0.9523 - val_loss: 0.1289 - val_accuracy: 0.9519\n",
            "Epoch 27/30\n",
            "640/640 [==============================] - 10s 15ms/step - loss: 0.1206 - accuracy: 0.9533 - val_loss: 0.1214 - val_accuracy: 0.9541\n",
            "Epoch 28/30\n",
            "640/640 [==============================] - 11s 16ms/step - loss: 0.1166 - accuracy: 0.9555 - val_loss: 0.1212 - val_accuracy: 0.9520\n",
            "Epoch 29/30\n",
            "640/640 [==============================] - 10s 16ms/step - loss: 0.1170 - accuracy: 0.9545 - val_loss: 0.1217 - val_accuracy: 0.9537\n",
            "Epoch 30/30\n",
            "640/640 [==============================] - 10s 15ms/step - loss: 0.1127 - accuracy: 0.9576 - val_loss: 0.1251 - val_accuracy: 0.9548\n"
          ]
        }
      ],
      "source": [
        "conv_lstm.compile(loss = 'binary_crossentropy',optimizer='Adam',metrics=['accuracy'])\n",
        "conv_lstm_history = conv_lstm.fit(\n",
        "    xtrain2,\n",
        "    ytrain2,\n",
        "    validation_data = (\n",
        "        xval2,\n",
        "        yval2\n",
        "    ),\n",
        "    epochs = 30,\n",
        "    batch_size = 100,\n",
        ")"
      ]
    },
    {
      "cell_type": "code",
      "execution_count": 82,
      "metadata": {
        "execution": {
          "iopub.execute_input": "2022-12-21T16:12:30.978883Z",
          "iopub.status.busy": "2022-12-21T16:12:30.978495Z",
          "iopub.status.idle": "2022-12-21T16:12:31.331706Z",
          "shell.execute_reply": "2022-12-21T16:12:31.330576Z",
          "shell.execute_reply.started": "2022-12-21T16:12:30.978853Z"
        },
        "id": "BHQ-1HPGxiJt",
        "colab": {
          "base_uri": "https://localhost:8080/",
          "height": 379
        },
        "outputId": "6531bbe5-7b3b-45f2-c0ce-a0708b7daf0e"
      },
      "outputs": [
        {
          "output_type": "display_data",
          "data": {
            "text/plain": [
              "<Figure size 1080x432 with 2 Axes>"
            ],
            "image/png": "[encoded data removed]"
          },
          "metadata": {}
        }
      ],
      "source": [
        "plt.figure(figsize = (15,6))\n",
        "plt.subplot(1,2,1)\n",
        "plt.plot(conv_lstm_history.history['accuracy'])\n",
        "plt.plot(conv_lstm_history.history['val_accuracy'])\n",
        "plt.subplot(1,2,2)\n",
        "plt.plot(conv_lstm_history.history['loss'])\n",
        "plt.plot(conv_lstm_history.history['val_loss'])\n",
        "plt.show()"
      ]
    },
    {
      "cell_type": "code",
      "execution_count": 83,
      "metadata": {
        "execution": {
          "iopub.execute_input": "2022-12-21T16:12:33.786458Z",
          "iopub.status.busy": "2022-12-21T16:12:33.786088Z",
          "iopub.status.idle": "2022-12-21T16:12:34.740449Z",
          "shell.execute_reply": "2022-12-21T16:12:34.739477Z",
          "shell.execute_reply.started": "2022-12-21T16:12:33.786426Z"
        },
        "id": "X-nD56CqxiJt",
        "colab": {
          "base_uri": "https://localhost:8080/"
        },
        "outputId": "dbb5dd63-ae11-49e2-8017-6959fd2b114a"
      },
      "outputs": [
        {
          "output_type": "stream",
          "name": "stdout",
          "text": [
            "430/430 [==============================] - 3s 5ms/step\n"
          ]
        }
      ],
      "source": [
        "ypred = conv_lstm.predict(xtest2)\n",
        "ytemp = []\n",
        "for i in ypred:\n",
        "    pred = [0]*(ytrain2.shape[1])\n",
        "    pred[np.argmax(i)] = 1\n",
        "    ytemp.append(pred)\n",
        "ypred = np.array(ytemp)"
      ]
    },
    {
      "cell_type": "code",
      "execution_count": 84,
      "metadata": {
        "execution": {
          "iopub.execute_input": "2022-12-21T16:12:36.202003Z",
          "iopub.status.busy": "2022-12-21T16:12:36.201288Z",
          "iopub.status.idle": "2022-12-21T16:12:36.212723Z",
          "shell.execute_reply": "2022-12-21T16:12:36.211601Z",
          "shell.execute_reply.started": "2022-12-21T16:12:36.201966Z"
        },
        "id": "U-8O1VPzxiJt",
        "colab": {
          "base_uri": "https://localhost:8080/"
        },
        "outputId": "ba445599-3266-42ad-c317-e23bf55816b9"
      },
      "outputs": [
        {
          "output_type": "stream",
          "name": "stdout",
          "text": [
            "test accuracy =  95.21590329862374\n"
          ]
        }
      ],
      "source": [
        "# Testing accuracy\n",
        "\n",
        "cnt = 0\n",
        "for i in range(len(ypred)):\n",
        "    if (ypred[i] == ytest2[i]).all() : cnt += 1\n",
        "        \n",
        "print('test accuracy = ',cnt / len(ypred) * 100)"
      ]
    },
    {
      "cell_type": "code",
      "execution_count": 85,
      "metadata": {
        "execution": {
          "iopub.execute_input": "2022-12-21T16:12:37.514981Z",
          "iopub.status.busy": "2022-12-21T16:12:37.514621Z",
          "iopub.status.idle": "2022-12-21T16:12:37.781598Z",
          "shell.execute_reply": "2022-12-21T16:12:37.780495Z",
          "shell.execute_reply.started": "2022-12-21T16:12:37.51495Z"
        },
        "id": "csmrlpq2xiJt",
        "colab": {
          "base_uri": "https://localhost:8080/",
          "height": 590
        },
        "outputId": "a8c93d65-f84b-4ce4-97b3-7e531a58acfb"
      },
      "outputs": [
        {
          "output_type": "execute_result",
          "data": {
            "text/plain": [
              "<matplotlib.axes._subplots.AxesSubplot at 0x7ff868064fa0>"
            ]
          },
          "metadata": {},
          "execution_count": 85
        },
        {
          "output_type": "display_data",
          "data": {
            "text/plain": [
              "<Figure size 921.6x691.2 with 2 Axes>"
            ],
            "image/png": "[encoded data removed]"
          },
          "metadata": {}
        }
      ],
      "source": [
        "sb.set(rc = {'figure.figsize':(12.8,9.6)})\n",
        "sb.heatmap(test_cm,annot = True, cmap = 'YlOrRd')"
      ]
    },
    {
      "cell_type": "code",
      "execution_count": 86,
      "metadata": {
        "execution": {
          "iopub.execute_input": "2022-12-21T16:12:39.600492Z",
          "iopub.status.busy": "2022-12-21T16:12:39.600074Z",
          "iopub.status.idle": "2022-12-21T16:12:39.614242Z",
          "shell.execute_reply": "2022-12-21T16:12:39.613078Z",
          "shell.execute_reply.started": "2022-12-21T16:12:39.600444Z"
        },
        "id": "4XzX9jq-xiJt",
        "colab": {
          "base_uri": "https://localhost:8080/"
        },
        "outputId": "c7914b65-25c2-431d-bdf1-fe2f637fe584"
      },
      "outputs": [
        {
          "output_type": "stream",
          "name": "stdout",
          "text": [
            "              precision    recall  f1-score   support\n",
            "\n",
            "           0       0.96      0.97      0.97      9687\n",
            "           1       0.94      0.90      0.92      4046\n",
            "\n",
            "    accuracy                           0.95     13733\n",
            "   macro avg       0.95      0.94      0.94     13733\n",
            "weighted avg       0.95      0.95      0.95     13733\n",
            "\n"
          ]
        }
      ],
      "source": [
        "print(sklearn.metrics.classification_report(ytest2.argmax(axis = 1),ypred.argmax(axis = 1)))"
      ]
    },
    {
      "cell_type": "code",
      "execution_count": 87,
      "metadata": {
        "id": "plrQ1f0AxiJt",
        "colab": {
          "base_uri": "https://localhost:8080/"
        },
        "outputId": "dbda3bd8-e943-4cef-f2de-3e31b4a31b6f"
      },
      "outputs": [
        {
          "output_type": "stream",
          "name": "stdout",
          "text": [
            "for task 20 the accuracy is: 86.27450980392157\n",
            "for task 21 the accuracy is: 50.27027027027027\n",
            "for task 22 the accuracy is: 96.28252788104089\n",
            "for task 23 the accuracy is: 83.98692810457517\n",
            "for task 24 the accuracy is: 95.84905660377359\n",
            "for task 25 the accuracy is: 89.1891891891892\n",
            "for task 26 the accuracy is: 95.27027027027027\n",
            "for task 27 the accuracy is: 97.46835443037975\n",
            "for task 28 the accuracy is: 81.16438356164383\n",
            "for task 29 the accuracy is: 94.6360153256705\n",
            "for task 30 the accuracy is: 92.72727272727272\n",
            "for task 31 the accuracy is: 96.49805447470817\n",
            "for task 32 the accuracy is: 90.70631970260223\n",
            "for task 33 the accuracy is: 99.59514170040485\n",
            "for task 34 the accuracy is: 91.12903225806451\n"
          ]
        }
      ],
      "source": [
        "cnt = np.zeros(len(tasks))\n",
        "cnt_t = np.zeros(len(tasks))\n",
        "\n",
        "for i in range (len(ypred)):\n",
        "    for j in range(len(tasks)):\n",
        "        if ztest2[i]==tasks[j]:\n",
        "            cnt_t[j] += 1\n",
        "            if (ypred[i] == ytest2[i]).all():\n",
        "                cnt[j] +=1\n",
        "\n",
        "for j in range(len(tasks)):\n",
        "    c = cnt[j]/cnt_t[j]*100\n",
        "    print(\"for task \" + str(tasks[j]) + \" the accuracy is: \" + str(c))\n",
        "            "
      ]
    },
    {
      "cell_type": "code",
      "execution_count": null,
      "metadata": {
        "id": "AgcZUNpMxiJt"
      },
      "outputs": [],
      "source": []
    }
  ],
  "metadata": {
    "kernelspec": {
      "display_name": "Python 3 (ipykernel)",
      "language": "python",
      "name": "python3"
    },
    "language_info": {
      "codemirror_mode": {
        "name": "ipython",
        "version": 3
      },
      "file_extension": ".py",
      "mimetype": "text/x-python",
      "name": "python",
      "nbconvert_exporter": "python",
      "pygments_lexer": "ipython3",
      "version": "3.9.12"
    },
    "colab": {
      "provenance": []
    },
    "accelerator": "GPU",
    "gpuClass": "standard"
  },
  "nbformat": 4,
  "nbformat_minor": 0
}
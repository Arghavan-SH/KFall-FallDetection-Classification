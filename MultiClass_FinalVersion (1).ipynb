{
  "cells": [
    {
      "cell_type": "markdown",
      "metadata": {
        "id": "WKyh8z4ppYf2"
      },
      "source": [
        "# KFall Multi-Class-Dataset-Classification"
      ]
    },
    {
      "cell_type": "code",
      "execution_count": 1,
      "metadata": {
        "_cell_guid": "b1076dfc-b9ad-4769-8c92-a6c4dae69d19",
        "_uuid": "8f2839f25d086af736a60e9eeb907d3b93b6e0e5",
        "execution": {
          "iopub.execute_input": "2022-12-21T14:56:24.76798Z",
          "iopub.status.busy": "2022-12-21T14:56:24.764385Z",
          "iopub.status.idle": "2022-12-21T14:56:35.835957Z",
          "shell.execute_reply": "2022-12-21T14:56:35.834842Z",
          "shell.execute_reply.started": "2022-12-21T14:56:24.767859Z"
        },
        "id": "nUBHPHN1pYf8"
      },
      "outputs": [],
      "source": [
        "import os\n",
        "import numpy as np\n",
        "import pandas as pd\n",
        "import tensorflow as tf\n",
        "from tensorflow import keras\n",
        "from tensorflow.keras import layers\n",
        "import matplotlib.pyplot as plt\n",
        "import matplotlib as mpl\n",
        "from sklearn.model_selection import train_test_split\n",
        "import time\n",
        "from scipy import signal\n",
        "import sklearn.metrics\n",
        "from sklearn.metrics import confusion_matrix\n",
        "import seaborn as sb"
      ]
    },
    {
      "cell_type": "code",
      "source": [
        "from google.colab import drive\n",
        "drive.mount('/gdrive')"
      ],
      "metadata": {
        "colab": {
          "base_uri": "https://localhost:8080/"
        },
        "id": "xWHiDBQYqsJA",
        "outputId": "17b57330-5969-4b6a-9ac4-fde11be02ead"
      },
      "execution_count": 2,
      "outputs": [
        {
          "output_type": "stream",
          "name": "stdout",
          "text": [
            "Mounted at /gdrive\n"
          ]
        }
      ]
    },
    {
      "cell_type": "code",
      "source": [
        "cd /gdrive/My\\Drive/KFall"
      ],
      "metadata": {
        "colab": {
          "base_uri": "https://localhost:8080/"
        },
        "id": "phgAdnJKrECl",
        "outputId": "24cd72b7-67ef-48bb-b86e-13ceb11d8d98"
      },
      "execution_count": 3,
      "outputs": [
        {
          "output_type": "stream",
          "name": "stdout",
          "text": [
            "/gdrive/MyDrive/KFall\n"
          ]
        }
      ]
    },
    {
      "cell_type": "markdown",
      "metadata": {
        "id": "S0b91E2SpYgB"
      },
      "source": [
        "#Loading and Preprocessing the Data"
      ]
    },
    {
      "cell_type": "code",
      "execution_count": 4,
      "metadata": {
        "execution": {
          "iopub.execute_input": "2022-12-21T14:56:36.160278Z",
          "iopub.status.busy": "2022-12-21T14:56:36.159206Z",
          "iopub.status.idle": "2022-12-21T14:56:36.166572Z",
          "shell.execute_reply": "2022-12-21T14:56:36.165676Z",
          "shell.execute_reply.started": "2022-12-21T14:56:36.160236Z"
        },
        "id": "Oji0k09DpYgC"
      },
      "outputs": [],
      "source": [
        "#Defining range of subjects and fall tasks and trialas\n",
        "subjects = np.arange(6,39)\n",
        "tasks = np.arange(20,35)\n",
        "trials = np.arange(1,6)\n",
        "#ls=50"
      ]
    },
    {
      "cell_type": "code",
      "execution_count": 5,
      "metadata": {
        "execution": {
          "iopub.execute_input": "2022-12-21T15:04:06.241482Z",
          "iopub.status.busy": "2022-12-21T15:04:06.24113Z",
          "iopub.status.idle": "2022-12-21T15:06:44.969921Z",
          "shell.execute_reply": "2022-12-21T15:06:44.968774Z",
          "shell.execute_reply.started": "2022-12-21T15:04:06.241451Z"
        },
        "colab": {
          "base_uri": "https://localhost:8080/"
        },
        "id": "dueI2d6TpYgC",
        "outputId": "32f15f51-4c0b-4ccb-fb8f-54a53463fc1d"
      },
      "outputs": [
        {
          "output_type": "stream",
          "name": "stdout",
          "text": [
            "Hello subject  6 !, Hello subject  7 !, Hello subject  8 !, Hello subject  9 !, Hello subject  10 !, Hello subject  11 !, Hello subject  12 !, Hello subject  13 !, Hello subject  14 !, Hello subject  15 !, Hello subject  16 !, Hello subject  17 !, Hello subject  18 !, Hello subject  19 !, Hello subject  20 !, Hello subject  21 !, Hello subject  22 !, Hello subject  23 !, Hello subject  24 !, Hello subject  25 !, Hello subject  26 !, Hello subject  27 !, Hello subject  28 !, Hello subject  29 !, Hello subject  30 !, Hello subject  31 !, Hello subject  32 !, Hello subject  33 !, Hello subject  34 !, Hello subject  35 !, Hello subject  36 !, Hello subject  37 !, Hello subject  38 !, 2319\n"
          ]
        }
      ],
      "source": [
        "# Loading Falling activities\n",
        "# Divinding them to train test & validation sets \n",
        "#in a way to make sure that we have all subjects and all activities are included in in all three sets\n",
        "xtrain2 = []\n",
        "ytrain2 = []\n",
        "ztrain2 =[]\n",
        "\n",
        "xtest2 = []\n",
        "ytest2 = []\n",
        "ztest2 = []\n",
        "\n",
        "xval2 = []\n",
        "yval2 = []\n",
        "zval2 = []\n",
        "\n",
        "ws = 50 #window size\n",
        "st = 5 #Stepsize\n",
        "\n",
        "lenght =[]\n",
        "\n",
        "for i in subjects:\n",
        "    \n",
        "    print('Hello subject ',i,end=' !, ')\n",
        "    for j in tasks:\n",
        "        \n",
        "        xx = []# signals\n",
        "        yy = []# label\n",
        "        zz = []# activity Id\n",
        "        try:\n",
        "            \n",
        "            for k in trials:\n",
        "                try:\n",
        "\n",
        "                    filename = 'S'+ str(i).zfill(2) + 'T' + str(j).zfill(2) + 'R' + str(k).zfill(2) + '.csv'\n",
        "                    #zfill(2)inghadr sefr ezafe mikone ta size berese be 2\n",
        "                    labelfilename =  'SA'+ str(i).zfill(2) + '_label.xlsx'\n",
        "\n",
        "                    label = pd.read_excel('label_data/'+labelfilename,index_col=None, header=None)[1:]\n",
        "                    data = pd.read_csv('sensor_data/'+'SA' + str(i).zfill(2)+'/'+filename)\n",
        "                    #print(len(lable))\n",
        "\n",
        "                    acc_x = np.array(data['AccX']).reshape((len(data),1))\n",
        "                    acc_y = np.array(data['AccY']).reshape((len(data),1))\n",
        "                    acc_z = np.array(data['AccZ']).reshape((len(data),1))\n",
        "                    gyro_x = np.array(data['GyrX']).reshape((len(data),1))\n",
        "                    gyro_y = np.array(data['GyrY']).reshape((len(data),1))\n",
        "                    gyro_z = np.array(data['GyrZ']).reshape((len(data),1))\n",
        "                    euler_x = np.array(data['EulerX']).reshape((len(data),1))\n",
        "                    euler_y = np.array(data['EulerX']).reshape((len(data),1))\n",
        "                    euler_z = np.array(data['EulerX']).reshape((len(data),1))\n",
        "                    \n",
        "                    ############\n",
        "\n",
        "\n",
        "                    data = np.concatenate([acc_x,acc_y,acc_z,gyro_x,gyro_y,gyro_z,euler_x,euler_y,euler_z],axis = -1)\n",
        "                    lenght.append(data.shape[0])\n",
        "\n",
        "                    activity = 0\n",
        "                    for row in range(len(label)):\n",
        "                        trial = int(label.iloc[row][2])\n",
        "                            #trial = int(z)\n",
        "                        if not pd.isnull(label.iloc[row][0]):\n",
        "                            #activity ro khoondim\n",
        "                            activity = int(label.iloc[row][0][5:7])\n",
        "                        pf = label.iloc[row][3]-1 #prefall point\n",
        "                        f = label.iloc[row][4]-1#fall point\n",
        "                        #inja 50 taye vasat ro gereftim\n",
        "                        if f - pf < 50 : continue\n",
        "\n",
        "                        if trial == k and activity == j :\n",
        "                            start = int(pf-ws+3)\n",
        "                            #end = pf + ws\n",
        "                            end = int(pf+((f - pf) - 50 )/2)\n",
        "                            for x in range(start,end,st):\n",
        "                                xx.append(data[x:x+ws])\n",
        "                                if j in [20,23,25,28,30,31,32]:\n",
        "                                    \n",
        "                                    yy.append(1)#Forward-Fall\n",
        "                                if j in [21,27,29,34]:\n",
        "                                    yy.append(2)#Backward-Fall\n",
        "                                if j in [22,24,26,33]:\n",
        "                                    yy.append(3)#Laterall-Fall\n",
        "                                \n",
        "                                    \n",
        "                                zz.append(j)\n",
        "                            \n",
        "\n",
        "                except : continue\n",
        "            \n",
        "            xtrain,xtest,ytrain,ytest,ztrain,ztest = train_test_split(xx,yy,zz,train_size = 0.7)\n",
        "            xtest,xval,ytest,yval,ztest,zval = train_test_split(xtest,ytest,ztest,train_size = 0.5) \n",
        "\n",
        "            xtrain2 += xtrain\n",
        "            ytrain2 += ytrain\n",
        "            ztrain2 +=ztrain\n",
        "\n",
        "            xtest2 += xtest\n",
        "            ytest2 += ytest\n",
        "            ztest2 += ztest\n",
        "\n",
        "            xval2 += xval\n",
        "            yval2 += yval\n",
        "            zval2 += zval\n",
        "        except : continue\n",
        "        \n",
        "    \n",
        "    \n",
        "    \n",
        "print(len(lenght))"
      ]
    },
    {
      "cell_type": "code",
      "execution_count": 6,
      "metadata": {
        "id": "fgAiURQFpYgD"
      },
      "outputs": [],
      "source": [
        "t1=np.array(xtrain2)\n",
        "t2=np.array(ytrain2)\n",
        "t3=np.array(ztrain2)"
      ]
    },
    {
      "cell_type": "code",
      "execution_count": 7,
      "metadata": {
        "colab": {
          "base_uri": "https://localhost:8080/"
        },
        "id": "v5QYaVpspYgE",
        "outputId": "a09a00f1-1ac0-4061-b274-34cffb989c30"
      },
      "outputs": [
        {
          "output_type": "stream",
          "name": "stdout",
          "text": [
            "(18711, 50, 9)\n",
            "(18711,)\n",
            "(18711,)\n"
          ]
        }
      ],
      "source": [
        "print(t1.shape)\n",
        "print(t2.shape)\n",
        "print(t3.shape)"
      ]
    },
    {
      "cell_type": "code",
      "execution_count": 8,
      "metadata": {
        "execution": {
          "iopub.execute_input": "2022-12-21T15:06:44.972838Z",
          "iopub.status.busy": "2022-12-21T15:06:44.972177Z",
          "iopub.status.idle": "2022-12-21T15:06:59.443653Z",
          "shell.execute_reply": "2022-12-21T15:06:59.442582Z",
          "shell.execute_reply.started": "2022-12-21T15:06:44.972794Z"
        },
        "colab": {
          "base_uri": "https://localhost:8080/"
        },
        "id": "gF0D2A7OpYgF",
        "outputId": "60d529e1-d099-4ff7-8e5e-d1d57e0c34cd"
      },
      "outputs": [
        {
          "output_type": "stream",
          "name": "stdout",
          "text": [
            "Goodbye subject  6 !, Goodbye subject  7 !, Goodbye subject  8 !, Goodbye subject  9 !, Goodbye subject  10 !, Goodbye subject  11 !, Goodbye subject  12 !, Goodbye subject  13 !, Goodbye subject  14 !, Goodbye subject  15 !, Goodbye subject  16 !, Goodbye subject  17 !, Goodbye subject  18 !, Goodbye subject  19 !, Goodbye subject  20 !, Goodbye subject  21 !, Goodbye subject  22 !, Goodbye subject  23 !, Goodbye subject  24 !, Goodbye subject  25 !, Goodbye subject  26 !, Goodbye subject  27 !, Goodbye subject  28 !, Goodbye subject  29 !, Goodbye subject  30 !, Goodbye subject  31 !, Goodbye subject  32 !, Goodbye subject  33 !, Goodbye subject  34 !, Goodbye subject  35 !, Goodbye subject  36 !, Goodbye subject  37 !, Goodbye subject  38 !, 204 4087 832.6665439823335\n"
          ]
        }
      ],
      "source": [
        "# Loading ADLs  and doing the same steps as Falling ones an adding them to faaling ones\n",
        "st =5\n",
        "lenght2=[]\n",
        "for i in subjects:\n",
        "    \n",
        "    print('Goodbye subject ',i,end=' !, ')\n",
        "    for j in np.arange(1,40):\n",
        "        if j in tasks : continue\n",
        "        try:\n",
        "        \n",
        "            xx = []\n",
        "            yy = []\n",
        "            zz = []\n",
        "\n",
        "            for k in trials:\n",
        "                try :\n",
        "                    filename = 'S'+ str(i).zfill(2) + 'T' + str(j).zfill(2) + 'R' + str(k).zfill(2) + '.csv'\n",
        "\n",
        "                    data = pd.read_csv('sensor_data/'+'SA' + str(i).zfill(2)+'/'+filename)\n",
        "\n",
        "                    acc_x = np.array(data['AccX']).reshape((len(data),1))\n",
        "                    acc_y = np.array(data['AccY']).reshape((len(data),1))\n",
        "                    acc_z = np.array(data['AccZ']).reshape((len(data),1))\n",
        "                    gyro_x = np.array(data['GyrX']).reshape((len(data),1))\n",
        "                    gyro_y = np.array(data['GyrY']).reshape((len(data),1))\n",
        "                    gyro_z = np.array(data['GyrZ']).reshape((len(data),1))\n",
        "                    euler_x = np.array(data['EulerX']).reshape((len(data),1))\n",
        "                    euler_y = np.array(data['EulerX']).reshape((len(data),1))\n",
        "                    euler_z = np.array(data['EulerX']).reshape((len(data),1))\n",
        "\n",
        "                    data = np.concatenate([acc_x,acc_y,acc_z,gyro_x,gyro_y,gyro_z,euler_x,euler_y,euler_z],axis = -1)\n",
        "                    lenght2.append(data.shape[0])\n",
        "\n",
        "                    cnt = 0\n",
        "                    if data.shape[0] < 100 : continue\n",
        "\n",
        "                    if j in [1,11,12,17] :\n",
        "                        for x in range(50,data.shape[0]-50,st):\n",
        "                            xx.append(data[x:x+50])\n",
        "                            yy.append(0)\n",
        "                            zz.append(j)\n",
        "                            cnt += 1\n",
        "                            if cnt == 50:break\n",
        "                    else : \n",
        "                        for x in range(50,data.shape[0]-50,st):\n",
        "                            xx.append(data[x:x+50])\n",
        "                            yy.append(0)\n",
        "                            zz.append(j)\n",
        "                            cnt += 1\n",
        "                            if cnt == 10:break\n",
        "\n",
        "                except : continue\n",
        "\n",
        "\n",
        "            xtrain,xtest,ytrain,ytest,ztrain,ztest = train_test_split(xx,yy,zz,train_size = 0.7)\n",
        "            xtest,xval,ytest,yval,ztest,zval = train_test_split(xtest,ytest,ztest,train_size = 0.5) \n",
        "            \n",
        "\n",
        "            xtrain2 += xtrain\n",
        "            ytrain2 += ytrain\n",
        "            ztrain2 += ztrain\n",
        "\n",
        "            xtest2 += xtest\n",
        "            ytest2 += ytest\n",
        "            ztest2 += ztest\n",
        "\n",
        "            xval2 += xval\n",
        "            yval2 += yval\n",
        "            zval2 += zval\n",
        "        except : continue\n",
        "        \n",
        "    \n",
        "\n",
        "xtrain2 = np.array(xtrain2)\n",
        "ytrain2 = np.array(ytrain2)\n",
        "ztrain2 = np.array(ztrain2)\n",
        "\n",
        "xtest2 = np.array(xtest2)\n",
        "ytest2 = np.array(ytest2)\n",
        "ztest2 = np.array(ztest2)\n",
        "\n",
        "xval2 = np.array(xval2)\n",
        "yval2 = np.array(yval2)\n",
        "zval2 = np.array(zval2)\n",
        "print(min(lenght2),max(lenght2),sum(lenght2)/len(lenght2))"
      ]
    },
    {
      "cell_type": "code",
      "execution_count": 9,
      "metadata": {
        "execution": {
          "iopub.execute_input": "2022-12-21T15:06:59.445593Z",
          "iopub.status.busy": "2022-12-21T15:06:59.444953Z",
          "iopub.status.idle": "2022-12-21T15:06:59.453169Z",
          "shell.execute_reply": "2022-12-21T15:06:59.451998Z",
          "shell.execute_reply.started": "2022-12-21T15:06:59.445554Z"
        },
        "colab": {
          "base_uri": "https://localhost:8080/"
        },
        "id": "l_cNTHLFpYgF",
        "outputId": "e823f9af-aa5b-45d7-f945-4ee1e55d0ae2"
      },
      "outputs": [
        {
          "output_type": "execute_result",
          "data": {
            "text/plain": [
              "((41314, 50, 9), (41314,), (41314,))"
            ]
          },
          "metadata": {},
          "execution_count": 9
        }
      ],
      "source": [
        "xtrain2.shape,ytrain2.shape, ztrain2.shape"
      ]
    },
    {
      "cell_type": "code",
      "execution_count": 10,
      "metadata": {
        "execution": {
          "iopub.execute_input": "2022-12-21T15:06:59.455701Z",
          "iopub.status.busy": "2022-12-21T15:06:59.455309Z",
          "iopub.status.idle": "2022-12-21T15:06:59.473563Z",
          "shell.execute_reply": "2022-12-21T15:06:59.472622Z",
          "shell.execute_reply.started": "2022-12-21T15:06:59.455635Z"
        },
        "id": "FcNkpDWupYgG"
      },
      "outputs": [],
      "source": [
        "# one-hot\n",
        "ytrain1 = []\n",
        "for i in ytrain2:\n",
        "    ytrain1.append([0]*4)\n",
        "    ytrain1[-1][i] = 1\n",
        "ytrain2 = np.array(ytrain1)\n",
        "#####\n",
        "\n",
        "ytest1 = []\n",
        "for i in ytest2:\n",
        "    ytest1.append([0]*4)\n",
        "    ytest1[-1][i] = 1\n",
        "ytest2 = np.array(ytest1)\n",
        "\n",
        "#####\n",
        "yval1 = []\n",
        "for i in yval2:\n",
        "    yval1.append([0]*4)\n",
        "    yval1[-1][i] = 1\n",
        "yval2 = np.array(yval1)"
      ]
    },
    {
      "cell_type": "code",
      "execution_count": 11,
      "metadata": {
        "execution": {
          "iopub.execute_input": "2022-12-21T15:07:06.829035Z",
          "iopub.status.busy": "2022-12-21T15:07:06.828666Z",
          "iopub.status.idle": "2022-12-21T15:07:06.837359Z",
          "shell.execute_reply": "2022-12-21T15:07:06.836095Z",
          "shell.execute_reply.started": "2022-12-21T15:07:06.829005Z"
        },
        "colab": {
          "base_uri": "https://localhost:8080/"
        },
        "id": "Wq5Qgu2-pYgH",
        "outputId": "711f1aa5-320d-4e95-86e9-869978a9c930"
      },
      "outputs": [
        {
          "output_type": "execute_result",
          "data": {
            "text/plain": [
              "((41314, 50, 9),\n",
              " (41314, 4),\n",
              " (8594, 50, 9),\n",
              " (8594, 4),\n",
              " (9420, 50, 9),\n",
              " (9420, 4))"
            ]
          },
          "metadata": {},
          "execution_count": 11
        }
      ],
      "source": [
        "xtrain2.shape,ytrain2.shape,xtest2.shape,ytest2.shape,xval2.shape,yval2.shape"
      ]
    },
    {
      "cell_type": "code",
      "execution_count": 12,
      "metadata": {
        "execution": {
          "iopub.execute_input": "2022-12-21T15:07:09.022043Z",
          "iopub.status.busy": "2022-12-21T15:07:09.021664Z",
          "iopub.status.idle": "2022-12-21T15:07:09.422575Z",
          "shell.execute_reply": "2022-12-21T15:07:09.421451Z",
          "shell.execute_reply.started": "2022-12-21T15:07:09.022011Z"
        },
        "colab": {
          "base_uri": "https://localhost:8080/",
          "height": 467
        },
        "id": "vf6UbBaJpYgH",
        "outputId": "8afdf7ef-eb86-4f85-db4a-2ba5953e8f46"
      },
      "outputs": [
        {
          "output_type": "display_data",
          "data": {
            "text/plain": [
              "<Figure size 1728x576 with 3 Axes>"
            ],
            "image/png": "[encoded data removed]"
          },
          "metadata": {
            "needs_background": "light"
          }
        }
      ],
      "source": [
        "plt.figure(figsize = (24,8))\n",
        "plt.subplot(1,3,1)\n",
        "plt.title(\"Train Set\")\n",
        "plt.bar(np.arange(0,4),sum(ytrain2))\n",
        "\n",
        "plt.subplot(1,3,2)\n",
        "plt.title(\"Validation Set\")\n",
        "plt.bar(np.arange(0,4),sum(yval2))\n",
        "\n",
        "plt.subplot(1,3,3)\n",
        "plt.title(\"Test Set\")\n",
        "plt.bar(np.arange(0,4),sum(ytest2))\n",
        "plt.show()"
      ]
    },
    {
      "cell_type": "markdown",
      "metadata": {
        "id": "Y0xnwykWpYgI"
      },
      "source": [
        "# CNN"
      ]
    },
    {
      "cell_type": "code",
      "execution_count": 13,
      "metadata": {
        "id": "087fOhIZpYgI"
      },
      "outputs": [],
      "source": [
        "def model1_cnn(input_shape,number_of_activities,seq=0):\n",
        "    input_layer = keras.Input(shape = input_shape,name = 'title_'+str(seq))\n",
        "    \n",
        "    cnn = layers.Conv1D(36,5,1,\"same\", name ='Conv1D_1')(input_layer)\n",
        "    cnn = layers.Conv1D(72,5,1,\"same\",name = 'Conv1D_2')(cnn)\n",
        "    cnn = layers.LayerNormalization(name = 'layernorm_1')(cnn)\n",
        "    cnn = layers.MaxPool1D(2)(cnn)#\n",
        "    cnn = layers.Dropout(rate = 0.2)(cnn)#\n",
        "    \n",
        "    cnn = layers.Flatten()(cnn)\n",
        "    \n",
        "    cnn = layers.Dense(72,activation='relu',name = 'dense_1')(cnn)\n",
        "    cnn = layers.Dense(36,activation='relu',name = 'dense_2')(cnn)\n",
        "    cnn = layers.Dense(number_of_activities,activation='softmax',name = 'dense_4')(cnn)\n",
        "    \n",
        "    return keras.Model(input_layer,cnn,name = 'model')"
      ]
    },
    {
      "cell_type": "code",
      "execution_count": 14,
      "metadata": {
        "execution": {
          "iopub.execute_input": "2022-12-21T15:35:12.356592Z",
          "iopub.status.busy": "2022-12-21T15:35:12.356204Z",
          "iopub.status.idle": "2022-12-21T15:35:12.581963Z",
          "shell.execute_reply": "2022-12-21T15:35:12.580952Z",
          "shell.execute_reply.started": "2022-12-21T15:35:12.356555Z"
        },
        "id": "xPnNJK0-pYgI"
      },
      "outputs": [],
      "source": [
        "cnn1 = model1_cnn(xtrain2.shape[1:],4)"
      ]
    },
    {
      "cell_type": "code",
      "execution_count": 15,
      "metadata": {
        "colab": {
          "base_uri": "https://localhost:8080/"
        },
        "id": "l07PPm8PpYgI",
        "outputId": "809a65ed-76fa-482b-861e-106dd34aaa9f"
      },
      "outputs": [
        {
          "output_type": "stream",
          "name": "stdout",
          "text": [
            "Model: \"model\"\n",
            "_________________________________________________________________\n",
            " Layer (type)                Output Shape              Param #   \n",
            "=================================================================\n",
            " title_0 (InputLayer)        [(None, 50, 9)]           0         \n",
            "                                                                 \n",
            " Conv1D_1 (Conv1D)           (None, 50, 36)            1656      \n",
            "                                                                 \n",
            " Conv1D_2 (Conv1D)           (None, 50, 72)            13032     \n",
            "                                                                 \n",
            " layernorm_1 (LayerNormaliza  (None, 50, 72)           144       \n",
            " tion)                                                           \n",
            "                                                                 \n",
            " max_pooling1d (MaxPooling1D  (None, 25, 72)           0         \n",
            " )                                                               \n",
            "                                                                 \n",
            " dropout (Dropout)           (None, 25, 72)            0         \n",
            "                                                                 \n",
            " flatten (Flatten)           (None, 1800)              0         \n",
            "                                                                 \n",
            " dense_1 (Dense)             (None, 72)                129672    \n",
            "                                                                 \n",
            " dense_2 (Dense)             (None, 36)                2628      \n",
            "                                                                 \n",
            " dense_4 (Dense)             (None, 4)                 148       \n",
            "                                                                 \n",
            "=================================================================\n",
            "Total params: 147,280\n",
            "Trainable params: 147,280\n",
            "Non-trainable params: 0\n",
            "_________________________________________________________________\n"
          ]
        }
      ],
      "source": [
        "cnn1.summary()"
      ]
    },
    {
      "cell_type": "code",
      "execution_count": 16,
      "metadata": {
        "colab": {
          "base_uri": "https://localhost:8080/"
        },
        "id": "oU5tjQyZpYgJ",
        "outputId": "2d230608-0f32-4fc8-a615-d9b0dd02f292"
      },
      "outputs": [
        {
          "output_type": "stream",
          "name": "stdout",
          "text": [
            "Epoch 1/30\n",
            "414/414 [==============================] - 14s 9ms/step - loss: 0.6603 - accuracy: 0.7402 - val_loss: 0.5741 - val_accuracy: 0.7724\n",
            "Epoch 2/30\n",
            "414/414 [==============================] - 3s 6ms/step - loss: 0.5174 - accuracy: 0.7946 - val_loss: 0.4628 - val_accuracy: 0.8215\n",
            "Epoch 3/30\n",
            "414/414 [==============================] - 3s 6ms/step - loss: 0.4498 - accuracy: 0.8248 - val_loss: 0.4725 - val_accuracy: 0.8230\n",
            "Epoch 4/30\n",
            "414/414 [==============================] - 2s 6ms/step - loss: 0.3955 - accuracy: 0.8504 - val_loss: 0.4124 - val_accuracy: 0.8487\n",
            "Epoch 5/30\n",
            "414/414 [==============================] - 2s 6ms/step - loss: 0.3641 - accuracy: 0.8612 - val_loss: 0.3457 - val_accuracy: 0.8697\n",
            "Epoch 6/30\n",
            "414/414 [==============================] - 3s 8ms/step - loss: 0.3383 - accuracy: 0.8717 - val_loss: 0.3212 - val_accuracy: 0.8761\n",
            "Epoch 7/30\n",
            "414/414 [==============================] - 3s 6ms/step - loss: 0.3112 - accuracy: 0.8846 - val_loss: 0.3164 - val_accuracy: 0.8834\n",
            "Epoch 8/30\n",
            "414/414 [==============================] - 3s 6ms/step - loss: 0.2992 - accuracy: 0.8883 - val_loss: 0.3343 - val_accuracy: 0.8732\n",
            "Epoch 9/30\n",
            "414/414 [==============================] - 3s 6ms/step - loss: 0.2853 - accuracy: 0.8923 - val_loss: 0.3086 - val_accuracy: 0.8827\n",
            "Epoch 10/30\n",
            "414/414 [==============================] - 2s 6ms/step - loss: 0.2712 - accuracy: 0.8988 - val_loss: 0.2864 - val_accuracy: 0.8929\n",
            "Epoch 11/30\n",
            "414/414 [==============================] - 3s 8ms/step - loss: 0.2605 - accuracy: 0.9045 - val_loss: 0.3313 - val_accuracy: 0.8801\n",
            "Epoch 12/30\n",
            "414/414 [==============================] - 3s 6ms/step - loss: 0.2556 - accuracy: 0.9060 - val_loss: 0.2988 - val_accuracy: 0.8897\n",
            "Epoch 13/30\n",
            "414/414 [==============================] - 2s 6ms/step - loss: 0.2375 - accuracy: 0.9120 - val_loss: 0.2866 - val_accuracy: 0.8970\n",
            "Epoch 14/30\n",
            "414/414 [==============================] - 3s 6ms/step - loss: 0.2302 - accuracy: 0.9152 - val_loss: 0.2907 - val_accuracy: 0.8941\n",
            "Epoch 15/30\n",
            "414/414 [==============================] - 3s 6ms/step - loss: 0.2193 - accuracy: 0.9182 - val_loss: 0.2563 - val_accuracy: 0.9076\n",
            "Epoch 16/30\n",
            "414/414 [==============================] - 3s 7ms/step - loss: 0.2113 - accuracy: 0.9228 - val_loss: 0.2450 - val_accuracy: 0.9111\n",
            "Epoch 17/30\n",
            "414/414 [==============================] - 3s 7ms/step - loss: 0.2006 - accuracy: 0.9257 - val_loss: 0.2404 - val_accuracy: 0.9148\n",
            "Epoch 18/30\n",
            "414/414 [==============================] - 2s 6ms/step - loss: 0.1926 - accuracy: 0.9292 - val_loss: 0.2536 - val_accuracy: 0.9092\n",
            "Epoch 19/30\n",
            "414/414 [==============================] - 2s 6ms/step - loss: 0.1838 - accuracy: 0.9325 - val_loss: 0.2447 - val_accuracy: 0.9122\n",
            "Epoch 20/30\n",
            "414/414 [==============================] - 3s 6ms/step - loss: 0.1771 - accuracy: 0.9356 - val_loss: 0.2433 - val_accuracy: 0.9132\n",
            "Epoch 21/30\n",
            "414/414 [==============================] - 3s 8ms/step - loss: 0.1722 - accuracy: 0.9366 - val_loss: 0.2350 - val_accuracy: 0.9184\n",
            "Epoch 22/30\n",
            "414/414 [==============================] - 3s 7ms/step - loss: 0.1656 - accuracy: 0.9395 - val_loss: 0.2405 - val_accuracy: 0.9185\n",
            "Epoch 23/30\n",
            "414/414 [==============================] - 2s 6ms/step - loss: 0.1577 - accuracy: 0.9415 - val_loss: 0.2311 - val_accuracy: 0.9210\n",
            "Epoch 24/30\n",
            "414/414 [==============================] - 2s 6ms/step - loss: 0.1512 - accuracy: 0.9438 - val_loss: 0.2265 - val_accuracy: 0.9252\n",
            "Epoch 25/30\n",
            "414/414 [==============================] - 2s 6ms/step - loss: 0.1487 - accuracy: 0.9444 - val_loss: 0.2310 - val_accuracy: 0.9208\n",
            "Epoch 26/30\n",
            "414/414 [==============================] - 3s 8ms/step - loss: 0.1409 - accuracy: 0.9485 - val_loss: 0.2400 - val_accuracy: 0.9160\n",
            "Epoch 27/30\n",
            "414/414 [==============================] - 3s 7ms/step - loss: 0.1386 - accuracy: 0.9498 - val_loss: 0.2073 - val_accuracy: 0.9304\n",
            "Epoch 28/30\n",
            "414/414 [==============================] - 3s 6ms/step - loss: 0.1326 - accuracy: 0.9525 - val_loss: 0.2074 - val_accuracy: 0.9312\n",
            "Epoch 29/30\n",
            "414/414 [==============================] - 2s 6ms/step - loss: 0.1290 - accuracy: 0.9537 - val_loss: 0.2033 - val_accuracy: 0.9311\n",
            "Epoch 30/30\n",
            "414/414 [==============================] - 3s 6ms/step - loss: 0.1266 - accuracy: 0.9535 - val_loss: 0.2160 - val_accuracy: 0.9280\n"
          ]
        }
      ],
      "source": [
        "# Training \n",
        "optimizers = tf.keras.optimizers.Adam(learning_rate=0.001)\n",
        "cnn1.compile(loss = 'categorical_crossentropy',optimizer=optimizers,metrics=['accuracy'])\n",
        "cnn_history = cnn1.fit(\n",
        "    xtrain2,\n",
        "    ytrain2,\n",
        "    validation_data = (\n",
        "        xval2,\n",
        "        yval2\n",
        "    ),\n",
        "    epochs = 30,\n",
        "    batch_size = 100,\n",
        ")\n"
      ]
    },
    {
      "cell_type": "code",
      "execution_count": 17,
      "metadata": {
        "colab": {
          "base_uri": "https://localhost:8080/"
        },
        "id": "nnMxmeWppYgJ",
        "outputId": "1857c9f9-d4a4-4d04-f865-f65a90ed3893"
      },
      "outputs": [
        {
          "output_type": "stream",
          "name": "stdout",
          "text": [
            "269/269 [==============================] - 1s 2ms/step\n"
          ]
        }
      ],
      "source": [
        "ypred = cnn1.predict(xtest2)\n",
        "ytemp = []\n",
        "for i in ypred:\n",
        "    pred = [0]*4\n",
        "    pred[np.argmax(i)] = 1\n",
        "    ytemp.append(pred)\n",
        "ypred = np.array(ytemp)"
      ]
    },
    {
      "cell_type": "code",
      "execution_count": 18,
      "metadata": {
        "colab": {
          "base_uri": "https://localhost:8080/"
        },
        "id": "nW3iiJN-pYgJ",
        "outputId": "b3cac28c-6405-4eb5-d507-07492cf7ca98"
      },
      "outputs": [
        {
          "output_type": "stream",
          "name": "stdout",
          "text": [
            "test accuracy =  92.68094019083081\n"
          ]
        }
      ],
      "source": [
        "cnt = 0\n",
        "for i in range(len(ypred)):\n",
        "    if (ypred[i] == ytest2[i]).all() : cnt += 1\n",
        "        \n",
        "print('test accuracy = ',cnt / len(ypred) * 100)"
      ]
    },
    {
      "cell_type": "code",
      "execution_count": 19,
      "metadata": {
        "colab": {
          "base_uri": "https://localhost:8080/",
          "height": 374
        },
        "id": "Ww4RnNM3pYgJ",
        "outputId": "2a2d1b06-f691-46ab-c5c7-e3d08d7c78d4"
      },
      "outputs": [
        {
          "output_type": "display_data",
          "data": {
            "text/plain": [
              "<Figure size 1080x432 with 2 Axes>"
            ],
            "image/png": "[encoded data removed]"
          },
          "metadata": {
            "needs_background": "light"
          }
        }
      ],
      "source": [
        "plt.figure(figsize = (15,6))\n",
        "plt.subplot(1,2,1)\n",
        "plt.plot(cnn_history.history['accuracy'])\n",
        "plt.plot(cnn_history.history['val_accuracy'])\n",
        "plt.subplot(1,2,2)\n",
        "plt.plot(cnn_history.history['loss'])\n",
        "plt.plot(cnn_history.history['val_loss'])\n",
        "plt.show()"
      ]
    },
    {
      "cell_type": "code",
      "execution_count": 20,
      "metadata": {
        "id": "BKB_X-mdpYgJ"
      },
      "outputs": [],
      "source": [
        "test_cm = confusion_matrix(ytest2.argmax(axis = 1),ypred.argmax(axis = 1))"
      ]
    },
    {
      "cell_type": "code",
      "execution_count": 21,
      "metadata": {
        "colab": {
          "base_uri": "https://localhost:8080/"
        },
        "id": "rEkjsPxwpYgJ",
        "outputId": "bbcc0f92-5b43-4eae-98a8-665845b74872"
      },
      "outputs": [
        {
          "output_type": "stream",
          "name": "stdout",
          "text": [
            "Accuracy per class: [0.95866315 0.87684004 0.92158969 0.8913649 ]\n"
          ]
        }
      ],
      "source": [
        "accuracy_per_class = np.diag(test_cm) / np.sum(test_cm, axis=1)\n",
        "\n",
        "print(\"Accuracy per class:\", accuracy_per_class)"
      ]
    },
    {
      "cell_type": "code",
      "execution_count": 22,
      "metadata": {
        "colab": {
          "base_uri": "https://localhost:8080/",
          "height": 590
        },
        "id": "Gi6nc9mypYgK",
        "outputId": "eb532e55-cd1e-4060-e190-866b9fe107f2"
      },
      "outputs": [
        {
          "output_type": "execute_result",
          "data": {
            "text/plain": [
              "<matplotlib.axes._subplots.AxesSubplot at 0x7f31f04a9d00>"
            ]
          },
          "metadata": {},
          "execution_count": 22
        },
        {
          "output_type": "display_data",
          "data": {
            "text/plain": [
              "<Figure size 921.6x691.2 with 2 Axes>"
            ],
            "image/png": "[encoded data removed]"
          },
          "metadata": {}
        }
      ],
      "source": [
        "sb.set(rc = {'figure.figsize':(12.8,9.6)})\n",
        "sb.heatmap(test_cm,annot = True, cmap = 'YlOrRd')"
      ]
    },
    {
      "cell_type": "code",
      "execution_count": 23,
      "metadata": {
        "colab": {
          "base_uri": "https://localhost:8080/"
        },
        "id": "vmoqWQLApYgK",
        "outputId": "f8c01c3d-321c-4df3-f0ce-9227a8e1faa6"
      },
      "outputs": [
        {
          "output_type": "stream",
          "name": "stdout",
          "text": [
            "              precision    recall  f1-score   support\n",
            "\n",
            "           0       0.96      0.96      0.96      4548\n",
            "           1       0.93      0.88      0.90      2038\n",
            "           2       0.84      0.92      0.88       931\n",
            "           3       0.88      0.89      0.88      1077\n",
            "\n",
            "    accuracy                           0.93      8594\n",
            "   macro avg       0.90      0.91      0.91      8594\n",
            "weighted avg       0.93      0.93      0.93      8594\n",
            "\n"
          ]
        }
      ],
      "source": [
        "print(sklearn.metrics.classification_report(ytest2.argmax(axis = 1),ypred.argmax(axis = 1)))"
      ]
    },
    {
      "cell_type": "code",
      "execution_count": 24,
      "metadata": {
        "colab": {
          "base_uri": "https://localhost:8080/"
        },
        "id": "-YVWFz5kpYgK",
        "outputId": "98947ef9-1dde-49a8-b8ed-781f91643888"
      },
      "outputs": [
        {
          "output_type": "stream",
          "name": "stdout",
          "text": [
            "for task 20 the accuracy is: 91.50326797385621\n",
            "for task 21 the accuracy is: 77.29729729729729\n",
            "for task 22 the accuracy is: 88.47583643122677\n",
            "for task 23 the accuracy is: 89.86928104575163\n",
            "for task 24 the accuracy is: 93.20754716981132\n",
            "for task 25 the accuracy is: 92.7927927927928\n",
            "for task 26 the accuracy is: 90.87837837837837\n",
            "for task 27 the accuracy is: 99.57805907172997\n",
            "for task 28 the accuracy is: 86.3013698630137\n",
            "for task 29 the accuracy is: 93.86973180076629\n",
            "for task 30 the accuracy is: 83.63636363636363\n",
            "for task 31 the accuracy is: 85.21400778210116\n",
            "for task 32 the accuracy is: 82.5278810408922\n",
            "for task 33 the accuracy is: 83.40080971659918\n",
            "for task 34 the accuracy is: 94.35483870967742\n"
          ]
        }
      ],
      "source": [
        "cnt = np.zeros(len(tasks))\n",
        "cnt_t = np.zeros(len(tasks))\n",
        "\n",
        "for i in range (len(ypred)):\n",
        "    for j in range(len(tasks)):\n",
        "        if ztest2[i]==tasks[j]:\n",
        "            cnt_t[j] += 1\n",
        "            if (ypred[i] == ytest2[i]).all():\n",
        "                cnt[j] +=1\n",
        "\n",
        "for j in range(len(tasks)):\n",
        "    c = cnt[j]/cnt_t[j]*100\n",
        "    print(\"for task \" + str(tasks[j]) + \" the accuracy is: \" + str(c))\n",
        "            \n",
        "     "
      ]
    },
    {
      "cell_type": "markdown",
      "metadata": {
        "execution": {
          "iopub.execute_input": "2022-11-24T21:10:21.882687Z",
          "iopub.status.busy": "2022-11-24T21:10:21.881964Z",
          "iopub.status.idle": "2022-11-24T21:10:21.886824Z",
          "shell.execute_reply": "2022-11-24T21:10:21.885882Z",
          "shell.execute_reply.started": "2022-11-24T21:10:21.882648Z"
        },
        "id": "c9cycwjwpYgP"
      },
      "source": [
        "# LSTM"
      ]
    },
    {
      "cell_type": "code",
      "execution_count": 72,
      "metadata": {
        "id": "pbvT85AbpYgR"
      },
      "outputs": [],
      "source": [
        "#Best Modeltill now for multiclass\n",
        "#LSTM-2\n",
        "def build_lstm2(input_shape,number_of_activities):\n",
        "    input_layer = keras.Input(shape = input_shape,name = 'title_')\n",
        "    \n",
        "    lstm = layers.LSTM(36,return_sequences = True,name = 'lstm_0')(input_layer)\n",
        "    lstm = layers.LayerNormalization()(lstm)\n",
        "    lstm = layers.Dropout(rate = 0.2)(lstm)\n",
        "\n",
        "    lstm = layers.LSTM(72,return_sequences = True,name = 'lstm_1')(lstm)\n",
        "    lstm = layers.LayerNormalization()(lstm)\n",
        "    \n",
        "    lstm = layers.LSTM(144,return_sequences = True,name = 'lstm_2')(lstm)\n",
        "    lstm = layers.LayerNormalization()(lstm)\n",
        "    lstm = layers.Dropout(rate = 0.2)(lstm)\n",
        "\n",
        "    lstm = layers.LSTM(288,return_sequences = True,name = 'lstm_3')(lstm)\n",
        "    lstm = layers.LayerNormalization()(lstm)\n",
        "\n",
        "    lstm = layers.LSTM(288,name = 'lstm_4')(lstm)\n",
        "    lstm = layers.LayerNormalization()(lstm)\n",
        "    #lstm = layers.Dropout(rate = 0.2)(lstm)\n",
        "\n",
        "    lstm = layers.Dense(144,name = 'dense_1')(lstm)\n",
        "    lstm = layers.Dense(24,name = 'dense_2')(lstm)\n",
        "    lstm = layers.Dense(72,name = 'dense_3')(lstm)\n",
        "    lstm = layers.Dense(number_of_activities,name = 'dense_4',activation = 'softmax')(lstm)\n",
        "    \n",
        "    return keras.Model(input_layer,lstm)"
      ]
    },
    {
      "cell_type": "code",
      "execution_count": 73,
      "metadata": {
        "id": "RGGN_ibkpYgS"
      },
      "outputs": [],
      "source": [
        "lstm2 = build_lstm2(xtrain2.shape[1:],4)"
      ]
    },
    {
      "cell_type": "code",
      "execution_count": 74,
      "metadata": {
        "id": "mBWrq4vxpYgS",
        "outputId": "348eb443-c219-4d13-90ac-c61fb8fc273c",
        "colab": {
          "base_uri": "https://localhost:8080/"
        }
      },
      "outputs": [
        {
          "output_type": "stream",
          "name": "stdout",
          "text": [
            "Model: \"model_4\"\n",
            "_________________________________________________________________\n",
            " Layer (type)                Output Shape              Param #   \n",
            "=================================================================\n",
            " title_ (InputLayer)         [(None, 50, 9)]           0         \n",
            "                                                                 \n",
            " lstm_0 (LSTM)               (None, 50, 36)            6624      \n",
            "                                                                 \n",
            " layer_normalization_14 (Lay  (None, 50, 36)           72        \n",
            " erNormalization)                                                \n",
            "                                                                 \n",
            " dropout_8 (Dropout)         (None, 50, 36)            0         \n",
            "                                                                 \n",
            " lstm_1 (LSTM)               (None, 50, 72)            31392     \n",
            "                                                                 \n",
            " layer_normalization_15 (Lay  (None, 50, 72)           144       \n",
            " erNormalization)                                                \n",
            "                                                                 \n",
            " lstm_2 (LSTM)               (None, 50, 144)           124992    \n",
            "                                                                 \n",
            " layer_normalization_16 (Lay  (None, 50, 144)          288       \n",
            " erNormalization)                                                \n",
            "                                                                 \n",
            " dropout_9 (Dropout)         (None, 50, 144)           0         \n",
            "                                                                 \n",
            " lstm_3 (LSTM)               (None, 50, 288)           498816    \n",
            "                                                                 \n",
            " layer_normalization_17 (Lay  (None, 50, 288)          576       \n",
            " erNormalization)                                                \n",
            "                                                                 \n",
            " lstm_4 (LSTM)               (None, 288)               664704    \n",
            "                                                                 \n",
            " layer_normalization_18 (Lay  (None, 288)              576       \n",
            " erNormalization)                                                \n",
            "                                                                 \n",
            " dense_1 (Dense)             (None, 144)               41616     \n",
            "                                                                 \n",
            " dense_2 (Dense)             (None, 24)                3480      \n",
            "                                                                 \n",
            " dense_3 (Dense)             (None, 72)                1800      \n",
            "                                                                 \n",
            " dense_4 (Dense)             (None, 4)                 292       \n",
            "                                                                 \n",
            "=================================================================\n",
            "Total params: 1,375,372\n",
            "Trainable params: 1,375,372\n",
            "Non-trainable params: 0\n",
            "_________________________________________________________________\n"
          ]
        }
      ],
      "source": [
        "lstm2.summary()"
      ]
    },
    {
      "cell_type": "code",
      "execution_count": 75,
      "metadata": {
        "id": "MGFABPx0pYgS",
        "outputId": "18b77c78-1b08-46cb-9a42-edd4e3bd953c",
        "colab": {
          "base_uri": "https://localhost:8080/"
        }
      },
      "outputs": [
        {
          "output_type": "stream",
          "name": "stdout",
          "text": [
            "Epoch 1/20\n",
            "414/414 [==============================] - 28s 39ms/step - loss: 0.6113 - accuracy: 0.7643 - val_loss: 0.5385 - val_accuracy: 0.7874\n",
            "Epoch 2/20\n",
            "414/414 [==============================] - 14s 34ms/step - loss: 0.4623 - accuracy: 0.8219 - val_loss: 0.4442 - val_accuracy: 0.8349\n",
            "Epoch 3/20\n",
            "414/414 [==============================] - 14s 34ms/step - loss: 0.4074 - accuracy: 0.8468 - val_loss: 0.3814 - val_accuracy: 0.8554\n",
            "Epoch 4/20\n",
            "414/414 [==============================] - 14s 34ms/step - loss: 0.3705 - accuracy: 0.8584 - val_loss: 0.3418 - val_accuracy: 0.8749\n",
            "Epoch 5/20\n",
            "414/414 [==============================] - 14s 34ms/step - loss: 0.3408 - accuracy: 0.8732 - val_loss: 0.3554 - val_accuracy: 0.8682\n",
            "Epoch 6/20\n",
            "414/414 [==============================] - 14s 34ms/step - loss: 0.3300 - accuracy: 0.8784 - val_loss: 0.3249 - val_accuracy: 0.8815\n",
            "Epoch 7/20\n",
            "414/414 [==============================] - 14s 34ms/step - loss: 0.3055 - accuracy: 0.8858 - val_loss: 0.2963 - val_accuracy: 0.8928\n",
            "Epoch 8/20\n",
            "414/414 [==============================] - 14s 34ms/step - loss: 0.2934 - accuracy: 0.8910 - val_loss: 0.3266 - val_accuracy: 0.8779\n",
            "Epoch 9/20\n",
            "414/414 [==============================] - 14s 34ms/step - loss: 0.2809 - accuracy: 0.8951 - val_loss: 0.2572 - val_accuracy: 0.9050\n",
            "Epoch 10/20\n",
            "414/414 [==============================] - 14s 34ms/step - loss: 0.2662 - accuracy: 0.9000 - val_loss: 0.3085 - val_accuracy: 0.8807\n",
            "Epoch 11/20\n",
            "414/414 [==============================] - 14s 34ms/step - loss: 0.2469 - accuracy: 0.9091 - val_loss: 0.2622 - val_accuracy: 0.9067\n",
            "Epoch 12/20\n",
            "414/414 [==============================] - 14s 34ms/step - loss: 0.2296 - accuracy: 0.9148 - val_loss: 0.2333 - val_accuracy: 0.9127\n",
            "Epoch 13/20\n",
            "414/414 [==============================] - 14s 34ms/step - loss: 0.2241 - accuracy: 0.9176 - val_loss: 0.2263 - val_accuracy: 0.9161\n",
            "Epoch 14/20\n",
            "414/414 [==============================] - 14s 34ms/step - loss: 0.2102 - accuracy: 0.9232 - val_loss: 0.2278 - val_accuracy: 0.9189\n",
            "Epoch 15/20\n",
            "414/414 [==============================] - 14s 34ms/step - loss: 0.2037 - accuracy: 0.9243 - val_loss: 0.2114 - val_accuracy: 0.9224\n",
            "Epoch 16/20\n",
            "414/414 [==============================] - 14s 34ms/step - loss: 0.1919 - accuracy: 0.9274 - val_loss: 0.1870 - val_accuracy: 0.9297\n",
            "Epoch 17/20\n",
            "414/414 [==============================] - 14s 34ms/step - loss: 0.1793 - accuracy: 0.9331 - val_loss: 0.2017 - val_accuracy: 0.9287\n",
            "Epoch 18/20\n",
            "414/414 [==============================] - 14s 34ms/step - loss: 0.1702 - accuracy: 0.9369 - val_loss: 0.1996 - val_accuracy: 0.9299\n",
            "Epoch 19/20\n",
            "414/414 [==============================] - 14s 34ms/step - loss: 0.1585 - accuracy: 0.9420 - val_loss: 0.2058 - val_accuracy: 0.9280\n",
            "Epoch 20/20\n",
            "414/414 [==============================] - 14s 34ms/step - loss: 0.1603 - accuracy: 0.9411 - val_loss: 0.1861 - val_accuracy: 0.9367\n"
          ]
        }
      ],
      "source": [
        "lstm2.compile(loss = 'categorical_crossentropy',optimizer='Adam',metrics=['accuracy'])\n",
        "lstm_history = lstm2.fit(\n",
        "    xtrain2,\n",
        "    ytrain2,\n",
        "    validation_data = (\n",
        "        xval2,\n",
        "        yval2\n",
        "    ),\n",
        "    epochs = 20,\n",
        "    batch_size = 100,\n",
        ")"
      ]
    },
    {
      "cell_type": "code",
      "execution_count": 76,
      "metadata": {
        "id": "WaQeNR3WpYgS",
        "outputId": "c837e3f3-9fad-4da9-f1ff-7bff2d4b5379",
        "colab": {
          "base_uri": "https://localhost:8080/",
          "height": 379
        }
      },
      "outputs": [
        {
          "output_type": "display_data",
          "data": {
            "text/plain": [
              "<Figure size 1080x432 with 2 Axes>"
            ],
            "image/png": "[encoded data removed]"
          },
          "metadata": {}
        }
      ],
      "source": [
        "plt.figure(figsize = (15,6))\n",
        "plt.subplot(1,2,1)\n",
        "plt.plot(lstm_history.history['accuracy'])\n",
        "plt.plot(lstm_history.history['val_accuracy'])\n",
        "plt.subplot(1,2,2)\n",
        "plt.plot(lstm_history.history['loss'])\n",
        "plt.plot(lstm_history.history['val_loss'])\n",
        "plt.show()"
      ]
    },
    {
      "cell_type": "code",
      "execution_count": 77,
      "metadata": {
        "id": "x2T2_NW6pYgT",
        "outputId": "9f793579-1c46-44ff-d913-f63eaa94b7ee",
        "colab": {
          "base_uri": "https://localhost:8080/"
        }
      },
      "outputs": [
        {
          "output_type": "stream",
          "name": "stdout",
          "text": [
            "269/269 [==============================] - 4s 8ms/step\n"
          ]
        }
      ],
      "source": [
        "ypred = lstm2.predict(xtest2)\n",
        "ytemp = []\n",
        "for i in ypred:\n",
        "    pred = [0]*4\n",
        "    pred[np.argmax(i)] = 1\n",
        "    ytemp.append(pred)\n",
        "ypred = np.array(ytemp)"
      ]
    },
    {
      "cell_type": "code",
      "execution_count": 78,
      "metadata": {
        "id": "qw2cePdNpYgT",
        "outputId": "fde46ced-55e4-4ee4-b146-f5d43651b0d3",
        "colab": {
          "base_uri": "https://localhost:8080/"
        }
      },
      "outputs": [
        {
          "output_type": "stream",
          "name": "stdout",
          "text": [
            "test accuracy =  93.15801722131721\n"
          ]
        }
      ],
      "source": [
        "# Testing accuracy\n",
        "\n",
        "cnt = 0\n",
        "for i in range(len(ypred)):\n",
        "    if (ypred[i] == ytest2[i]).all() : cnt += 1\n",
        "        \n",
        "print('test accuracy = ',cnt / len(ypred) * 100)"
      ]
    },
    {
      "cell_type": "code",
      "source": [
        "test_cm = confusion_matrix(ytest2.argmax(axis = 1),ypred.argmax(axis = 1))"
      ],
      "metadata": {
        "id": "fcTwPy0-ht-b"
      },
      "execution_count": 79,
      "outputs": []
    },
    {
      "cell_type": "code",
      "source": [
        "accuracy_per_class = np.diag(test_cm) / np.sum(test_cm, axis=1)\n",
        "\n",
        "print(\"Accuracy per class:\", accuracy_per_class)"
      ],
      "metadata": {
        "colab": {
          "base_uri": "https://localhost:8080/"
        },
        "id": "ehf47A-2lBtN",
        "outputId": "22f93a37-5ccc-4e57-ba03-b649dd39cbdb"
      },
      "execution_count": 80,
      "outputs": [
        {
          "output_type": "stream",
          "name": "stdout",
          "text": [
            "Accuracy per class: [0.97097625 0.89254171 0.87862513 0.88486537]\n"
          ]
        }
      ]
    },
    {
      "cell_type": "code",
      "source": [
        "sb.set(rc = {'figure.figsize':(12.8,9.6)})\n",
        "sb.heatmap(test_cm,annot = True, cmap = 'YlOrRd')"
      ],
      "metadata": {
        "colab": {
          "base_uri": "https://localhost:8080/",
          "height": 590
        },
        "id": "Yy-_shhRiPGf",
        "outputId": "6469f623-ec25-46ac-c5dd-f63113f74eba"
      },
      "execution_count": 81,
      "outputs": [
        {
          "output_type": "execute_result",
          "data": {
            "text/plain": [
              "<matplotlib.axes._subplots.AxesSubplot at 0x7f31d054ab80>"
            ]
          },
          "metadata": {},
          "execution_count": 81
        },
        {
          "output_type": "display_data",
          "data": {
            "text/plain": [
              "<Figure size 921.6x691.2 with 2 Axes>"
            ],
            "image/png": "[encoded data removed]"
          },
          "metadata": {}
        }
      ]
    },
    {
      "cell_type": "code",
      "source": [
        "print(sklearn.metrics.classification_report(ytest2.argmax(axis = 1),ypred.argmax(axis = 1)))"
      ],
      "metadata": {
        "colab": {
          "base_uri": "https://localhost:8080/"
        },
        "id": "KIRKRc-Sin50",
        "outputId": "7a624542-ee15-4e03-aa6f-1e5de2556b26"
      },
      "execution_count": 82,
      "outputs": [
        {
          "output_type": "stream",
          "name": "stdout",
          "text": [
            "              precision    recall  f1-score   support\n",
            "\n",
            "           0       0.94      0.97      0.96      4548\n",
            "           1       0.92      0.89      0.90      2038\n",
            "           2       0.90      0.88      0.89       931\n",
            "           3       0.94      0.88      0.91      1077\n",
            "\n",
            "    accuracy                           0.93      8594\n",
            "   macro avg       0.92      0.91      0.92      8594\n",
            "weighted avg       0.93      0.93      0.93      8594\n",
            "\n"
          ]
        }
      ]
    },
    {
      "cell_type": "code",
      "source": [
        "cnt = np.zeros(len(tasks))\n",
        "cnt_t = np.zeros(len(tasks))\n",
        "\n",
        "for i in range (len(ypred)):\n",
        "    for j in range(len(tasks)):\n",
        "        if ztest2[i]==tasks[j]:\n",
        "            cnt_t[j] += 1\n",
        "            if (ypred[i] == ytest2[i]).all():\n",
        "                cnt[j] +=1\n",
        "\n",
        "for j in range(len(tasks)):\n",
        "    c = cnt[j]/cnt_t[j]*100\n",
        "    print(\"for task \" + str(tasks[j]) + \" the accuracy is: \" + str(c))\n",
        "            "
      ],
      "metadata": {
        "colab": {
          "base_uri": "https://localhost:8080/"
        },
        "id": "9aYUBDPnjjzG",
        "outputId": "0420e8de-a8e0-4067-f9f7-8e70aa6cc1dc"
      },
      "execution_count": 83,
      "outputs": [
        {
          "output_type": "stream",
          "name": "stdout",
          "text": [
            "for task 20 the accuracy is: 93.79084967320262\n",
            "for task 21 the accuracy is: 67.02702702702703\n",
            "for task 22 the accuracy is: 89.96282527881041\n",
            "for task 23 the accuracy is: 95.09803921568627\n",
            "for task 24 the accuracy is: 87.54716981132076\n",
            "for task 25 the accuracy is: 81.38138138138137\n",
            "for task 26 the accuracy is: 89.86486486486487\n",
            "for task 27 the accuracy is: 97.46835443037975\n",
            "for task 28 the accuracy is: 82.53424657534246\n",
            "for task 29 the accuracy is: 91.95402298850574\n",
            "for task 30 the accuracy is: 88.36363636363636\n",
            "for task 31 the accuracy is: 94.16342412451361\n",
            "for task 32 the accuracy is: 90.70631970260223\n",
            "for task 33 the accuracy is: 86.23481781376519\n",
            "for task 34 the accuracy is: 89.91935483870968\n"
          ]
        }
      ]
    },
    {
      "cell_type": "markdown",
      "metadata": {
        "id": "aActL9uopYgU"
      },
      "source": [
        "# CNN + LSTM"
      ]
    },
    {
      "cell_type": "code",
      "execution_count": 84,
      "metadata": {
        "execution": {
          "iopub.execute_input": "2022-12-21T16:10:45.501069Z",
          "iopub.status.busy": "2022-12-21T16:10:45.499902Z",
          "iopub.status.idle": "2022-12-21T16:10:45.524477Z",
          "shell.execute_reply": "2022-12-21T16:10:45.523293Z",
          "shell.execute_reply.started": "2022-12-21T16:10:45.50102Z"
        },
        "id": "vwqLdiZqpYgU"
      },
      "outputs": [],
      "source": [
        "def build_conv_lstm(input_shape,number_of_activities):\n",
        "    input_layer = keras.Input(shape = input_shape)\n",
        "    \n",
        "    cnn = layers.Conv1D(36,2,1,\"same\",name = 'Conv1D_1')(input_layer)\n",
        "    cnn = layers.LayerNormalization(name = 'layernorm_1')(cnn)\n",
        "    cnn = layers.Dropout(rate = 0.1)(cnn)\n",
        "    \n",
        "    cnn = layers.Conv1D(144,2,1,\"same\",name = 'Conv1D_2')(cnn)\n",
        "    cnn = layers.LayerNormalization(name = 'layernorm_2')(cnn)\n",
        "    cnn = layers.MaxPool1D(2)(cnn)\n",
        "\n",
        "    cnn = layers.Conv1D(288,2,1,\"same\",name = 'Conv1D_3')(cnn)\n",
        "    cnn = layers.LayerNormalization(name = 'layernorm_3')(cnn)\n",
        "    cnn = layers.MaxPool1D(2)(cnn)\n",
        "    cnn = layers.Dropout(rate = 0.1)(cnn)\n",
        "    \n",
        "    cnn = layers.Conv1D(512,2,1,\"same\",name = 'Conv1D_4')(cnn)\n",
        "    cnn = layers.LayerNormalization(name = 'layernorm_4')(cnn)\n",
        "    cnn = layers.MaxPool1D(2)(cnn)\n",
        "    \n",
        "    cnn = layers.Conv1D(288,2,1,\"same\",name = 'Conv1D_5')(cnn)\n",
        "    cnn = layers.LayerNormalization(name = 'layernorm_5')(cnn)\n",
        "    cnn = layers.MaxPool1D(2)(cnn)\n",
        "    cnn = layers.Dropout(rate = 0.1)(cnn)\n",
        "    \n",
        "    cnn = layers.Conv1D(144,2,1,\"same\",name = 'Conv1D_6')(cnn)\n",
        "    cnn = layers.LayerNormalization(name = 'layernorm_6')(cnn)\n",
        "    cnn = layers.MaxPool1D(2)(cnn)\n",
        "        \n",
        "    lstm = layers.LSTM(144,return_sequences = True,name = 'lstm_1')(cnn)\n",
        "    lstm = layers.Dropout(rate = 0.5)(lstm)\n",
        "    lstm = layers.LSTM(24,name = 'lstm_2')(lstm)#64\n",
        "    lstm = layers.Dropout(rate = 0.5)(lstm)\n",
        "    \n",
        "    lstm = layers.Dense(24,name = 'dense_1')(lstm)#64\n",
        "    lstm = layers.Dense(72,name = 'dense_2')(lstm)\n",
        "    lstm = layers.Dense(number_of_activities,name = 'dense_3',activation = 'softmax')(lstm)\n",
        "    \n",
        "    return keras.Model(input_layer,lstm)"
      ]
    },
    {
      "cell_type": "code",
      "execution_count": 85,
      "metadata": {
        "execution": {
          "iopub.execute_input": "2022-12-21T16:11:50.4454Z",
          "iopub.status.busy": "2022-12-21T16:11:50.445021Z",
          "iopub.status.idle": "2022-12-21T16:11:51.054317Z",
          "shell.execute_reply": "2022-12-21T16:11:51.053267Z",
          "shell.execute_reply.started": "2022-12-21T16:11:50.445367Z"
        },
        "id": "ta8zDzpApYgV"
      },
      "outputs": [],
      "source": [
        "conv_lstm = build_conv_lstm(xtrain2.shape[1:],ytrain2.shape[1])"
      ]
    },
    {
      "cell_type": "code",
      "execution_count": 86,
      "metadata": {
        "execution": {
          "iopub.execute_input": "2022-12-21T16:11:51.056688Z",
          "iopub.status.busy": "2022-12-21T16:11:51.056289Z",
          "iopub.status.idle": "2022-12-21T16:11:51.066264Z",
          "shell.execute_reply": "2022-12-21T16:11:51.065006Z",
          "shell.execute_reply.started": "2022-12-21T16:11:51.056627Z"
        },
        "id": "pmF4ssLjpYgV",
        "outputId": "074e5c0c-cbef-4ae4-efef-b67da229c48d",
        "colab": {
          "base_uri": "https://localhost:8080/"
        }
      },
      "outputs": [
        {
          "output_type": "stream",
          "name": "stdout",
          "text": [
            "Model: \"model_5\"\n",
            "_________________________________________________________________\n",
            " Layer (type)                Output Shape              Param #   \n",
            "=================================================================\n",
            " input_1 (InputLayer)        [(None, 50, 9)]           0         \n",
            "                                                                 \n",
            " Conv1D_1 (Conv1D)           (None, 50, 36)            684       \n",
            "                                                                 \n",
            " layernorm_1 (LayerNormaliza  (None, 50, 36)           72        \n",
            " tion)                                                           \n",
            "                                                                 \n",
            " dropout_10 (Dropout)        (None, 50, 36)            0         \n",
            "                                                                 \n",
            " Conv1D_2 (Conv1D)           (None, 50, 144)           10512     \n",
            "                                                                 \n",
            " layernorm_2 (LayerNormaliza  (None, 50, 144)          288       \n",
            " tion)                                                           \n",
            "                                                                 \n",
            " max_pooling1d_2 (MaxPooling  (None, 25, 144)          0         \n",
            " 1D)                                                             \n",
            "                                                                 \n",
            " Conv1D_3 (Conv1D)           (None, 25, 288)           83232     \n",
            "                                                                 \n",
            " layernorm_3 (LayerNormaliza  (None, 25, 288)          576       \n",
            " tion)                                                           \n",
            "                                                                 \n",
            " max_pooling1d_3 (MaxPooling  (None, 12, 288)          0         \n",
            " 1D)                                                             \n",
            "                                                                 \n",
            " dropout_11 (Dropout)        (None, 12, 288)           0         \n",
            "                                                                 \n",
            " Conv1D_4 (Conv1D)           (None, 12, 512)           295424    \n",
            "                                                                 \n",
            " layernorm_4 (LayerNormaliza  (None, 12, 512)          1024      \n",
            " tion)                                                           \n",
            "                                                                 \n",
            " max_pooling1d_4 (MaxPooling  (None, 6, 512)           0         \n",
            " 1D)                                                             \n",
            "                                                                 \n",
            " Conv1D_5 (Conv1D)           (None, 6, 288)            295200    \n",
            "                                                                 \n",
            " layernorm_5 (LayerNormaliza  (None, 6, 288)           576       \n",
            " tion)                                                           \n",
            "                                                                 \n",
            " max_pooling1d_5 (MaxPooling  (None, 3, 288)           0         \n",
            " 1D)                                                             \n",
            "                                                                 \n",
            " dropout_12 (Dropout)        (None, 3, 288)            0         \n",
            "                                                                 \n",
            " Conv1D_6 (Conv1D)           (None, 3, 144)            83088     \n",
            "                                                                 \n",
            " layernorm_6 (LayerNormaliza  (None, 3, 144)           288       \n",
            " tion)                                                           \n",
            "                                                                 \n",
            " max_pooling1d_6 (MaxPooling  (None, 1, 144)           0         \n",
            " 1D)                                                             \n",
            "                                                                 \n",
            " lstm_1 (LSTM)               (None, 1, 144)            166464    \n",
            "                                                                 \n",
            " dropout_13 (Dropout)        (None, 1, 144)            0         \n",
            "                                                                 \n",
            " lstm_2 (LSTM)               (None, 24)                16224     \n",
            "                                                                 \n",
            " dropout_14 (Dropout)        (None, 24)                0         \n",
            "                                                                 \n",
            " dense_1 (Dense)             (None, 24)                600       \n",
            "                                                                 \n",
            " dense_2 (Dense)             (None, 72)                1800      \n",
            "                                                                 \n",
            " dense_3 (Dense)             (None, 4)                 292       \n",
            "                                                                 \n",
            "=================================================================\n",
            "Total params: 956,344\n",
            "Trainable params: 956,344\n",
            "Non-trainable params: 0\n",
            "_________________________________________________________________\n"
          ]
        }
      ],
      "source": [
        "conv_lstm.summary()"
      ]
    },
    {
      "cell_type": "code",
      "execution_count": 87,
      "metadata": {
        "execution": {
          "iopub.execute_input": "2022-12-21T16:12:17.567982Z",
          "iopub.status.busy": "2022-12-21T16:12:17.56762Z",
          "iopub.status.idle": "2022-12-21T16:12:28.894071Z",
          "shell.execute_reply": "2022-12-21T16:12:28.893084Z",
          "shell.execute_reply.started": "2022-12-21T16:12:17.567951Z"
        },
        "id": "-8Xf1NY_pYgV",
        "outputId": "1e102c02-0d31-4fef-d417-b237ba6d826b",
        "colab": {
          "base_uri": "https://localhost:8080/"
        }
      },
      "outputs": [
        {
          "output_type": "stream",
          "name": "stdout",
          "text": [
            "Epoch 1/30\n",
            "414/414 [==============================] - 18s 18ms/step - loss: 0.8133 - accuracy: 0.6810 - val_loss: 0.7244 - val_accuracy: 0.7148\n",
            "Epoch 2/30\n",
            "414/414 [==============================] - 7s 16ms/step - loss: 0.6636 - accuracy: 0.7370 - val_loss: 0.5746 - val_accuracy: 0.7700\n",
            "Epoch 3/30\n",
            "414/414 [==============================] - 6s 14ms/step - loss: 0.5933 - accuracy: 0.7674 - val_loss: 0.5765 - val_accuracy: 0.7788\n",
            "Epoch 4/30\n",
            "414/414 [==============================] - 7s 16ms/step - loss: 0.5509 - accuracy: 0.7868 - val_loss: 0.4675 - val_accuracy: 0.8193\n",
            "Epoch 5/30\n",
            "414/414 [==============================] - 6s 14ms/step - loss: 0.5210 - accuracy: 0.8012 - val_loss: 0.4540 - val_accuracy: 0.8271\n",
            "Epoch 6/30\n",
            "414/414 [==============================] - 7s 16ms/step - loss: 0.4968 - accuracy: 0.8133 - val_loss: 0.4289 - val_accuracy: 0.8327\n",
            "Epoch 7/30\n",
            "414/414 [==============================] - 6s 14ms/step - loss: 0.4805 - accuracy: 0.8203 - val_loss: 0.4110 - val_accuracy: 0.8416\n",
            "Epoch 8/30\n",
            "414/414 [==============================] - 7s 17ms/step - loss: 0.4680 - accuracy: 0.8248 - val_loss: 0.4039 - val_accuracy: 0.8429\n",
            "Epoch 9/30\n",
            "414/414 [==============================] - 6s 14ms/step - loss: 0.4346 - accuracy: 0.8414 - val_loss: 0.3571 - val_accuracy: 0.8588\n",
            "Epoch 10/30\n",
            "414/414 [==============================] - 7s 16ms/step - loss: 0.4123 - accuracy: 0.8491 - val_loss: 0.3664 - val_accuracy: 0.8619\n",
            "Epoch 11/30\n",
            "414/414 [==============================] - 6s 15ms/step - loss: 0.3911 - accuracy: 0.8554 - val_loss: 0.3189 - val_accuracy: 0.8827\n",
            "Epoch 12/30\n",
            "414/414 [==============================] - 7s 17ms/step - loss: 0.3892 - accuracy: 0.8574 - val_loss: 0.3142 - val_accuracy: 0.8770\n",
            "Epoch 13/30\n",
            "414/414 [==============================] - 6s 15ms/step - loss: 0.3626 - accuracy: 0.8674 - val_loss: 0.3146 - val_accuracy: 0.8821\n",
            "Epoch 14/30\n",
            "414/414 [==============================] - 7s 16ms/step - loss: 0.3590 - accuracy: 0.8698 - val_loss: 0.2864 - val_accuracy: 0.8935\n",
            "Epoch 15/30\n",
            "414/414 [==============================] - 6s 15ms/step - loss: 0.3393 - accuracy: 0.8775 - val_loss: 0.2684 - val_accuracy: 0.8958\n",
            "Epoch 16/30\n",
            "414/414 [==============================] - 7s 17ms/step - loss: 0.3289 - accuracy: 0.8823 - val_loss: 0.2592 - val_accuracy: 0.9044\n",
            "Epoch 17/30\n",
            "414/414 [==============================] - 6s 15ms/step - loss: 0.3207 - accuracy: 0.8844 - val_loss: 0.2634 - val_accuracy: 0.8993\n",
            "Epoch 18/30\n",
            "414/414 [==============================] - 6s 15ms/step - loss: 0.3127 - accuracy: 0.8887 - val_loss: 0.2542 - val_accuracy: 0.9007\n",
            "Epoch 19/30\n",
            "414/414 [==============================] - 6s 15ms/step - loss: 0.2978 - accuracy: 0.8941 - val_loss: 0.2531 - val_accuracy: 0.9073\n",
            "Epoch 20/30\n",
            "414/414 [==============================] - 6s 14ms/step - loss: 0.2911 - accuracy: 0.8971 - val_loss: 0.2476 - val_accuracy: 0.9058\n",
            "Epoch 21/30\n",
            "414/414 [==============================] - 7s 16ms/step - loss: 0.2818 - accuracy: 0.9008 - val_loss: 0.2472 - val_accuracy: 0.9065\n",
            "Epoch 22/30\n",
            "414/414 [==============================] - 6s 14ms/step - loss: 0.2797 - accuracy: 0.9008 - val_loss: 0.2394 - val_accuracy: 0.9125\n",
            "Epoch 23/30\n",
            "414/414 [==============================] - 7s 16ms/step - loss: 0.2729 - accuracy: 0.9036 - val_loss: 0.2229 - val_accuracy: 0.9156\n",
            "Epoch 24/30\n",
            "414/414 [==============================] - 6s 14ms/step - loss: 0.2713 - accuracy: 0.9038 - val_loss: 0.2175 - val_accuracy: 0.9194\n",
            "Epoch 25/30\n",
            "414/414 [==============================] - 7s 16ms/step - loss: 0.2635 - accuracy: 0.9058 - val_loss: 0.2377 - val_accuracy: 0.9110\n",
            "Epoch 26/30\n",
            "414/414 [==============================] - 6s 15ms/step - loss: 0.2613 - accuracy: 0.9088 - val_loss: 0.2286 - val_accuracy: 0.9118\n",
            "Epoch 27/30\n",
            "414/414 [==============================] - 7s 17ms/step - loss: 0.2507 - accuracy: 0.9114 - val_loss: 0.2134 - val_accuracy: 0.9206\n",
            "Epoch 28/30\n",
            "414/414 [==============================] - 6s 15ms/step - loss: 0.2480 - accuracy: 0.9133 - val_loss: 0.2174 - val_accuracy: 0.9211\n",
            "Epoch 29/30\n",
            "414/414 [==============================] - 7s 16ms/step - loss: 0.2420 - accuracy: 0.9134 - val_loss: 0.2111 - val_accuracy: 0.9217\n",
            "Epoch 30/30\n",
            "414/414 [==============================] - 6s 14ms/step - loss: 0.2352 - accuracy: 0.9163 - val_loss: 0.2048 - val_accuracy: 0.9243\n"
          ]
        }
      ],
      "source": [
        "conv_lstm.compile(loss = 'categorical_crossentropy',optimizer='Adam',metrics=['accuracy'])\n",
        "conv_lstm_history = conv_lstm.fit(\n",
        "    xtrain2,\n",
        "    ytrain2,\n",
        "    validation_data = (\n",
        "        xval2,\n",
        "        yval2\n",
        "    ),\n",
        "    epochs = 30,\n",
        "    batch_size = 100,\n",
        ")"
      ]
    },
    {
      "cell_type": "code",
      "execution_count": 88,
      "metadata": {
        "execution": {
          "iopub.execute_input": "2022-12-21T16:12:30.978883Z",
          "iopub.status.busy": "2022-12-21T16:12:30.978495Z",
          "iopub.status.idle": "2022-12-21T16:12:31.331706Z",
          "shell.execute_reply": "2022-12-21T16:12:31.330576Z",
          "shell.execute_reply.started": "2022-12-21T16:12:30.978853Z"
        },
        "id": "arr4l8-YpYgV",
        "outputId": "3abd5240-36c3-4b2d-eab5-a54cf72e90b9",
        "colab": {
          "base_uri": "https://localhost:8080/",
          "height": 377
        }
      },
      "outputs": [
        {
          "output_type": "display_data",
          "data": {
            "text/plain": [
              "<Figure size 1080x432 with 2 Axes>"
            ],
            "image/png": "[encoded data removed]"
          },
          "metadata": {}
        }
      ],
      "source": [
        "plt.figure(figsize = (15,6))\n",
        "plt.subplot(1,2,1)\n",
        "plt.plot(conv_lstm_history.history['accuracy'])\n",
        "plt.plot(conv_lstm_history.history['val_accuracy'])\n",
        "plt.subplot(1,2,2)\n",
        "plt.plot(conv_lstm_history.history['loss'])\n",
        "plt.plot(conv_lstm_history.history['val_loss'])\n",
        "plt.show()"
      ]
    },
    {
      "cell_type": "code",
      "execution_count": 89,
      "metadata": {
        "execution": {
          "iopub.execute_input": "2022-12-21T16:12:33.786458Z",
          "iopub.status.busy": "2022-12-21T16:12:33.786088Z",
          "iopub.status.idle": "2022-12-21T16:12:34.740449Z",
          "shell.execute_reply": "2022-12-21T16:12:34.739477Z",
          "shell.execute_reply.started": "2022-12-21T16:12:33.786426Z"
        },
        "id": "WjUNmD3QpYgV",
        "outputId": "e7b132bf-4286-4229-fceb-2021daf14d8f",
        "colab": {
          "base_uri": "https://localhost:8080/"
        }
      },
      "outputs": [
        {
          "output_type": "stream",
          "name": "stdout",
          "text": [
            "269/269 [==============================] - 3s 6ms/step\n"
          ]
        }
      ],
      "source": [
        "ypred = conv_lstm.predict(xtest2)\n",
        "ytemp = []\n",
        "for i in ypred:\n",
        "    pred = [0]*(ytrain2.shape[1])\n",
        "    pred[np.argmax(i)] = 1\n",
        "    ytemp.append(pred)\n",
        "ypred = np.array(ytemp)"
      ]
    },
    {
      "cell_type": "code",
      "execution_count": 90,
      "metadata": {
        "execution": {
          "iopub.execute_input": "2022-12-21T16:12:36.202003Z",
          "iopub.status.busy": "2022-12-21T16:12:36.201288Z",
          "iopub.status.idle": "2022-12-21T16:12:36.212723Z",
          "shell.execute_reply": "2022-12-21T16:12:36.211601Z",
          "shell.execute_reply.started": "2022-12-21T16:12:36.201966Z"
        },
        "id": "2e3hapkIpYgV",
        "outputId": "36695199-7503-4556-f398-32411379e3f6",
        "colab": {
          "base_uri": "https://localhost:8080/"
        }
      },
      "outputs": [
        {
          "output_type": "stream",
          "name": "stdout",
          "text": [
            "test accuracy =  92.00605073306959\n"
          ]
        }
      ],
      "source": [
        "# Testing accuracy\n",
        "\n",
        "cnt = 0\n",
        "for i in range(len(ypred)):\n",
        "    if (ypred[i] == ytest2[i]).all() : cnt += 1\n",
        "        \n",
        "print('test accuracy = ',cnt / len(ypred) * 100)"
      ]
    },
    {
      "cell_type": "code",
      "source": [
        "test_cm = confusion_matrix(ytest2.argmax(axis = 1),ypred.argmax(axis = 1))"
      ],
      "metadata": {
        "id": "nV83OZXoEvbi"
      },
      "execution_count": 91,
      "outputs": []
    },
    {
      "cell_type": "code",
      "source": [
        "accuracy_per_class = np.diag(test_cm) / np.sum(test_cm, axis=1)\n",
        "\n",
        "print(\"Accuracy per class:\", accuracy_per_class)"
      ],
      "metadata": {
        "colab": {
          "base_uri": "https://localhost:8080/"
        },
        "id": "tmqOM117lFLG",
        "outputId": "96101d8c-6723-417c-f274-505752b2cd22"
      },
      "execution_count": 92,
      "outputs": [
        {
          "output_type": "stream",
          "name": "stdout",
          "text": [
            "Accuracy per class: [0.94832894 0.88763494 0.88077336 0.89600743]\n"
          ]
        }
      ]
    },
    {
      "cell_type": "code",
      "execution_count": 93,
      "metadata": {
        "execution": {
          "iopub.execute_input": "2022-12-21T16:12:37.514981Z",
          "iopub.status.busy": "2022-12-21T16:12:37.514621Z",
          "iopub.status.idle": "2022-12-21T16:12:37.781598Z",
          "shell.execute_reply": "2022-12-21T16:12:37.780495Z",
          "shell.execute_reply.started": "2022-12-21T16:12:37.51495Z"
        },
        "id": "wcwz3f6spYgW",
        "outputId": "e1ac0287-f57b-4e9a-cdc9-a63cef9aa04a",
        "colab": {
          "base_uri": "https://localhost:8080/",
          "height": 590
        }
      },
      "outputs": [
        {
          "output_type": "execute_result",
          "data": {
            "text/plain": [
              "<matplotlib.axes._subplots.AxesSubplot at 0x7f31f13a9cd0>"
            ]
          },
          "metadata": {},
          "execution_count": 93
        },
        {
          "output_type": "display_data",
          "data": {
            "text/plain": [
              "<Figure size 921.6x691.2 with 2 Axes>"
            ],
            "image/png": "[encoded data removed]"
          },
          "metadata": {}
        }
      ],
      "source": [
        "sb.set(rc = {'figure.figsize':(12.8,9.6)})\n",
        "sb.heatmap(test_cm,annot = True, cmap = 'YlOrRd')"
      ]
    },
    {
      "cell_type": "code",
      "execution_count": 94,
      "metadata": {
        "execution": {
          "iopub.execute_input": "2022-12-21T16:12:39.600492Z",
          "iopub.status.busy": "2022-12-21T16:12:39.600074Z",
          "iopub.status.idle": "2022-12-21T16:12:39.614242Z",
          "shell.execute_reply": "2022-12-21T16:12:39.613078Z",
          "shell.execute_reply.started": "2022-12-21T16:12:39.600444Z"
        },
        "id": "dP8LepgGpYgW",
        "outputId": "7fcd3771-6a34-490d-837f-771e355dd675",
        "colab": {
          "base_uri": "https://localhost:8080/"
        }
      },
      "outputs": [
        {
          "output_type": "stream",
          "name": "stdout",
          "text": [
            "              precision    recall  f1-score   support\n",
            "\n",
            "           0       0.95      0.95      0.95      4548\n",
            "           1       0.89      0.89      0.89      2038\n",
            "           2       0.86      0.88      0.87       931\n",
            "           3       0.90      0.90      0.90      1077\n",
            "\n",
            "    accuracy                           0.92      8594\n",
            "   macro avg       0.90      0.90      0.90      8594\n",
            "weighted avg       0.92      0.92      0.92      8594\n",
            "\n"
          ]
        }
      ],
      "source": [
        "print(sklearn.metrics.classification_report(ytest2.argmax(axis = 1),ypred.argmax(axis = 1)))"
      ]
    },
    {
      "cell_type": "code",
      "execution_count": 95,
      "metadata": {
        "id": "202CiS0tpYgW",
        "outputId": "018fcd4d-72ef-4470-9a02-2a17e398ca87",
        "colab": {
          "base_uri": "https://localhost:8080/"
        }
      },
      "outputs": [
        {
          "output_type": "stream",
          "name": "stdout",
          "text": [
            "for task 20 the accuracy is: 90.52287581699346\n",
            "for task 21 the accuracy is: 59.45945945945946\n",
            "for task 22 the accuracy is: 90.70631970260223\n",
            "for task 23 the accuracy is: 88.88888888888889\n",
            "for task 24 the accuracy is: 86.79245283018868\n",
            "for task 25 the accuracy is: 95.7957957957958\n",
            "for task 26 the accuracy is: 92.22972972972973\n",
            "for task 27 the accuracy is: 100.0\n",
            "for task 28 the accuracy is: 89.04109589041096\n",
            "for task 29 the accuracy is: 94.6360153256705\n",
            "for task 30 the accuracy is: 82.18181818181817\n",
            "for task 31 the accuracy is: 90.6614785992218\n",
            "for task 32 the accuracy is: 82.5278810408922\n",
            "for task 33 the accuracy is: 88.25910931174089\n",
            "for task 34 the accuracy is: 91.12903225806451\n"
          ]
        }
      ],
      "source": [
        "cnt = np.zeros(len(tasks))\n",
        "cnt_t = np.zeros(len(tasks))\n",
        "\n",
        "for i in range (len(ypred)):\n",
        "    for j in range(len(tasks)):\n",
        "        if ztest2[i]==tasks[j]:\n",
        "            cnt_t[j] += 1\n",
        "            if (ypred[i] == ytest2[i]).all():\n",
        "                cnt[j] +=1\n",
        "\n",
        "for j in range(len(tasks)):\n",
        "    c = cnt[j]/cnt_t[j]*100\n",
        "    print(\"for task \" + str(tasks[j]) + \" the accuracy is: \" + str(c))\n",
        "            "
      ]
    },
    {
      "cell_type": "code",
      "execution_count": 102,
      "metadata": {
        "id": "IfHVqA-9pYgW"
      },
      "outputs": [],
      "source": []
    }
  ],
  "metadata": {
    "kernelspec": {
      "display_name": "Python 3 (ipykernel)",
      "language": "python",
      "name": "python3"
    },
    "language_info": {
      "codemirror_mode": {
        "name": "ipython",
        "version": 3
      },
      "file_extension": ".py",
      "mimetype": "text/x-python",
      "name": "python",
      "nbconvert_exporter": "python",
      "pygments_lexer": "ipython3",
      "version": "3.9.12"
    },
    "colab": {
      "provenance": []
    },
    "accelerator": "GPU",
    "gpuClass": "standard"
  },
  "nbformat": 4,
  "nbformat_minor": 0
}